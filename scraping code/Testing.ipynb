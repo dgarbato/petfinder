{
 "cells": [
  {
   "cell_type": "code",
   "execution_count": 2,
   "metadata": {},
   "outputs": [],
   "source": [
    "from selenium import webdriver\n",
    "import time\n",
    "import re\n",
    "import csv"
   ]
  },
  {
   "cell_type": "code",
   "execution_count": 23,
   "metadata": {},
   "outputs": [],
   "source": [
    "driver=webdriver.Chrome(r'C:\\Users\\dgarb\\OneDrive\\Documents\\Data Science Bootcamp April\\Python\\lecture notes\\Selenium\\chromedriver_win32\\chromedriver.exe')"
   ]
  },
  {
   "cell_type": "code",
   "execution_count": 24,
   "metadata": {},
   "outputs": [
    {
     "data": {
      "text/plain": [
       "''"
      ]
     },
     "execution_count": 24,
     "metadata": {},
     "output_type": "execute_result"
    }
   ],
   "source": [
    "first_page =r'https://www.petfinder.com/search/cats-for-adoption/us/ny/new-york-city/?attribute%5B0%5D=House+trained&days_on_petfinder=7&distance=25&include_transportable=0'\n",
    "driver.get(first_page)\n",
    "#pop_up_x_button = driver.find_element_by_xpath('/*[@id=\"854e3f7de6c736e6afbde6b915f9a8f6\"]/button')\n",
    "#pop_up_x_button.click()\n",
    "\n",
    "\n",
    "csv_file = open('reviews.csv', 'w', encoding='utf-8', newline='')\n",
    "writer = csv.writer(csv_file)\n",
    "\n",
    "time.sleep(2)\n",
    "page_info = driver.find_element_by_xpath('//*[@id=\"page-select_List_Box_Btn\"]/div/div[1]').text\n",
    "page_info "
   ]
  },
  {
   "cell_type": "code",
   "execution_count": null,
   "metadata": {},
   "outputs": [],
   "source": [
    "#pop_up_x_button = driver.find_element_by_xpath('/*[@id=\"854e3f7de6c736e6afbde6b915f9a8f6\"]/button')"
   ]
  },
  {
   "cell_type": "code",
   "execution_count": 22,
   "metadata": {},
   "outputs": [
    {
     "data": {
      "text/plain": [
       "'PAGE 1/6'"
      ]
     },
     "execution_count": 22,
     "metadata": {},
     "output_type": "execute_result"
    }
   ],
   "source": [
    "page_info = driver.find_element_by_xpath('//*[@id=\"page-select_List_Box_Btn\"]/div/div[1]').text\n",
    "page_info "
   ]
  },
  {
   "cell_type": "code",
   "execution_count": 7,
   "metadata": {},
   "outputs": [
    {
     "name": "stdout",
     "output_type": "stream",
     "text": [
      "page_info:  PAGE 1/6\n"
     ]
    }
   ],
   "source": [
    "print('page_info: ',page_info)"
   ]
  },
  {
   "cell_type": "code",
   "execution_count": 10,
   "metadata": {},
   "outputs": [
    {
     "name": "stdout",
     "output_type": "stream",
     "text": [
      "pages  ['1', '6']\n"
     ]
    }
   ],
   "source": [
    "pages = re.findall('[0-9]+',page_info)\n",
    "print('pages ',pages)"
   ]
  },
  {
   "cell_type": "code",
   "execution_count": 11,
   "metadata": {},
   "outputs": [
    {
     "name": "stdout",
     "output_type": "stream",
     "text": [
      "start_page:  1 ***** end_page:  6\n"
     ]
    }
   ],
   "source": [
    "start_page = int(pages[0])\n",
    "end_page = int(pages[1])\n",
    "print('start_page: ',start_page,'*****','end_page: ',end_page)\n"
   ]
  }
 ],
 "metadata": {
  "kernelspec": {
   "display_name": "Python 3",
   "language": "python",
   "name": "python3"
  },
  "language_info": {
   "codemirror_mode": {
    "name": "ipython",
    "version": 3
   },
   "file_extension": ".py",
   "mimetype": "text/x-python",
   "name": "python",
   "nbconvert_exporter": "python",
   "pygments_lexer": "ipython3",
   "version": "3.8.5"
  }
 },
 "nbformat": 4,
 "nbformat_minor": 4
}
