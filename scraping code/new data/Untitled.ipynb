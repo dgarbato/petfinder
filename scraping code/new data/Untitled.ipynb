{
 "cells": [
  {
   "cell_type": "code",
   "execution_count": null,
   "metadata": {},
   "outputs": [],
   "source": [
    "def create(file,type):\n",
    "    def read_pet(file):\n",
    "        \n",
    "        name = pd.read_csv(file,\n",
    "                   names=['cat_name', 'num_images', 'num_videos', 'age', 'breed',\n",
    "                          'color', 'size', 'sex', 'characteristics', 'blank_coat_length',\n",
    "                          'house_trained', 'health', 'good_in_a_home_with', 'adoption_fee',\n",
    "                          'prefers_a_home_without', 'coat_length', 'pet_story_num_words',\n",
    "                          'rescue_group', 'days_on_petfinder', 'special_needs']\n",
    "                          )\n",
    "        name['data_set'] = type\n",
    "        name2 = name\n",
    "        \n",
    "        return(name2)\n",
    "        "
   ]
  }
 ],
 "metadata": {
  "kernelspec": {
   "display_name": "Python 3",
   "language": "python",
   "name": "python3"
  },
  "language_info": {
   "codemirror_mode": {
    "name": "ipython",
    "version": 3
   },
   "file_extension": ".py",
   "mimetype": "text/x-python",
   "name": "python",
   "nbconvert_exporter": "python",
   "pygments_lexer": "ipython3",
   "version": "3.8.5"
  }
 },
 "nbformat": 4,
 "nbformat_minor": 4
}
