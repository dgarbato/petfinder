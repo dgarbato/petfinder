{
 "cells": [
  {
   "cell_type": "code",
   "execution_count": null,
   "metadata": {},
   "outputs": [],
   "source": [
    "m_than_one = df_all.loc[df_all['cat_name'].str.contains('&| and ',case=False)]\n",
    "m_than_one\n",
    "df_all['more_than_1_cat'] = df_all['cat_name'].apply(lambda x:  x in m_than_one['cat_name'].to_list())\n",
    "df_all['more_than_1_cat'].value_counts()\n",
    "\n",
    "and1 = [True if 'and' in cat.split() else False for cat in df_all['cat_name']]\n",
    "print('and1 ',len(and1))\n",
    "\n",
    "\n",
    "and2 = [True if '&' in cat.split() else False for cat in df_all['cat_name']]\n",
    "print('and2 ',len(and2))\n",
    "\n",
    "df_all['and1']=pd.Series(and1)\n",
    "df_all['and2']=pd.Series(and2)\n",
    "mtn=(np.logical_or(df_all['and1'],df_all['and2']))\n",
    "print('mtn ', len(mtn))\n",
    "df_all['more_than_.\n",
    "       \n",
    "       \n",
    "print(proc_freq(df_all,'and1'))\n",
    "print(' ')\n",
    "print(proc_freq(df_all,'and2'))\n",
    "print(' ')\n",
    "print(proc_freq(df_all,'mtn'))"
   ]
  },
  {
   "cell_type": "code",
   "execution_count": null,
   "metadata": {},
   "outputs": [],
   "source": []
  },
  {
   "cell_type": "code",
   "execution_count": null,
   "metadata": {},
   "outputs": [],
   "source": []
  }
 ],
 "metadata": {
  "kernelspec": {
   "display_name": "Python 3",
   "language": "python",
   "name": "python3"
  },
  "language_info": {
   "codemirror_mode": {
    "name": "ipython",
    "version": 3
   },
   "file_extension": ".py",
   "mimetype": "text/x-python",
   "name": "python",
   "nbconvert_exporter": "python",
   "pygments_lexer": "ipython3",
   "version": "3.8.5"
  }
 },
 "nbformat": 4,
 "nbformat_minor": 4
}
