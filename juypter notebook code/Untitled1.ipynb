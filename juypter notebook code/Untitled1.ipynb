{
 "cells": [
  {
   "cell_type": "code",
   "execution_count": null,
   "metadata": {},
   "outputs": [],
   "source": [
    "how to make all graphs the same size\n",
    "simple bar graph"
   ]
  },
  {
   "cell_type": "code",
   "execution_count": 5,
   "metadata": {},
   "outputs": [
    {
     "name": "stdout",
     "output_type": "stream",
     "text": [
      "  investors     variable  value\n",
      "0     first       stocks     23\n",
      "1    second       stocks    123\n",
      "2     third       stocks     54\n",
      "3     first        bonds     54\n",
      "4    second        bonds     67\n",
      "5     third        bonds    123\n",
      "6     first  real estate     45\n",
      "7    second  real estate    243\n",
      "8     third  real estate     23\n"
     ]
    },
    {
     "data": {
      "image/png": "[encoded data removed]",
      "text/plain": [
       "<Figure size 360x360 with 1 Axes>"
      ]
     },
     "metadata": {
      "needs_background": "light"
     },
     "output_type": "display_data"
    }
   ],
   "source": [
    "# import libraries\n",
    "%matplotlib inline\n",
    "import seaborn as sns\n",
    "import matplotlib.pyplot as plt\n",
    "import pandas as pd\n",
    "\n",
    "dfs = pd.DataFrame(data={'investors': ['first','second','third'], \n",
    "                         'stocks': [23, 123, 54], \n",
    "                         'bonds': [54, 67, 123], \n",
    "                         'real estate': [45, 243, 23]})\n",
    "\n",
    "dfs1 = pd.melt(dfs, id_vars = \"investors\")\n",
    "\n",
    "print(dfs1)\n",
    "\n",
    "  \n",
    "\n",
    "sns.catplot(x = 'investors', y='value', \n",
    "               hue = 'investors',data=dfs1, kind='bar')\n",
    "plt.show()"
   ]
  },
  {
   "cell_type": "code",
   "execution_count": 7,
   "metadata": {},
   "outputs": [
    {
     "data": {
      "text/plain": [
       "array([ -0.49904323,   5.56765738,  -9.10599203,   7.77041647,\n",
       "         1.08342338,  -1.71232619,  -1.93393083,  11.3230918 ,\n",
       "       -11.28903405,   4.97334036,  -3.47804519,  -2.01380091,\n",
       "         1.17336768,   4.48218623,  -0.84220688, -13.2017833 ,\n",
       "         4.5373034 ,  -0.27512596,   2.00136166,  -4.76477943,\n",
       "         6.89459084,   1.37830862,   0.86986399,   3.45910143,\n",
       "       -12.13120672,  -6.64960654,   3.25307003,  -2.19101128,\n",
       "        -3.08668263,  -6.12487296,   5.36526025,  13.53605499,\n",
       "        -4.76316985,  13.14949039,  -6.78890816,   0.65716697,\n",
       "         2.60078185,  -2.28574676,   8.43659839,   4.50901348,\n",
       "        -4.89974571,   2.02201678,  -7.69227073,   2.65440421,\n",
       "        -5.38857569,   4.08291246,  11.58301867,   0.37728976,\n",
       "        -4.04000403,  -9.23157998,   8.36743438,  -1.42262739,\n",
       "         8.38563706, -15.50327742,  -5.06215835,  11.68706032,\n",
       "         5.04730889,   2.94350865, -13.30326792,  -5.44489639,\n",
       "        -7.76340158,   4.9304289 ,  -5.22650965,  -6.32909204,\n",
       "         2.78604654,  -0.67035035,  12.97702882, -11.89001461,\n",
       "         1.84490969,   4.68178835,   1.82826932,  13.5431308 ,\n",
       "         0.04562093, -12.21858157,  -2.40627979,  -3.79868798,\n",
       "         2.94097117,   3.26525883,   0.95367956, -12.26886939,\n",
       "         1.70358989,   4.72417195, -15.44932277, -11.00844936,\n",
       "        -4.94251971,   0.19932222,  -5.89449428,   2.34106082,\n",
       "        -3.33416545, -11.17297014,  -0.54437768,  -5.28006008,\n",
       "         4.94300663,   4.47727249,   0.69041544,   1.10299688,\n",
       "        -1.71439   ,  -7.48257279,   9.68502766,   7.88303555])"
      ]
     },
     "execution_count": 7,
     "metadata": {},
     "output_type": "execute_result"
    }
   ],
   "source": [
    "import numpy as np\n",
    "data1 = np.random.normal(0, 6, 100)\n",
    "data1"
   ]
  }
 ],
 "metadata": {
  "kernelspec": {
   "display_name": "Python 3",
   "language": "python",
   "name": "python3"
  },
  "language_info": {
   "codemirror_mode": {
    "name": "ipython",
    "version": 3
   },
   "file_extension": ".py",
   "mimetype": "text/x-python",
   "name": "python",
   "nbconvert_exporter": "python",
   "pygments_lexer": "ipython3",
   "version": "3.8.5"
  }
 },
 "nbformat": 4,
 "nbformat_minor": 4
}
