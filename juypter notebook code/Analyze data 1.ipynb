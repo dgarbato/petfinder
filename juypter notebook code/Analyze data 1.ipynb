{
 "cells": [
  {
   "cell_type": "markdown",
   "metadata": {},
   "source": [
    "import libraries and set style for matplotlib"
   ]
  },
  {
   "cell_type": "code",
   "execution_count": 13,
   "metadata": {},
   "outputs": [],
   "source": [
    "import pandas as pd\n",
    "import numpy as np\n",
    "from matplotlib import pyplot as plt\n",
    "%matplotlib inline\n",
    "\n",
    "pd.set_option('display.max_rows', 200)\n",
    "\n",
    "#print(plt.style.available)\n",
    "#plt.style.use('default')\n",
    "\n",
    "#plt.style.use(\"seaborn\")\n",
    "plt.style.use(\"tableau-colorblind10\")"
   ]
  },
  {
   "cell_type": "markdown",
   "metadata": {},
   "source": [
    "Read in data"
   ]
  },
  {
   "cell_type": "code",
   "execution_count": 139,
   "metadata": {},
   "outputs": [
    {
     "name": "stdout",
     "output_type": "stream",
     "text": [
      "<class 'pandas.core.frame.DataFrame'>\n",
      "RangeIndex: 2138 entries, 0 to 2137\n",
      "Data columns (total 20 columns):\n",
      " #   Column                  Non-Null Count  Dtype  \n",
      "---  ------                  --------------  -----  \n",
      " 0   Unnamed: 0              2138 non-null   int64  \n",
      " 1   cat_name                2138 non-null   object \n",
      " 2   num_images              2138 non-null   int64  \n",
      " 3   num_videos              2138 non-null   int64  \n",
      " 4   age                     2138 non-null   object \n",
      " 5   breed                   2138 non-null   object \n",
      " 6   color                   1825 non-null   object \n",
      " 7   size                    2138 non-null   object \n",
      " 8   sex                     2138 non-null   object \n",
      " 9   characteristics         844 non-null    object \n",
      " 10  house_trained           2125 non-null   object \n",
      " 11  health                  2073 non-null   object \n",
      " 12  good_in_a_home_with     1337 non-null   object \n",
      " 13  adoption_fee            379 non-null    object \n",
      " 14  prefers_a_home_without  327 non-null    object \n",
      " 15  coat_length             1480 non-null   object \n",
      " 16  pet_story_num_words     2084 non-null   float64\n",
      " 17  rescue_group            2138 non-null   object \n",
      " 18  data_set                2138 non-null   object \n",
      " 19  num_cats                2138 non-null   int64  \n",
      "dtypes: float64(1), int64(4), object(15)\n",
      "memory usage: 334.2+ KB\n"
     ]
    }
   ],
   "source": [
    "df_all=pd.read_csv(r'C:\\Users\\dgarb\\OneDrive\\Documents\\Data Science Bootcamp April\\Python\\web_scraping_project\\data prepared for analysis\\out_all.csv')\n",
    "df_all.info()"
   ]
  },
  {
   "cell_type": "code",
   "execution_count": 148,
   "metadata": {},
   "outputs": [
    {
     "data": {
      "text/html": [
       "<div>\n",
       "<style scoped>\n",
       "    .dataframe tbody tr th:only-of-type {\n",
       "        vertical-align: middle;\n",
       "    }\n",
       "\n",
       "    .dataframe tbody tr th {\n",
       "        vertical-align: top;\n",
       "    }\n",
       "\n",
       "    .dataframe thead th {\n",
       "        text-align: right;\n",
       "    }\n",
       "</style>\n",
       "<table border=\"1\" class=\"dataframe\">\n",
       "  <thead>\n",
       "    <tr style=\"text-align: right;\">\n",
       "      <th></th>\n",
       "      <th>Unnamed: 0</th>\n",
       "      <th>cat_name</th>\n",
       "      <th>num_images</th>\n",
       "      <th>num_videos</th>\n",
       "      <th>age</th>\n",
       "      <th>breed</th>\n",
       "      <th>color</th>\n",
       "      <th>size</th>\n",
       "      <th>sex</th>\n",
       "      <th>characteristics</th>\n",
       "      <th>...</th>\n",
       "      <th>data_set</th>\n",
       "      <th>num_cats</th>\n",
       "      <th>unique_cat_id</th>\n",
       "      <th>thirty_days</th>\n",
       "      <th>other_days</th>\n",
       "      <th>spec_needs</th>\n",
       "      <th>coat_length_miss</th>\n",
       "      <th>more_than_one_cat</th>\n",
       "      <th>without_story</th>\n",
       "      <th>mt1</th>\n",
       "    </tr>\n",
       "  </thead>\n",
       "  <tbody>\n",
       "    <tr>\n",
       "      <th>0</th>\n",
       "      <td>0</td>\n",
       "      <td>Ashe and Billie</td>\n",
       "      <td>6</td>\n",
       "      <td>0</td>\n",
       "      <td>Adult</td>\n",
       "      <td>Domestic Short Hair</td>\n",
       "      <td>missing</td>\n",
       "      <td>Medium</td>\n",
       "      <td>Female</td>\n",
       "      <td>NaN</td>\n",
       "      <td>...</td>\n",
       "      <td>one_day</td>\n",
       "      <td>1</td>\n",
       "      <td>Ashe and Billie - KittyKind</td>\n",
       "      <td>False</td>\n",
       "      <td>True</td>\n",
       "      <td>False</td>\n",
       "      <td>missing</td>\n",
       "      <td>False</td>\n",
       "      <td>False</td>\n",
       "      <td>False</td>\n",
       "    </tr>\n",
       "    <tr>\n",
       "      <th>1</th>\n",
       "      <td>1</td>\n",
       "      <td>Billie and Ashe</td>\n",
       "      <td>6</td>\n",
       "      <td>0</td>\n",
       "      <td>Adult</td>\n",
       "      <td>Domestic Short Hair</td>\n",
       "      <td>missing</td>\n",
       "      <td>Medium</td>\n",
       "      <td>Female</td>\n",
       "      <td>NaN</td>\n",
       "      <td>...</td>\n",
       "      <td>one_day</td>\n",
       "      <td>1</td>\n",
       "      <td>Billie and Ashe - KittyKind</td>\n",
       "      <td>False</td>\n",
       "      <td>True</td>\n",
       "      <td>False</td>\n",
       "      <td>missing</td>\n",
       "      <td>False</td>\n",
       "      <td>False</td>\n",
       "      <td>False</td>\n",
       "    </tr>\n",
       "    <tr>\n",
       "      <th>2</th>\n",
       "      <td>2</td>\n",
       "      <td>Holiday Hibiscus</td>\n",
       "      <td>2</td>\n",
       "      <td>0</td>\n",
       "      <td>Kitten</td>\n",
       "      <td>Domestic Short Hair</td>\n",
       "      <td>Gray / Blue / Silver</td>\n",
       "      <td>Medium</td>\n",
       "      <td>Male</td>\n",
       "      <td>NaN</td>\n",
       "      <td>...</td>\n",
       "      <td>one_day</td>\n",
       "      <td>1</td>\n",
       "      <td>Holiday Hibiscus - Liberty Humane Society</td>\n",
       "      <td>False</td>\n",
       "      <td>True</td>\n",
       "      <td>False</td>\n",
       "      <td>Short</td>\n",
       "      <td>False</td>\n",
       "      <td>False</td>\n",
       "      <td>False</td>\n",
       "    </tr>\n",
       "    <tr>\n",
       "      <th>3</th>\n",
       "      <td>3</td>\n",
       "      <td>Favorite Babies-Wonton, Lichee, Sprout &amp; Dumpling</td>\n",
       "      <td>3</td>\n",
       "      <td>0</td>\n",
       "      <td>Kitten</td>\n",
       "      <td>Domestic Short Hair</td>\n",
       "      <td>White</td>\n",
       "      <td>Small</td>\n",
       "      <td>Male</td>\n",
       "      <td>NaN</td>\n",
       "      <td>...</td>\n",
       "      <td>one_day</td>\n",
       "      <td>1</td>\n",
       "      <td>Favorite Babies-Wonton, Lichee, Sprout &amp; Dumpl...</td>\n",
       "      <td>False</td>\n",
       "      <td>True</td>\n",
       "      <td>False</td>\n",
       "      <td>missing</td>\n",
       "      <td>False</td>\n",
       "      <td>False</td>\n",
       "      <td>False</td>\n",
       "    </tr>\n",
       "    <tr>\n",
       "      <th>4</th>\n",
       "      <td>4</td>\n",
       "      <td>Romeo and Guero</td>\n",
       "      <td>4</td>\n",
       "      <td>0</td>\n",
       "      <td>Young</td>\n",
       "      <td>Domestic Short Hair</td>\n",
       "      <td>missing</td>\n",
       "      <td>Medium</td>\n",
       "      <td>Male</td>\n",
       "      <td>Friendly, Affectionate, Gentle, Playful</td>\n",
       "      <td>...</td>\n",
       "      <td>one_day</td>\n",
       "      <td>1</td>\n",
       "      <td>Romeo and Guero - The Lucky Cat Rescue</td>\n",
       "      <td>False</td>\n",
       "      <td>True</td>\n",
       "      <td>False</td>\n",
       "      <td>Medium</td>\n",
       "      <td>False</td>\n",
       "      <td>False</td>\n",
       "      <td>False</td>\n",
       "    </tr>\n",
       "    <tr>\n",
       "      <th>5</th>\n",
       "      <td>5</td>\n",
       "      <td>Foxy</td>\n",
       "      <td>4</td>\n",
       "      <td>0</td>\n",
       "      <td>Adult</td>\n",
       "      <td>Domestic Short Hair</td>\n",
       "      <td>Tabby (Brown / Chocolate)</td>\n",
       "      <td>Medium</td>\n",
       "      <td>Female</td>\n",
       "      <td>Smart, Independent, Quiet</td>\n",
       "      <td>...</td>\n",
       "      <td>one_day</td>\n",
       "      <td>1</td>\n",
       "      <td>Foxy - Union City Feral Cat Committee</td>\n",
       "      <td>False</td>\n",
       "      <td>True</td>\n",
       "      <td>False</td>\n",
       "      <td>missing</td>\n",
       "      <td>False</td>\n",
       "      <td>False</td>\n",
       "      <td>False</td>\n",
       "    </tr>\n",
       "    <tr>\n",
       "      <th>6</th>\n",
       "      <td>6</td>\n",
       "      <td>Felix</td>\n",
       "      <td>2</td>\n",
       "      <td>0</td>\n",
       "      <td>Adult</td>\n",
       "      <td>Domestic Short Hair</td>\n",
       "      <td>Black &amp; White / Tuxedo</td>\n",
       "      <td>Medium</td>\n",
       "      <td>Male</td>\n",
       "      <td>Playful, Smart, Curious, Independent</td>\n",
       "      <td>...</td>\n",
       "      <td>one_day</td>\n",
       "      <td>1</td>\n",
       "      <td>Felix - Union City Feral Cat Committee</td>\n",
       "      <td>False</td>\n",
       "      <td>True</td>\n",
       "      <td>False</td>\n",
       "      <td>missing</td>\n",
       "      <td>False</td>\n",
       "      <td>False</td>\n",
       "      <td>False</td>\n",
       "    </tr>\n",
       "    <tr>\n",
       "      <th>7</th>\n",
       "      <td>7</td>\n",
       "      <td>Crescent</td>\n",
       "      <td>3</td>\n",
       "      <td>0</td>\n",
       "      <td>Adult</td>\n",
       "      <td>Domestic Short Hair</td>\n",
       "      <td>Tabby (Brown / Chocolate)</td>\n",
       "      <td>Medium</td>\n",
       "      <td>Female</td>\n",
       "      <td>Independent, Quiet, Smart</td>\n",
       "      <td>...</td>\n",
       "      <td>one_day</td>\n",
       "      <td>1</td>\n",
       "      <td>Crescent - Union City Feral Cat Committee</td>\n",
       "      <td>False</td>\n",
       "      <td>True</td>\n",
       "      <td>False</td>\n",
       "      <td>missing</td>\n",
       "      <td>False</td>\n",
       "      <td>False</td>\n",
       "      <td>False</td>\n",
       "    </tr>\n",
       "    <tr>\n",
       "      <th>8</th>\n",
       "      <td>8</td>\n",
       "      <td>Toby</td>\n",
       "      <td>4</td>\n",
       "      <td>0</td>\n",
       "      <td>Kitten</td>\n",
       "      <td>Domestic Short Hair</td>\n",
       "      <td>Tabby (Brown / Chocolate)</td>\n",
       "      <td>Medium</td>\n",
       "      <td>Male</td>\n",
       "      <td>Friendly, Affectionate, Playful, Smart, Brave,...</td>\n",
       "      <td>...</td>\n",
       "      <td>one_day</td>\n",
       "      <td>1</td>\n",
       "      <td>Toby - Union City Feral Cat Committee</td>\n",
       "      <td>False</td>\n",
       "      <td>True</td>\n",
       "      <td>False</td>\n",
       "      <td>missing</td>\n",
       "      <td>False</td>\n",
       "      <td>False</td>\n",
       "      <td>False</td>\n",
       "    </tr>\n",
       "    <tr>\n",
       "      <th>9</th>\n",
       "      <td>9</td>\n",
       "      <td>Panda</td>\n",
       "      <td>0</td>\n",
       "      <td>0</td>\n",
       "      <td>Adult</td>\n",
       "      <td>Domestic Short Hair &amp; Tuxedo Mix</td>\n",
       "      <td>Black &amp; White / Tuxedo</td>\n",
       "      <td>Medium</td>\n",
       "      <td>Male</td>\n",
       "      <td>Friendly, Playful, Smart, Curious, Independent</td>\n",
       "      <td>...</td>\n",
       "      <td>one_day</td>\n",
       "      <td>1</td>\n",
       "      <td>Panda - Union City Feral Cat Committee</td>\n",
       "      <td>False</td>\n",
       "      <td>True</td>\n",
       "      <td>False</td>\n",
       "      <td>missing</td>\n",
       "      <td>False</td>\n",
       "      <td>False</td>\n",
       "      <td>False</td>\n",
       "    </tr>\n",
       "  </tbody>\n",
       "</table>\n",
       "<p>10 rows × 28 columns</p>\n",
       "</div>"
      ],
      "text/plain": [
       "   Unnamed: 0                                           cat_name  num_images  \\\n",
       "0           0                                    Ashe and Billie           6   \n",
       "1           1                                    Billie and Ashe           6   \n",
       "2           2                                   Holiday Hibiscus           2   \n",
       "3           3  Favorite Babies-Wonton, Lichee, Sprout & Dumpling           3   \n",
       "4           4                                    Romeo and Guero           4   \n",
       "5           5                                               Foxy           4   \n",
       "6           6                                              Felix           2   \n",
       "7           7                                           Crescent           3   \n",
       "8           8                                               Toby           4   \n",
       "9           9                                              Panda           0   \n",
       "\n",
       "   num_videos     age                             breed  \\\n",
       "0           0   Adult               Domestic Short Hair   \n",
       "1           0   Adult               Domestic Short Hair   \n",
       "2           0  Kitten               Domestic Short Hair   \n",
       "3           0  Kitten               Domestic Short Hair   \n",
       "4           0   Young               Domestic Short Hair   \n",
       "5           0   Adult               Domestic Short Hair   \n",
       "6           0   Adult               Domestic Short Hair   \n",
       "7           0   Adult               Domestic Short Hair   \n",
       "8           0  Kitten               Domestic Short Hair   \n",
       "9           0   Adult  Domestic Short Hair & Tuxedo Mix   \n",
       "\n",
       "                       color    size     sex  \\\n",
       "0                    missing  Medium  Female   \n",
       "1                    missing  Medium  Female   \n",
       "2       Gray / Blue / Silver  Medium    Male   \n",
       "3                      White   Small    Male   \n",
       "4                    missing  Medium    Male   \n",
       "5  Tabby (Brown / Chocolate)  Medium  Female   \n",
       "6     Black & White / Tuxedo  Medium    Male   \n",
       "7  Tabby (Brown / Chocolate)  Medium  Female   \n",
       "8  Tabby (Brown / Chocolate)  Medium    Male   \n",
       "9     Black & White / Tuxedo  Medium    Male   \n",
       "\n",
       "                                     characteristics  ... data_set num_cats  \\\n",
       "0                                                NaN  ...  one_day        1   \n",
       "1                                                NaN  ...  one_day        1   \n",
       "2                                                NaN  ...  one_day        1   \n",
       "3                                                NaN  ...  one_day        1   \n",
       "4            Friendly, Affectionate, Gentle, Playful  ...  one_day        1   \n",
       "5                          Smart, Independent, Quiet  ...  one_day        1   \n",
       "6               Playful, Smart, Curious, Independent  ...  one_day        1   \n",
       "7                          Independent, Quiet, Smart  ...  one_day        1   \n",
       "8  Friendly, Affectionate, Playful, Smart, Brave,...  ...  one_day        1   \n",
       "9     Friendly, Playful, Smart, Curious, Independent  ...  one_day        1   \n",
       "\n",
       "                                       unique_cat_id thirty_days other_days  \\\n",
       "0                        Ashe and Billie - KittyKind       False       True   \n",
       "1                        Billie and Ashe - KittyKind       False       True   \n",
       "2          Holiday Hibiscus - Liberty Humane Society       False       True   \n",
       "3  Favorite Babies-Wonton, Lichee, Sprout & Dumpl...       False       True   \n",
       "4             Romeo and Guero - The Lucky Cat Rescue       False       True   \n",
       "5              Foxy - Union City Feral Cat Committee       False       True   \n",
       "6             Felix - Union City Feral Cat Committee       False       True   \n",
       "7          Crescent - Union City Feral Cat Committee       False       True   \n",
       "8              Toby - Union City Feral Cat Committee       False       True   \n",
       "9             Panda - Union City Feral Cat Committee       False       True   \n",
       "\n",
       "  spec_needs  coat_length_miss more_than_one_cat without_story    mt1  \n",
       "0      False           missing             False         False  False  \n",
       "1      False           missing             False         False  False  \n",
       "2      False             Short             False         False  False  \n",
       "3      False           missing             False         False  False  \n",
       "4      False            Medium             False         False  False  \n",
       "5      False           missing             False         False  False  \n",
       "6      False           missing             False         False  False  \n",
       "7      False           missing             False         False  False  \n",
       "8      False           missing             False         False  False  \n",
       "9      False           missing             False         False  False  \n",
       "\n",
       "[10 rows x 28 columns]"
      ]
     },
     "execution_count": 148,
     "metadata": {},
     "output_type": "execute_result"
    }
   ],
   "source": [
    "df_all.head(10)"
   ]
  },
  {
   "cell_type": "markdown",
   "metadata": {},
   "source": [
    "Create frequency distribution function"
   ]
  },
  {
   "cell_type": "code",
   "execution_count": 114,
   "metadata": {},
   "outputs": [],
   "source": [
    "def proc_freq(df,variable_):  #Note variable_ must be given in quotes example: variable_ = 'xyz'\n",
    "    datax = df[variable_].value_counts().sort_index()\n",
    "    \n",
    "    datay = pd.DataFrame({\n",
    "        variable_: datax.index,\n",
    "        'Frequency': datax.values,\n",
    "        'Percent': ((datax.values/datax.values.sum())*100).round(2),\n",
    "        'Cumulative Frequency': datax.values.cumsum(),\n",
    "        'Cumulative Percent': ((datax.values.cumsum()/datax.values.sum())*100).round(2)   })\n",
    "    \n",
    "    #datay.set_index(variable_)\n",
    "    \n",
    "    return(datay.set_index(variable_))"
   ]
  },
  {
   "cell_type": "code",
   "execution_count": 113,
   "metadata": {},
   "outputs": [
    {
     "data": {
      "text/html": [
       "<div>\n",
       "<style scoped>\n",
       "    .dataframe tbody tr th:only-of-type {\n",
       "        vertical-align: middle;\n",
       "    }\n",
       "\n",
       "    .dataframe tbody tr th {\n",
       "        vertical-align: top;\n",
       "    }\n",
       "\n",
       "    .dataframe thead th {\n",
       "        text-align: right;\n",
       "    }\n",
       "</style>\n",
       "<table border=\"1\" class=\"dataframe\">\n",
       "  <thead>\n",
       "    <tr style=\"text-align: right;\">\n",
       "      <th></th>\n",
       "      <th>Frequency</th>\n",
       "      <th>Percent</th>\n",
       "      <th>Cumulative Frequency</th>\n",
       "      <th>Cumulative Percent</th>\n",
       "    </tr>\n",
       "    <tr>\n",
       "      <th>data_set</th>\n",
       "      <th></th>\n",
       "      <th></th>\n",
       "      <th></th>\n",
       "      <th></th>\n",
       "    </tr>\n",
       "  </thead>\n",
       "  <tbody>\n",
       "    <tr>\n",
       "      <th>thirty_days</th>\n",
       "      <td>1433</td>\n",
       "      <td>67.03</td>\n",
       "      <td>1433</td>\n",
       "      <td>67.03</td>\n",
       "    </tr>\n",
       "    <tr>\n",
       "      <th>fourteen_days</th>\n",
       "      <td>345</td>\n",
       "      <td>16.14</td>\n",
       "      <td>1778</td>\n",
       "      <td>83.16</td>\n",
       "    </tr>\n",
       "    <tr>\n",
       "      <th>seven_days</th>\n",
       "      <td>204</td>\n",
       "      <td>9.54</td>\n",
       "      <td>1982</td>\n",
       "      <td>92.70</td>\n",
       "    </tr>\n",
       "    <tr>\n",
       "      <th>thirty_day_spec_needs</th>\n",
       "      <td>104</td>\n",
       "      <td>4.86</td>\n",
       "      <td>2086</td>\n",
       "      <td>97.57</td>\n",
       "    </tr>\n",
       "    <tr>\n",
       "      <th>one_day</th>\n",
       "      <td>38</td>\n",
       "      <td>1.78</td>\n",
       "      <td>2124</td>\n",
       "      <td>99.35</td>\n",
       "    </tr>\n",
       "    <tr>\n",
       "      <th>spec_needs_other</th>\n",
       "      <td>14</td>\n",
       "      <td>0.65</td>\n",
       "      <td>2138</td>\n",
       "      <td>100.00</td>\n",
       "    </tr>\n",
       "  </tbody>\n",
       "</table>\n",
       "</div>"
      ],
      "text/plain": [
       "                       Frequency  Percent  Cumulative Frequency  \\\n",
       "data_set                                                          \n",
       "thirty_days                 1433    67.03                  1433   \n",
       "fourteen_days                345    16.14                  1778   \n",
       "seven_days                   204     9.54                  1982   \n",
       "thirty_day_spec_needs        104     4.86                  2086   \n",
       "one_day                       38     1.78                  2124   \n",
       "spec_needs_other              14     0.65                  2138   \n",
       "\n",
       "                       Cumulative Percent  \n",
       "data_set                                   \n",
       "thirty_days                         67.03  \n",
       "fourteen_days                       83.16  \n",
       "seven_days                          92.70  \n",
       "thirty_day_spec_needs               97.57  \n",
       "one_day                             99.35  \n",
       "spec_needs_other                   100.00  "
      ]
     },
     "execution_count": 113,
     "metadata": {},
     "output_type": "execute_result"
    }
   ],
   "source": [
    "df_all['data_set'].value_counts()\n",
    "\n",
    "proc_freq(df_all,'data_set')"
   ]
  },
  {
   "cell_type": "code",
   "execution_count": 95,
   "metadata": {},
   "outputs": [
    {
     "ename": "ValueError",
     "evalue": "The truth value of a Series is ambiguous. Use a.empty, a.bool(), a.item(), a.any() or a.all().",
     "output_type": "error",
     "traceback": [
      "\u001b[1;31m---------------------------------------------------------------------------\u001b[0m",
      "\u001b[1;31mValueError\u001b[0m                                Traceback (most recent call last)",
      "\u001b[1;32m<ipython-input-95-3d90e2401706>\u001b[0m in \u001b[0;36m<module>\u001b[1;34m\u001b[0m\n\u001b[1;32m----> 1\u001b[1;33m \u001b[1;32mif\u001b[0m \u001b[0mdf_all\u001b[0m\u001b[1;33m[\u001b[0m\u001b[1;34m'data_set'\u001b[0m\u001b[1;33m]\u001b[0m \u001b[1;33m==\u001b[0m \u001b[1;34m'thirty_day_spec_needs'\u001b[0m\u001b[1;33m:\u001b[0m\u001b[1;33m\u001b[0m\u001b[1;33m\u001b[0m\u001b[0m\n\u001b[0m\u001b[0;32m      2\u001b[0m     \u001b[0mdf_all\u001b[0m\u001b[1;33m[\u001b[0m\u001b[1;34m'data_set'\u001b[0m\u001b[1;33m]\u001b[0m \u001b[1;33m=\u001b[0m \u001b[1;34m'spec_needs_thirty_days'\u001b[0m\u001b[1;33m\u001b[0m\u001b[1;33m\u001b[0m\u001b[0m\n\u001b[0;32m      3\u001b[0m \u001b[1;32melse\u001b[0m\u001b[1;33m:\u001b[0m\u001b[1;33m\u001b[0m\u001b[1;33m\u001b[0m\u001b[0m\n\u001b[0;32m      4\u001b[0m     \u001b[0mdf_all\u001b[0m\u001b[1;33m[\u001b[0m\u001b[1;34m'data_set'\u001b[0m\u001b[1;33m]\u001b[0m \u001b[1;33m=\u001b[0m \u001b[0mdf_all\u001b[0m\u001b[1;33m[\u001b[0m\u001b[1;34m'data_set'\u001b[0m\u001b[1;33m]\u001b[0m\u001b[1;33m\u001b[0m\u001b[1;33m\u001b[0m\u001b[0m\n\u001b[0;32m      5\u001b[0m \u001b[1;33m\u001b[0m\u001b[0m\n",
      "\u001b[1;32m~\\anaconda3\\lib\\site-packages\\pandas\\core\\generic.py\u001b[0m in \u001b[0;36m__nonzero__\u001b[1;34m(self)\u001b[0m\n\u001b[0;32m   1327\u001b[0m \u001b[1;33m\u001b[0m\u001b[0m\n\u001b[0;32m   1328\u001b[0m     \u001b[1;32mdef\u001b[0m \u001b[0m__nonzero__\u001b[0m\u001b[1;33m(\u001b[0m\u001b[0mself\u001b[0m\u001b[1;33m)\u001b[0m\u001b[1;33m:\u001b[0m\u001b[1;33m\u001b[0m\u001b[1;33m\u001b[0m\u001b[0m\n\u001b[1;32m-> 1329\u001b[1;33m         raise ValueError(\n\u001b[0m\u001b[0;32m   1330\u001b[0m             \u001b[1;34mf\"The truth value of a {type(self).__name__} is ambiguous. \"\u001b[0m\u001b[1;33m\u001b[0m\u001b[1;33m\u001b[0m\u001b[0m\n\u001b[0;32m   1331\u001b[0m             \u001b[1;34m\"Use a.empty, a.bool(), a.item(), a.any() or a.all().\"\u001b[0m\u001b[1;33m\u001b[0m\u001b[1;33m\u001b[0m\u001b[0m\n",
      "\u001b[1;31mValueError\u001b[0m: The truth value of a Series is ambiguous. Use a.empty, a.bool(), a.item(), a.any() or a.all()."
     ]
    }
   ],
   "source": [
    "if df_all['data_set'] == 'thirty_day_spec_needs':\n",
    "    df_all['data_set'] = 'spec_needs_thirty_days'\n",
    "else:\n",
    "    df_all['data_set'] = df_all['data_set']\n",
    "    \n",
    "df_all['data_set'].value_counts()"
   ]
  },
  {
   "cell_type": "code",
   "execution_count": 140,
   "metadata": {},
   "outputs": [
    {
     "name": "stdout",
     "output_type": "stream",
     "text": [
      "len m_than_one =  2138\n"
     ]
    },
    {
     "data": {
      "text/plain": [
       "False    0.974743\n",
       "True     0.025257\n",
       "Name: without_story, dtype: float64"
      ]
     },
     "execution_count": 140,
     "metadata": {},
     "output_type": "execute_result"
    }
   ],
   "source": [
    "# all.tail()\n",
    "\n",
    "df_all['unique_cat_id'] =df_all['cat_name'] + ' - ' + df_all['rescue_group']\n",
    "# all.tail()\n",
    "\n",
    "group1=df_all.groupby(['rescue_group'])\n",
    "\n",
    "df_all.groupby(['rescue_group'])['unique_cat_id'].nunique()\n",
    "\n",
    "#df_all.head()\n",
    "\n",
    "\n",
    "    \n",
    "\n",
    "df_all['thirty_days']= df_all['data_set'] == 'thirty_days'\n",
    "\n",
    "df_all['other_days']= df_all['data_set'].apply(lambda x:  x in['fourteen_days','seven_days','one_day'])\n",
    "\n",
    "df_all['spec_needs']= df_all['data_set'].apply(lambda x:  x in ['thirty_day_spec_needs','spec_needs_other'])\n",
    "\n",
    "#Replace null values of color with 'missing'\n",
    "df_all['color'].fillna('missing',inplace=True)\n",
    "df_all['color'] = df_all['color'].astype(str)\n",
    "\n",
    "df_all['coat_length_miss'] = df_all['coat_length'].fillna('missing')\n",
    "\n",
    "\n",
    "m_than_one = [True if x in ['and','&'] else False for x in df_all['cat_name']]\n",
    "print('len m_than_one = ',len(m_than_one))\n",
    "df_all['more_than_one_cat'] = pd.Series(m_than_one)\n",
    "\n",
    "df_all['pet_story_num_words'].fillna(0,inplace=True)\n",
    "\n",
    "df_all['without_story'] = df_all['pet_story_num_words'] == 0\n",
    "df_all['without_story'].value_counts(normalize=True)"
   ]
  },
  {
   "cell_type": "code",
   "execution_count": 146,
   "metadata": {},
   "outputs": [
    {
     "data": {
      "text/plain": [
       "False    2138\n",
       "Name: mt1, dtype: int64"
      ]
     },
     "execution_count": 146,
     "metadata": {},
     "output_type": "execute_result"
    }
   ],
   "source": [
    "for cat in df_all['cat_name']:\n",
    "    if 'and' in cat or '&' in cat:\n",
    "        df_all['mt1'] = True\n",
    "    else:\n",
    "        df_all['mt1'] = False\n",
    "        \n",
    "df_all['mt1'].value_counts()"
   ]
  },
  {
   "cell_type": "code",
   "execution_count": 143,
   "metadata": {},
   "outputs": [
    {
     "name": "stdout",
     "output_type": "stream",
     "text": [
      "             Frequency  Percent  Cumulative Frequency  Cumulative Percent\n",
      "coat_length                                                              \n",
      "Hairless             2     0.14                     2                0.14\n",
      "Long                30     2.03                    32                2.16\n",
      "Medium              77     5.20                   109                7.36\n",
      "Short             1371    92.64                  1480              100.00\n",
      " \n",
      "                  Frequency  Percent  Cumulative Frequency  Cumulative Percent\n",
      "coat_length_miss                                                              \n",
      "Hairless                  2     0.09                     2                0.09\n",
      "Long                     30     1.40                    32                1.50\n",
      "Medium                   77     3.60                   109                5.10\n",
      "Short                  1371    64.13                  1480               69.22\n",
      "missing                 658    30.78                  2138              100.00\n",
      " \n",
      "                   Frequency  Percent  Cumulative Frequency  \\\n",
      "more_than_one_cat                                             \n",
      "False                   2138    100.0                  2138   \n",
      "\n",
      "                   Cumulative Percent  \n",
      "more_than_one_cat                      \n",
      "False                           100.0  \n"
     ]
    }
   ],
   "source": [
    "print(proc_freq(df_all,'coat_length'))\n",
    "print(' ')\n",
    "print(proc_freq(df_all,'coat_length_miss'))\n",
    "print(' ')\n",
    "print(proc_freq(df_all,'more_than_one_cat'))"
   ]
  },
  {
   "cell_type": "code",
   "execution_count": 127,
   "metadata": {},
   "outputs": [
    {
     "data": {
      "text/html": [
       "<div>\n",
       "<style scoped>\n",
       "    .dataframe tbody tr th:only-of-type {\n",
       "        vertical-align: middle;\n",
       "    }\n",
       "\n",
       "    .dataframe tbody tr th {\n",
       "        vertical-align: top;\n",
       "    }\n",
       "\n",
       "    .dataframe thead th {\n",
       "        text-align: right;\n",
       "    }\n",
       "</style>\n",
       "<table border=\"1\" class=\"dataframe\">\n",
       "  <thead>\n",
       "    <tr style=\"text-align: right;\">\n",
       "      <th></th>\n",
       "      <th>Frequency</th>\n",
       "      <th>Percent</th>\n",
       "      <th>Cumulative Frequency</th>\n",
       "      <th>Cumulative Percent</th>\n",
       "    </tr>\n",
       "    <tr>\n",
       "      <th>without_story</th>\n",
       "      <th></th>\n",
       "      <th></th>\n",
       "      <th></th>\n",
       "      <th></th>\n",
       "    </tr>\n",
       "  </thead>\n",
       "  <tbody>\n",
       "    <tr>\n",
       "      <th>False</th>\n",
       "      <td>2084</td>\n",
       "      <td>97.47</td>\n",
       "      <td>2084</td>\n",
       "      <td>97.47</td>\n",
       "    </tr>\n",
       "    <tr>\n",
       "      <th>True</th>\n",
       "      <td>54</td>\n",
       "      <td>2.53</td>\n",
       "      <td>2138</td>\n",
       "      <td>100.00</td>\n",
       "    </tr>\n",
       "  </tbody>\n",
       "</table>\n",
       "</div>"
      ],
      "text/plain": [
       "               Frequency  Percent  Cumulative Frequency  Cumulative Percent\n",
       "without_story                                                              \n",
       "False               2084    97.47                  2084               97.47\n",
       "True                  54     2.53                  2138              100.00"
      ]
     },
     "execution_count": 127,
     "metadata": {},
     "output_type": "execute_result"
    }
   ],
   "source": [
    "proc_freq(df_all,'without_story')"
   ]
  },
  {
   "cell_type": "code",
   "execution_count": 22,
   "metadata": {},
   "outputs": [
    {
     "name": "stdout",
     "output_type": "stream",
     "text": [
      "2138\n"
     ]
    }
   ],
   "source": [
    "Tabby = [True if 'Tabby' in cat else False for cat in df_all['color']]\n",
    "print(len(Tabby))\n",
    "df_all['Tabby'] = pd.Series(Tabby)"
   ]
  },
  {
   "cell_type": "code",
   "execution_count": 149,
   "metadata": {},
   "outputs": [
    {
     "name": "stdout",
     "output_type": "stream",
     "text": [
      "list length =  2138\n"
     ]
    },
    {
     "data": {
      "text/html": [
       "<div>\n",
       "<style scoped>\n",
       "    .dataframe tbody tr th:only-of-type {\n",
       "        vertical-align: middle;\n",
       "    }\n",
       "\n",
       "    .dataframe tbody tr th {\n",
       "        vertical-align: top;\n",
       "    }\n",
       "\n",
       "    .dataframe thead th {\n",
       "        text-align: right;\n",
       "    }\n",
       "</style>\n",
       "<table border=\"1\" class=\"dataframe\">\n",
       "  <thead>\n",
       "    <tr style=\"text-align: right;\">\n",
       "      <th></th>\n",
       "      <th>Frequency</th>\n",
       "      <th>Percent</th>\n",
       "      <th>Cumulative Frequency</th>\n",
       "      <th>Cumulative Percent</th>\n",
       "    </tr>\n",
       "    <tr>\n",
       "      <th>breed_type</th>\n",
       "      <th></th>\n",
       "      <th></th>\n",
       "      <th></th>\n",
       "      <th></th>\n",
       "    </tr>\n",
       "  </thead>\n",
       "  <tbody>\n",
       "    <tr>\n",
       "      <th>DLH</th>\n",
       "      <td>40</td>\n",
       "      <td>1.87</td>\n",
       "      <td>40</td>\n",
       "      <td>1.87</td>\n",
       "    </tr>\n",
       "    <tr>\n",
       "      <th>DSH</th>\n",
       "      <td>1888</td>\n",
       "      <td>88.31</td>\n",
       "      <td>1928</td>\n",
       "      <td>90.18</td>\n",
       "    </tr>\n",
       "    <tr>\n",
       "      <th>Other</th>\n",
       "      <td>210</td>\n",
       "      <td>9.82</td>\n",
       "      <td>2138</td>\n",
       "      <td>100.00</td>\n",
       "    </tr>\n",
       "  </tbody>\n",
       "</table>\n",
       "</div>"
      ],
      "text/plain": [
       "            Frequency  Percent  Cumulative Frequency  Cumulative Percent\n",
       "breed_type                                                              \n",
       "DLH                40     1.87                    40                1.87\n",
       "DSH              1888    88.31                  1928               90.18\n",
       "Other             210     9.82                  2138              100.00"
      ]
     },
     "execution_count": 149,
     "metadata": {},
     "output_type": "execute_result"
    }
   ],
   "source": [
    "breed_type=[]\n",
    "for breed in df_all['breed']:\n",
    "    if 'Domestic Short Hair' in breed:\n",
    "        breed_type.append('DSH')\n",
    "    elif 'Long Hair' in breed:   #Note 'Long Hair' must be identified before 'Mix','Tuxedo' etc\n",
    "        breed_type.append('DLH')\n",
    "    elif 'Mix' in breed:\n",
    "        breed_type.append('DSH')\n",
    "    elif 'Tuxedo' in breed:\n",
    "        breed_type.append('DSH')\n",
    "    elif 'Tabby' in breed:\n",
    "        breed_type.append('DSH')\n",
    "    elif 'Calico' in breed:\n",
    "        breed_type.append('DSH')\n",
    "    else:\n",
    "        breed_type.append('Other')\n",
    "\n",
    "print('list length = ',len(breed_type))\n",
    "        \n",
    "df_all['breed_type'] = pd.Series(breed_type)\n",
    "df_all['breed_type'].value_counts()#(normalize=True)\n",
    "proc_freq(df_all,'breed_type')"
   ]
  },
  {
   "cell_type": "code",
   "execution_count": 27,
   "metadata": {},
   "outputs": [
    {
     "name": "stdout",
     "output_type": "stream",
     "text": [
      "other_days ########## False    1551\n",
      "True      587\n",
      "Name: other_days, dtype: int64\n",
      "thirty_days   ########## True     1433\n",
      "False     705\n",
      "Name: thirty_days, dtype: int64\n",
      "special_needs   ########## False    2020\n",
      "True      118\n",
      "Name: spec_needs, dtype: int64\n"
     ]
    }
   ],
   "source": [
    "print('other_days','#'*10,df_all['other_days'].value_counts())\n",
    "print('thirty_days  ','#'*10,df_all['thirty_days'].value_counts())\n",
    "print('special_needs  ','#'*10,df_all['spec_needs'].value_counts())"
   ]
  },
  {
   "cell_type": "markdown",
   "metadata": {},
   "source": [
    "Create two separate data frames one for thirty days and one for less than thirty days. \n",
    "\n",
    "It does not make sense to analyze special needs as almost all cats in that category have been on site for thirty days\n",
    "or more."
   ]
  },
  {
   "cell_type": "code",
   "execution_count": 115,
   "metadata": {},
   "outputs": [],
   "source": [
    "df_thirty = df_all.loc[df_all.thirty_days,:]\n",
    "df_other_days = df_all.loc[df_all.other_days,:]\n",
    "\n",
    "\n",
    "df_thirty.head()\n",
    "rescue_groups_thirty = list(df_thirty['rescue_group'].unique())\n",
    "#df_thirty['rescue_group'].unique()\n",
    "df_thirty_rescue = pd.DataFrame({'rescue_group':rescue_groups_thirty})\n",
    "#df_thirty_rescue"
   ]
  },
  {
   "cell_type": "code",
   "execution_count": 116,
   "metadata": {},
   "outputs": [
    {
     "name": "stdout",
     "output_type": "stream",
     "text": [
      "df_other_days\n",
      "       Unnamed: 0  num_images  num_videos  pet_story_num_words  num_cats\n",
      "count  587.000000  587.000000  587.000000           587.000000     587.0\n",
      "mean   137.562181    2.844974    0.080068           114.357751       1.0\n",
      "std     95.523530    2.190147    0.271630            86.969385       0.0\n",
      "min      0.000000    0.000000    0.000000             0.000000       1.0\n",
      "25%     54.000000    0.000000    0.000000            49.000000       1.0\n",
      "50%    127.000000    3.000000    0.000000            91.000000       1.0\n",
      "75%    200.500000    5.000000    0.000000           165.000000       1.0\n",
      "max    344.000000    6.000000    1.000000           449.000000       1.0\n",
      "####################\n",
      "df_thirty\n",
      "       Unnamed: 0   num_images   num_videos  pet_story_num_words  num_cats\n",
      "count  1433.00000  1433.000000  1433.000000          1433.000000    1433.0\n",
      "mean    716.00000     3.219819     0.092114           125.971389       1.0\n",
      "std     413.81578     2.029420     0.289288            84.436192       0.0\n",
      "min       0.00000     0.000000     0.000000             0.000000       1.0\n",
      "25%     358.00000     2.000000     0.000000            66.000000       1.0\n",
      "50%     716.00000     3.000000     0.000000           108.000000       1.0\n",
      "75%    1074.00000     5.000000     0.000000           169.000000       1.0\n",
      "max    1432.00000     6.000000     1.000000           677.000000       1.0\n"
     ]
    }
   ],
   "source": [
    "print('df_other_days')\n",
    "print(df_other_days.describe())\n",
    "print('#'*20)\n",
    "print('df_thirty')\n",
    "print(df_thirty.describe())"
   ]
  },
  {
   "cell_type": "code",
   "execution_count": 44,
   "metadata": {},
   "outputs": [
    {
     "name": "stdout",
     "output_type": "stream",
     "text": [
      "df_other_days  91.0\n",
      "df_thirty  108.0\n"
     ]
    }
   ],
   "source": []
  },
  {
   "cell_type": "code",
   "execution_count": 56,
   "metadata": {},
   "outputs": [
    {
     "name": "stdout",
     "output_type": "stream",
     "text": [
      "Thirty\n",
      "False    0.98395\n",
      "True     0.01605\n",
      "Name: without_story, dtype: float64\n",
      "##################################################\n",
      "other\n",
      "False    0.948893\n",
      "True     0.051107\n",
      "Name: without_story, dtype: float64\n"
     ]
    }
   ],
   "source": [
    "print('Thirty')\n",
    "print(df_thirty['without_story'].value_counts(normalize=True))\n",
    "print('#'*50)\n",
    "print('other')\n",
    "print(df_other_days['without_story'].value_counts(normalize=True))"
   ]
  },
  {
   "cell_type": "code",
   "execution_count": 125,
   "metadata": {},
   "outputs": [
    {
     "name": "stdout",
     "output_type": "stream",
     "text": [
      "thirty\n",
      "               Frequency  Percent  Cumulative Frequency  Cumulative Percent\n",
      "without_story                                                              \n",
      "False               1410    98.39                  1410               98.39\n",
      "True                  23     1.61                  1433              100.00\n"
     ]
    }
   ],
   "source": [
    "print('thirty')\n",
    "print(proc_freq(df_thirty,'without_story'))\n"
   ]
  },
  {
   "cell_type": "code",
   "execution_count": 126,
   "metadata": {},
   "outputs": [
    {
     "name": "stdout",
     "output_type": "stream",
     "text": [
      "other\n",
      "               Frequency  Percent  Cumulative Frequency  Cumulative Percent\n",
      "without_story                                                              \n",
      "False                557    94.89                   557               94.89\n",
      "True                  30     5.11                   587              100.00\n"
     ]
    }
   ],
   "source": [
    "print('other')\n",
    "print(proc_freq(df_other_days,'without_story'))"
   ]
  },
  {
   "cell_type": "markdown",
   "metadata": {},
   "source": [
    "Pet Story: Number Of Words Box Plot"
   ]
  },
  {
   "cell_type": "code",
   "execution_count": 120,
   "metadata": {
    "scrolled": false
   },
   "outputs": [
    {
     "data": {
      "text/plain": [
       "<Figure size 1000x500 with 0 Axes>"
      ]
     },
     "metadata": {},
     "output_type": "display_data"
    },
    {
     "data": {
      "image/png": "[encoded data removed]",
      "text/plain": [
       "<Figure size 800x550 with 1 Axes>"
      ]
     },
     "metadata": {},
     "output_type": "display_data"
    }
   ],
   "source": [
    "\n",
    "\n",
    "data1 = df_other_days['pet_story_num_words']\n",
    "data2 = df_thirty['pet_story_num_words']\n",
    "\n",
    "data = list([data1, data2])\n",
    "\n",
    "# Figure size\n",
    "plt.figure(figsize=(10,5))\n",
    "\n",
    "fig, ax = plt.subplots()\n",
    "\n",
    "# build a box plot\n",
    "ax.boxplot(data)\n",
    "\n",
    "# title and axis labels\n",
    "ax.set_title('Pet Story: Number Of Words')\n",
    "ax.set_xlabel('')\n",
    "ax.set_ylabel('Number Of Words')\n",
    "xticklabels=['Less Than Thirty Days', 'Thirty Days Plus']\n",
    "ax.set_xticklabels(xticklabels)\n",
    "\n",
    "plt.show()"
   ]
  },
  {
   "cell_type": "code",
   "execution_count": 119,
   "metadata": {},
   "outputs": [
    {
     "name": "stdout",
     "output_type": "stream",
     "text": [
      "df_other_days  91.0\n",
      "df_thirty  108.0\n"
     ]
    }
   ],
   "source": [
    "print('df_other_days ',df_other_days['pet_story_num_words'].median())\n",
    "print('df_thirty ',df_thirty['pet_story_num_words'].median())\n"
   ]
  },
  {
   "cell_type": "code",
   "execution_count": 36,
   "metadata": {},
   "outputs": [],
   "source": [
    "#histogram\n",
    "\n",
    "#pet_story_num_words     \n",
    "#plt.hist(df_thirty['pet_story_num_words'],edgecolor='k')\n",
    "#plt.show()"
   ]
  },
  {
   "cell_type": "code",
   "execution_count": 37,
   "metadata": {},
   "outputs": [],
   "source": [
    "#histogram\n",
    "\n",
    "#plt.hist(df_other_days['pet_story_num_words'],edgecolor='k')\n",
    "#plt.show()"
   ]
  },
  {
   "cell_type": "code",
   "execution_count": 71,
   "metadata": {},
   "outputs": [
    {
     "name": "stdout",
     "output_type": "stream",
     "text": [
      "30 days plus\n",
      "Female    0.529658\n",
      "Male      0.470342\n",
      "Name: sex, dtype: float64\n",
      "##################################################\n",
      "Other days\n",
      "Male      0.53833\n",
      "Female    0.46167\n",
      "Name: sex, dtype: float64\n"
     ]
    }
   ],
   "source": [
    "print('30 days plus')\n",
    "print(df_thirty['sex'].value_counts(normalize=True))\n",
    "print('#'*50)\n",
    "print('Other days')\n",
    "  "
   ]
  },
  {
   "cell_type": "code",
   "execution_count": 61,
   "metadata": {},
   "outputs": [],
   "source": [
    "#plt.style.use('darkgrid')\n",
    "#set_style('darkgrid[')]"
   ]
  },
  {
   "cell_type": "code",
   "execution_count": 88,
   "metadata": {},
   "outputs": [
    {
     "data": {
      "image/png": "[encoded data removed]",
      "text/plain": [
       "<Figure size 1000x500 with 1 Axes>"
      ]
     },
     "metadata": {},
     "output_type": "display_data"
    }
   ],
   "source": [
    "# Numbers of pairs of bars \n",
    "N = 2\n",
    "\n",
    "# Data on X-axis\n",
    "\n",
    "# Specify the values of blue bars (height)\n",
    "Other_days = df_other_days['sex'].value_counts(normalize=True)*100\n",
    "# Specify the values of orange bars (height)\n",
    "Thirty_days = df_thirty['sex'].value_counts(normalize=True)*100\n",
    "\n",
    "# Position of bars on x-axis\n",
    "ind = np.arange(N)\n",
    "\n",
    "# Figure size\n",
    "plt.figure(figsize=(10,5))\n",
    "\n",
    "# Width of a bar \n",
    "width = 0.3       \n",
    "\n",
    "# Plotting\n",
    "plt.bar(ind, Other_days , width, label='Less Than Thirty Days')\n",
    "plt.bar(ind + width, Thirty_days, width, label='Thirty Days Plus')\n",
    "\n",
    "plt.xlabel('Gender')\n",
    "plt.ylabel('Percentage Of Cats')\n",
    "plt.title('Gender Comparison')\n",
    "\n",
    "# xticks()\n",
    "# First argument - A list of positions at which ticks should be placed\n",
    "# Second argument -  A list of labels to place at the given locations\n",
    "plt.xticks(ind + width / 2, ('Female', 'Male'))\n",
    "\n",
    "# Finding the best position for legends and putting it\n",
    "plt.legend(loc='best')\n",
    "plt.show()\n"
   ]
  },
  {
   "cell_type": "code",
   "execution_count": null,
   "metadata": {},
   "outputs": [],
   "source": []
  },
  {
   "cell_type": "code",
   "execution_count": 67,
   "metadata": {},
   "outputs": [
    {
     "data": {
      "text/plain": [
       "DSH      0.876483\n",
       "Other    0.111654\n",
       "DLH      0.011863\n",
       "Name: breed_type, dtype: float64"
      ]
     },
     "execution_count": 67,
     "metadata": {},
     "output_type": "execute_result"
    }
   ],
   "source": [
    "df_thirty['breed_type'].value_counts(normalize=True)"
   ]
  },
  {
   "cell_type": "code",
   "execution_count": 68,
   "metadata": {},
   "outputs": [
    {
     "data": {
      "text/plain": [
       "DSH      0.899489\n",
       "Other    0.068143\n",
       "DLH      0.032368\n",
       "Name: breed_type, dtype: float64"
      ]
     },
     "execution_count": 68,
     "metadata": {},
     "output_type": "execute_result"
    }
   ],
   "source": [
    "df_other_days['breed_type'].value_counts(normalize=True)"
   ]
  },
  {
   "cell_type": "code",
   "execution_count": 88,
   "metadata": {},
   "outputs": [
    {
     "data": {
      "text/html": [
       "<div>\n",
       "<style scoped>\n",
       "    .dataframe tbody tr th:only-of-type {\n",
       "        vertical-align: middle;\n",
       "    }\n",
       "\n",
       "    .dataframe tbody tr th {\n",
       "        vertical-align: top;\n",
       "    }\n",
       "\n",
       "    .dataframe thead th {\n",
       "        text-align: right;\n",
       "    }\n",
       "</style>\n",
       "<table border=\"1\" class=\"dataframe\">\n",
       "  <thead>\n",
       "    <tr style=\"text-align: right;\">\n",
       "      <th></th>\n",
       "      <th>count</th>\n",
       "    </tr>\n",
       "    <tr>\n",
       "      <th>age</th>\n",
       "      <th></th>\n",
       "    </tr>\n",
       "  </thead>\n",
       "  <tbody>\n",
       "    <tr>\n",
       "      <th>Adult</th>\n",
       "      <td>12</td>\n",
       "    </tr>\n",
       "    <tr>\n",
       "      <th>Kitten</th>\n",
       "      <td>1</td>\n",
       "    </tr>\n",
       "    <tr>\n",
       "      <th>Senior</th>\n",
       "      <td>2</td>\n",
       "    </tr>\n",
       "    <tr>\n",
       "      <th>Young</th>\n",
       "      <td>2</td>\n",
       "    </tr>\n",
       "  </tbody>\n",
       "</table>\n",
       "</div>"
      ],
      "text/plain": [
       "        count\n",
       "age          \n",
       "Adult      12\n",
       "Kitten      1\n",
       "Senior      2\n",
       "Young       2"
      ]
     },
     "execution_count": 88,
     "metadata": {},
     "output_type": "execute_result"
    }
   ],
   "source": [
    "group_30=df_thirty.groupby(['breed_type','age']).agg(['count'])['cat_name']\n",
    "group_30.loc['DLH',:]"
   ]
  },
  {
   "cell_type": "code",
   "execution_count": 89,
   "metadata": {},
   "outputs": [
    {
     "data": {
      "text/plain": [
       "count    17\n",
       "Name: DLH, dtype: int64"
      ]
     },
     "execution_count": 89,
     "metadata": {},
     "output_type": "execute_result"
    }
   ],
   "source": [
    "dfb = df_thirty.groupby(['breed_type']).agg(['count'])['cat_name']\n",
    "dfb.loc['DLH',:]"
   ]
  },
  {
   "cell_type": "code",
   "execution_count": 90,
   "metadata": {},
   "outputs": [
    {
     "data": {
      "text/html": [
       "<div>\n",
       "<style scoped>\n",
       "    .dataframe tbody tr th:only-of-type {\n",
       "        vertical-align: middle;\n",
       "    }\n",
       "\n",
       "    .dataframe tbody tr th {\n",
       "        vertical-align: top;\n",
       "    }\n",
       "\n",
       "    .dataframe thead th {\n",
       "        text-align: right;\n",
       "    }\n",
       "</style>\n",
       "<table border=\"1\" class=\"dataframe\">\n",
       "  <thead>\n",
       "    <tr style=\"text-align: right;\">\n",
       "      <th></th>\n",
       "      <th>count</th>\n",
       "    </tr>\n",
       "    <tr>\n",
       "      <th>age</th>\n",
       "      <th></th>\n",
       "    </tr>\n",
       "  </thead>\n",
       "  <tbody>\n",
       "    <tr>\n",
       "      <th>Adult</th>\n",
       "      <td>0.705882</td>\n",
       "    </tr>\n",
       "    <tr>\n",
       "      <th>Kitten</th>\n",
       "      <td>0.058824</td>\n",
       "    </tr>\n",
       "    <tr>\n",
       "      <th>Senior</th>\n",
       "      <td>0.117647</td>\n",
       "    </tr>\n",
       "    <tr>\n",
       "      <th>Young</th>\n",
       "      <td>0.117647</td>\n",
       "    </tr>\n",
       "  </tbody>\n",
       "</table>\n",
       "</div>"
      ],
      "text/plain": [
       "           count\n",
       "age             \n",
       "Adult   0.705882\n",
       "Kitten  0.058824\n",
       "Senior  0.117647\n",
       "Young   0.117647"
      ]
     },
     "execution_count": 90,
     "metadata": {},
     "output_type": "execute_result"
    }
   ],
   "source": [
    "group_30.loc['DLH',:]/dfb.loc['DLH',:]"
   ]
  },
  {
   "cell_type": "code",
   "execution_count": 70,
   "metadata": {},
   "outputs": [
    {
     "data": {
      "text/html": [
       "<div>\n",
       "<style scoped>\n",
       "    .dataframe tbody tr th:only-of-type {\n",
       "        vertical-align: middle;\n",
       "    }\n",
       "\n",
       "    .dataframe tbody tr th {\n",
       "        vertical-align: top;\n",
       "    }\n",
       "\n",
       "    .dataframe thead th {\n",
       "        text-align: right;\n",
       "    }\n",
       "</style>\n",
       "<table border=\"1\" class=\"dataframe\">\n",
       "  <thead>\n",
       "    <tr style=\"text-align: right;\">\n",
       "      <th></th>\n",
       "      <th></th>\n",
       "      <th>sum</th>\n",
       "    </tr>\n",
       "    <tr>\n",
       "      <th>age</th>\n",
       "      <th>breed_type</th>\n",
       "      <th></th>\n",
       "    </tr>\n",
       "  </thead>\n",
       "  <tbody>\n",
       "    <tr>\n",
       "      <th rowspan=\"3\" valign=\"top\">Adult</th>\n",
       "      <th>DLH</th>\n",
       "      <td>12</td>\n",
       "    </tr>\n",
       "    <tr>\n",
       "      <th>DSH</th>\n",
       "      <td>500</td>\n",
       "    </tr>\n",
       "    <tr>\n",
       "      <th>Other</th>\n",
       "      <td>77</td>\n",
       "    </tr>\n",
       "    <tr>\n",
       "      <th rowspan=\"3\" valign=\"top\">Kitten</th>\n",
       "      <th>DLH</th>\n",
       "      <td>1</td>\n",
       "    </tr>\n",
       "    <tr>\n",
       "      <th>DSH</th>\n",
       "      <td>324</td>\n",
       "    </tr>\n",
       "    <tr>\n",
       "      <th>Other</th>\n",
       "      <td>49</td>\n",
       "    </tr>\n",
       "    <tr>\n",
       "      <th rowspan=\"3\" valign=\"top\">Senior</th>\n",
       "      <th>DLH</th>\n",
       "      <td>2</td>\n",
       "    </tr>\n",
       "    <tr>\n",
       "      <th>DSH</th>\n",
       "      <td>92</td>\n",
       "    </tr>\n",
       "    <tr>\n",
       "      <th>Other</th>\n",
       "      <td>4</td>\n",
       "    </tr>\n",
       "    <tr>\n",
       "      <th rowspan=\"3\" valign=\"top\">Young</th>\n",
       "      <th>DLH</th>\n",
       "      <td>2</td>\n",
       "    </tr>\n",
       "    <tr>\n",
       "      <th>DSH</th>\n",
       "      <td>340</td>\n",
       "    </tr>\n",
       "    <tr>\n",
       "      <th>Other</th>\n",
       "      <td>30</td>\n",
       "    </tr>\n",
       "  </tbody>\n",
       "</table>\n",
       "</div>"
      ],
      "text/plain": [
       "                   sum\n",
       "age    breed_type     \n",
       "Adult  DLH          12\n",
       "       DSH         500\n",
       "       Other        77\n",
       "Kitten DLH           1\n",
       "       DSH         324\n",
       "       Other        49\n",
       "Senior DLH           2\n",
       "       DSH          92\n",
       "       Other         4\n",
       "Young  DLH           2\n",
       "       DSH         340\n",
       "       Other        30"
      ]
     },
     "execution_count": 70,
     "metadata": {},
     "output_type": "execute_result"
    }
   ],
   "source": [
    "group_30b = df_thirty.groupby(['breed_type','age'])\n",
    "group_30.agg(['sum'])['num_cats']"
   ]
  },
  {
   "cell_type": "code",
   "execution_count": 54,
   "metadata": {},
   "outputs": [
    {
     "data": {
      "text/plain": [
       "Adult     0.411026\n",
       "Kitten    0.260991\n",
       "Young     0.259595\n",
       "Senior    0.068388\n",
       "Name: age, dtype: float64"
      ]
     },
     "execution_count": 54,
     "metadata": {},
     "output_type": "execute_result"
    }
   ],
   "source": [
    "df_thirty['age'].value_counts(normalize=True)"
   ]
  },
  {
   "cell_type": "code",
   "execution_count": 55,
   "metadata": {},
   "outputs": [
    {
     "data": {
      "text/plain": [
       "Kitten    0.616695\n",
       "Young     0.177172\n",
       "Adult     0.163543\n",
       "Senior    0.042589\n",
       "Name: age, dtype: float64"
      ]
     },
     "execution_count": 55,
     "metadata": {},
     "output_type": "execute_result"
    }
   ],
   "source": [
    "df_other_days['age'].value_counts(normalize=True)"
   ]
  },
  {
   "cell_type": "code",
   "execution_count": 57,
   "metadata": {},
   "outputs": [
    {
     "data": {
      "text/plain": [
       "Kitten    362\n",
       "Young     104\n",
       "Adult      96\n",
       "Senior     25\n",
       "Name: age, dtype: int64"
      ]
     },
     "execution_count": 57,
     "metadata": {},
     "output_type": "execute_result"
    }
   ],
   "source": [
    "df_other_days['age'].value_counts()"
   ]
  },
  {
   "cell_type": "code",
   "execution_count": 21,
   "metadata": {},
   "outputs": [],
   "source": [
    "#df_all.groupby('data_set')['age'].value_counts(normalize=True).plot.bar()"
   ]
  },
  {
   "cell_type": "code",
   "execution_count": 43,
   "metadata": {},
   "outputs": [],
   "source": [
    "#df_thirty['breed'].value_counts(normalize=True)\n"
   ]
  },
  {
   "cell_type": "code",
   "execution_count": 8,
   "metadata": {},
   "outputs": [
    {
     "data": {
      "text/plain": [
       "Black & White / Tuxedo          0.210042\n",
       "Black                           0.179079\n",
       "Tabby (Brown / Chocolate)       0.102092\n",
       "Gray & White                    0.079498\n",
       "Tabby (Gray / Blue / Silver)    0.064435\n",
       "Gray / Blue / Silver            0.051883\n",
       "Calico                          0.046025\n",
       "Orange & White                  0.044351\n",
       "Tabby (Tiger Striped)           0.037657\n",
       "Tabby (Buff / Tan / Fawn)       0.032636\n",
       "Tortoiseshell                   0.027615\n",
       "White                           0.026778\n",
       "Orange / Red                    0.025941\n",
       "Tabby (Orange / Red)            0.016736\n",
       "Brown / Chocolate               0.011715\n",
       "Buff / Tan / Fawn               0.010879\n",
       "Dilute Calico                   0.007531\n",
       "Buff & White                    0.005858\n",
       "Tabby (Leopard / Spotted)       0.003347\n",
       "Dilute Tortoiseshell            0.003347\n",
       "Torbie                          0.002510\n",
       "Cream / Ivory                   0.002510\n",
       "Cream Point                     0.002510\n",
       "Lilac Point                     0.001674\n",
       "Seal Point                      0.001674\n",
       "Blue Point                      0.000837\n",
       "Smoke                           0.000837\n",
       "Name: color, dtype: float64"
      ]
     },
     "execution_count": 8,
     "metadata": {},
     "output_type": "execute_result"
    }
   ],
   "source": [
    "df_thirty['color'].value_counts(normalize=True)"
   ]
  },
  {
   "cell_type": "code",
   "execution_count": 9,
   "metadata": {},
   "outputs": [
    {
     "data": {
      "text/plain": [
       "Kitten    0.616695\n",
       "Young     0.177172\n",
       "Adult     0.163543\n",
       "Senior    0.042589\n",
       "Name: age, dtype: float64"
      ]
     },
     "execution_count": 9,
     "metadata": {},
     "output_type": "execute_result"
    }
   ],
   "source": [
    "df_other_days = df_all.loc[df_all.other_days,:]\n",
    "df_other_days.head(2)\n",
    "df_other_days['age'].value_counts(normalize=True)"
   ]
  },
  {
   "cell_type": "code",
   "execution_count": null,
   "metadata": {},
   "outputs": [],
   "source": [
    "N=4\n",
    "\n",
    "Thirty_Days_Plus = df_thirty['age'].value_counts(normalize=True)\n",
    "Other_Days = df_other_days['age'].value_counts(normalize=True)\n",
    "\n",
    "width=0.35\n",
    "ind = np.arange(N) \n"
   ]
  },
  {
   "cell_type": "code",
   "execution_count": 89,
   "metadata": {},
   "outputs": [
    {
     "data": {
      "image/png": "[encoded data removed]",
      "text/plain": [
       "<Figure size 1000x500 with 1 Axes>"
      ]
     },
     "metadata": {},
     "output_type": "display_data"
    }
   ],
   "source": [
    "N = 4\n",
    "\n",
    "# Data on X-axis\n",
    "\n",
    "# Specify the values of blue bars (height)\n",
    "Other_Days = df_other_days['age'].value_counts(normalize=True)*100\n",
    "# Specify the values of orange bars (height)\n",
    "Thirty_Days_Plus = df_thirty['age'].value_counts(normalize=True)*100\n",
    "\n",
    "# Position of bars on x-axis\n",
    "ind = np.arange(N)\n",
    "\n",
    "# Figure size\n",
    "plt.figure(figsize=(10,5))\n",
    "\n",
    "# Width of a bar \n",
    "width = 0.3       \n",
    "\n",
    "# Plotting\n",
    "plt.bar(ind, Other_Days , width, label='Less Than Thirty Days')\n",
    "plt.bar(ind + width, Thirty_Days_Plus, width, label='Thirty Days Plus')\n",
    "\n",
    "plt.xlabel('Age')\n",
    "plt.ylabel('Percentage Of Cats')\n",
    "plt.title('Age Comparison')\n",
    "\n",
    "# xticks()\n",
    "# First argument - A list of positions at which ticks should be placed\n",
    "# Second argument -  A list of labels to place at the given locations\n",
    "plt.xticks(ind + width / 2, ('Kitten', 'Young', 'Adult', 'Senior'))\n",
    "\n",
    "# Finding the best position for legends and putting it\n",
    "plt.legend(loc='best')\n",
    "plt.show()"
   ]
  },
  {
   "cell_type": "code",
   "execution_count": 10,
   "metadata": {},
   "outputs": [
    {
     "data": {
      "text/plain": [
       "Black & White / Tuxedo          0.180791\n",
       "Black                           0.165725\n",
       "Tabby (Brown / Chocolate)       0.090395\n",
       "Gray & White                    0.084746\n",
       "Orange & White                  0.073446\n",
       "Tabby (Gray / Blue / Silver)    0.073446\n",
       "Gray / Blue / Silver            0.047081\n",
       "Tabby (Buff / Tan / Fawn)       0.041431\n",
       "Calico                          0.035782\n",
       "Tabby (Tiger Striped)           0.035782\n",
       "White                           0.028249\n",
       "Dilute Tortoiseshell            0.020716\n",
       "Tortoiseshell                   0.020716\n",
       "Tabby (Orange / Red)            0.018832\n",
       "Buff / Tan / Fawn               0.018832\n",
       "Torbie                          0.015066\n",
       "Orange / Red                    0.015066\n",
       "Dilute Calico                   0.011299\n",
       "Tabby (Leopard / Spotted)       0.011299\n",
       "Smoke                           0.003766\n",
       "Buff & White                    0.003766\n",
       "Brown / Chocolate               0.001883\n",
       "Lilac Point                     0.001883\n",
       "Name: color, dtype: float64"
      ]
     },
     "execution_count": 10,
     "metadata": {},
     "output_type": "execute_result"
    }
   ],
   "source": [
    "df_other_days['color'].value_counts(normalize=True)"
   ]
  },
  {
   "cell_type": "code",
   "execution_count": 47,
   "metadata": {},
   "outputs": [],
   "source": []
  },
  {
   "cell_type": "code",
   "execution_count": 27,
   "metadata": {},
   "outputs": [
    {
     "data": {
      "text/html": [
       "<div>\n",
       "<style scoped>\n",
       "    .dataframe tbody tr th:only-of-type {\n",
       "        vertical-align: middle;\n",
       "    }\n",
       "\n",
       "    .dataframe tbody tr th {\n",
       "        vertical-align: top;\n",
       "    }\n",
       "\n",
       "    .dataframe thead th {\n",
       "        text-align: right;\n",
       "    }\n",
       "</style>\n",
       "<table border=\"1\" class=\"dataframe\">\n",
       "  <thead>\n",
       "    <tr style=\"text-align: right;\">\n",
       "      <th></th>\n",
       "      <th>rescue_group</th>\n",
       "    </tr>\n",
       "  </thead>\n",
       "  <tbody>\n",
       "    <tr>\n",
       "      <th>0</th>\n",
       "      <td>KittyKind</td>\n",
       "    </tr>\n",
       "    <tr>\n",
       "      <th>1</th>\n",
       "      <td>Liberty Humane Society</td>\n",
       "    </tr>\n",
       "    <tr>\n",
       "      <th>2</th>\n",
       "      <td>Brooklyn Animal Action</td>\n",
       "    </tr>\n",
       "    <tr>\n",
       "      <th>3</th>\n",
       "      <td>The Lucky Cat Rescue</td>\n",
       "    </tr>\n",
       "    <tr>\n",
       "      <th>4</th>\n",
       "      <td>Union City Feral Cat Committee</td>\n",
       "    </tr>\n",
       "    <tr>\n",
       "      <th>...</th>\n",
       "      <td>...</td>\n",
       "    </tr>\n",
       "    <tr>\n",
       "      <th>89</th>\n",
       "      <td>Friends of Homeless Animals</td>\n",
       "    </tr>\n",
       "    <tr>\n",
       "      <th>90</th>\n",
       "      <td>Angel Pets Animal Welfare Society Inc.</td>\n",
       "    </tr>\n",
       "    <tr>\n",
       "      <th>91</th>\n",
       "      <td>Mama Chris Animal Rescue Inc.</td>\n",
       "    </tr>\n",
       "    <tr>\n",
       "      <th>92</th>\n",
       "      <td>Animal Rescue Force</td>\n",
       "    </tr>\n",
       "    <tr>\n",
       "      <th>93</th>\n",
       "      <td>Bobbi &amp; the Strays</td>\n",
       "    </tr>\n",
       "  </tbody>\n",
       "</table>\n",
       "<p>94 rows × 1 columns</p>\n",
       "</div>"
      ],
      "text/plain": [
       "                              rescue_group\n",
       "0                                KittyKind\n",
       "1                   Liberty Humane Society\n",
       "2                   Brooklyn Animal Action\n",
       "3                     The Lucky Cat Rescue\n",
       "4           Union City Feral Cat Committee\n",
       "..                                     ...\n",
       "89             Friends of Homeless Animals\n",
       "90  Angel Pets Animal Welfare Society Inc.\n",
       "91           Mama Chris Animal Rescue Inc.\n",
       "92                     Animal Rescue Force\n",
       "93                      Bobbi & the Strays\n",
       "\n",
       "[94 rows x 1 columns]"
      ]
     },
     "execution_count": 27,
     "metadata": {},
     "output_type": "execute_result"
    }
   ],
   "source": [
    "rescue_groups_other = list(df_other_days['rescue_group'].unique())\n",
    "#type(df_other_days['rescue_group'].unique())\n",
    "df_other_rescue = pd.DataFrame({'rescue_group':rescue_groups_other})\n",
    "df_other_rescue"
   ]
  },
  {
   "cell_type": "code",
   "execution_count": 32,
   "metadata": {},
   "outputs": [
    {
     "data": {
      "text/plain": [
       "rescue_group\n",
       "A Pathway to Hope                                 10\n",
       "A Purrfect World                                   1\n",
       "Adopt-A-Buddy                                      3\n",
       "Adore-a-Bullie Paws and Claws                      3\n",
       "AdvoCat Rescue                                     7\n",
       "Alan Purcell Wayne Township Animal Shelter         7\n",
       "All About Cats Rescue, Inc                        33\n",
       "All for the Paws                                  10\n",
       "Alleykattz Rescue                                 39\n",
       "Amazing Animals Rescue and Adoptions               3\n",
       "Anarchy Animal Rescue                              3\n",
       "Angel Pets Animal Welfare Society Inc.            47\n",
       "Angels for Animals Network                        10\n",
       "Angels of Animals Inc.                            11\n",
       "Animal Adoption Veterinary Center                  4\n",
       "Animal Life Savers Inc.                           10\n",
       "Animal Lighthouse Rescue                           2\n",
       "Animal Rescue Force                               19\n",
       "Animals Are Forever, Inc                           7\n",
       "Anjellicle Cats Rescue                            44\n",
       "Barbara the Cat Lady                               4\n",
       "Bayonne Feral Cat Foundation                       1\n",
       "Bergen County Animal Shelter                       4\n",
       "Best Friend Dog and Animal Adoption, Inc.         20\n",
       "Best Friends Animal Society - East Coast Life…     2\n",
       "Big Hands Little Paws                              5\n",
       "Bloomfield Animal Shelter - John A. Bukow…         2\n",
       "Bobbi & the Strays                                70\n",
       "Bronx Tails Cat Rescue                             7\n",
       "Brooklyn Adoptables                                4\n",
       "Brooklyn Animal Action                            58\n",
       "Brooklyn Bridge Animal Welfare Coalition          49\n",
       "Brooklyn's Finest Animal Clinic                    3\n",
       "Buddy's Rescue, Inc.                               3\n",
       "CLAWS                                             53\n",
       "Cameron Animal Hospital Rescue                    25\n",
       "Care and Treatment of Strays                      19\n",
       "Caring About The Strays (C.A.T.S.) Inc.           24\n",
       "Cat Assistance Inc.                                8\n",
       "Cat Castle NYC                                    13\n",
       "Cat Crew Rescue                                   14\n",
       "Cat Republic                                       5\n",
       "Chance at Life Cat Rescue                         11\n",
       "Circle Of Hope K-9 Rescue                          2\n",
       "City Critters Inc.                                 8\n",
       "Companion Animal Placement                         2\n",
       "Companion Animal Trust                             1\n",
       "Cypress Feline Rescue                             12\n",
       "Dreamers Rescue                                    1\n",
       "East Coast Maine Coon Rescue                       2\n",
       "Eastchester Bay Stray Cat Project                  1\n",
       "Eccentric Kittens                                 11\n",
       "Edison Municipal Animal Shelter                   31\n",
       "Empty Cages Collective                             1\n",
       "FAT Cats                                           2\n",
       "FOCAS                                              5\n",
       "FOWA                                               9\n",
       "Final Hope Animal Rescue and Sanctuary            15\n",
       "For Animals Inc. - Shelter                         5\n",
       "For Blake's Sake Rescue, Inc.                      9\n",
       "For Our Friends Inc.                               2\n",
       "Forever Animal Rescue Inc.                         1\n",
       "Forever Families for Felines                      46\n",
       "Frankie's Fund for Feline Care and Rescue          2\n",
       "Friends of Homeless Animals                        3\n",
       "Friends of Linden Animal Shelter, Inc.            16\n",
       "Friends of the Clifton Animal Shelter             24\n",
       "Frisky Fosters                                     1\n",
       "Fur Friends In Need, Inc.                          2\n",
       "Fur Real                                           9\n",
       "Fuzzy Butt Rescue and TNR                          1\n",
       "Genae's Pittie Party Rescue                        5\n",
       "Give Me Shelter Project                           13\n",
       "Global Canine & Feline Rescue Association          2\n",
       "Good Home Pet Adoptions                            1\n",
       "Good World Animal Rescue and Protection,…          1\n",
       "Greenpoint Cats                                    7\n",
       "Happy Friends Rescue                               1\n",
       "Happy Homes Animal Rescue                         16\n",
       "Happy Tails Animal Rescue                          1\n",
       "Heart and Hand Society                            32\n",
       "Here Kitty Kitty                                   5\n",
       "Holisticat Rescue and Rehabilitation               3\n",
       "Homeless Animal Adoption League                   17\n",
       "Homeless Animal Rescue Team, Inc.                 37\n",
       "Hopewell Rescue                                    1\n",
       "Hudson County Animal League (HCAL)                 4\n",
       "Humane Society of Westchester at New Rochelle     16\n",
       "Humane Urban Group                                 5\n",
       "Hurricane Pets Rescue Inc.                         3\n",
       "Infinite Hope                                      6\n",
       "Inky Blue Sea Companion Animal Rescue,…            1\n",
       "Jersey Tails                                       2\n",
       "JerseyCats                                         5\n",
       "Joyrides Rescue                                    2\n",
       "Kat Connection                                     5\n",
       "Katie's Kats Island Rescue                         3\n",
       "Kitten Nuggets                                     1\n",
       "Kittens and Barbells Rescue Inc.                   5\n",
       "KittyKaretakers of Queens                          5\n",
       "KittyKind                                         28\n",
       "Last Hope Inc.                                     1\n",
       "Lawns to Laps Cat Rescue                           2\n",
       "Lawyers In Defense of Animals (LIDA)               3\n",
       "Lend-a-Paw Inc.                                   11\n",
       "Liberty Humane Society                            23\n",
       "Lincoln Terrace Park Cats                          4\n",
       "Lindas Feral Cat Assistance                        5\n",
       "Long Beach Humane Society                         31\n",
       "Long Road Home                                     4\n",
       "Louie's Legacy Animal Rescue                       1\n",
       "Lucky Black Cats of Mew York                       2\n",
       "Mama Chris Animal Rescue Inc.                      4\n",
       "Manhattan Valley Cat Rescue                        4\n",
       "Meows Kitty Cat Rescue Inc.                        8\n",
       "Miss Pats Cats                                    44\n",
       "Montclair Township Animal Shelter                  1\n",
       "Montville Animal Shelter                           8\n",
       "Mt. Vernon Animal Shelter                          2\n",
       "NYC Animal Rescue Girls (NYCARG)                  12\n",
       "NYC Teens for Animals                              2\n",
       "Neighborhood Cats Inc.                             8\n",
       "Next Chance Rescue                                 9\n",
       "North Brooklyn Cats                                2\n",
       "Only Kindness, Inc.                                5\n",
       "P.L.U.T.O. (Pet Lovers United Together as One)     1\n",
       "PAWS - Montclair                                   4\n",
       "Pad Paws Rescue                                    1\n",
       "Parsippany Animal Control & Animal Shelter         2\n",
       "Paul the Cat Guy Inc                              16\n",
       "Pequannock Animal Shelter                          5\n",
       "Perth Amboy Animal Shelter                         5\n",
       "Pet Rescue                                        17\n",
       "Pets4Luv Foundation                               16\n",
       "Place For Cats                                     2\n",
       "Plainfield Area Humane Society                     3\n",
       "Posh Pets Rescue                                  33\n",
       "PupStarz Rescue                                    7\n",
       "Puppy Kitty NY City                                8\n",
       "Purrfect Pals, Inc.                                3\n",
       "R and M Rockin' Rescues                            6\n",
       "Ready For Rescue                                  10\n",
       "Rescue Haven Foundation                            2\n",
       "RescueNYC                                          4\n",
       "Rosemaries Rescue Ranch                            4\n",
       "S.A.R.A. Inc.                                     44\n",
       "S.T.A.R.T., Save The Animals Rescue Team          21\n",
       "SIBLING AND KITTY ADOPTIONS                        2\n",
       "SaintSpiro Cat Rescue Inc.                         1\n",
       "Sammyvale Animal Sanctuary                         4\n",
       "Save The Animals Rescue Team II                   23\n",
       "Saving Cats & Kittens of Brooklyn                  1\n",
       "Second Chance Rescue                               6\n",
       "Social Tees Animal Rescue Foundation               2\n",
       "Staten Island Council for Animal Welfare          17\n",
       "Staten Island Hope Animal Rescue                  23\n",
       "Strays Hope for Life                               5\n",
       "Sunset Park Cats                                   3\n",
       "Tails of Love Animal Rescue, Inc.                  4\n",
       "The Animal Project                                 9\n",
       "The Lucky Cat Rescue                               8\n",
       "The National Foundation for Animal Rescue          5\n",
       "The Poor Animals of St. Francis Inc.               1\n",
       "Timber's Legacy, Inc.                              2\n",
       "Union City Animal Trust                            8\n",
       "Union City Feral Cat Committee                     8\n",
       "Valley Cats & Friends Animal Rescue, Inc.         13\n",
       "Victory 4 the Voiceless Animal Rescue, Inc.        7\n",
       "WaHi Cats (Washington Heights Cat Co…              5\n",
       "Waggytail Rescue                                   2\n",
       "West Orange TNVR                                   7\n",
       "Whiskers and Wags-4-Adoption                      12\n",
       "Whiskers-aGoGo Inc                                 9\n",
       "Who Rescued Who Animal Rescue                      1\n",
       "Willow Rescue Foundation Inc.                      9\n",
       "Yellow Brick Road Rescue NJ                       28\n",
       "Zanis Furry Friends ZFF, Inc                      15\n",
       "Zion's Mission Animal Rescue Inc.                  3\n",
       "daps animals                                      13\n",
       "tlc Rescue                                         1\n",
       "Name: unique_cat_id, dtype: int64"
      ]
     },
     "execution_count": 32,
     "metadata": {},
     "output_type": "execute_result"
    }
   ],
   "source": [
    "df_all.groupby(['rescue_group'])['unique_cat_id'].nunique()"
   ]
  },
  {
   "cell_type": "code",
   "execution_count": 36,
   "metadata": {},
   "outputs": [
    {
     "data": {
      "text/html": [
       "<div>\n",
       "<style scoped>\n",
       "    .dataframe tbody tr th:only-of-type {\n",
       "        vertical-align: middle;\n",
       "    }\n",
       "\n",
       "    .dataframe tbody tr th {\n",
       "        vertical-align: top;\n",
       "    }\n",
       "\n",
       "    .dataframe thead th {\n",
       "        text-align: right;\n",
       "    }\n",
       "</style>\n",
       "<table border=\"1\" class=\"dataframe\">\n",
       "  <thead>\n",
       "    <tr style=\"text-align: right;\">\n",
       "      <th></th>\n",
       "      <th>Unnamed: 0</th>\n",
       "      <th>cat_name</th>\n",
       "      <th>num_images</th>\n",
       "      <th>num_videos</th>\n",
       "      <th>age</th>\n",
       "      <th>breed</th>\n",
       "      <th>color</th>\n",
       "      <th>size</th>\n",
       "      <th>sex</th>\n",
       "      <th>characteristics</th>\n",
       "      <th>house_trained</th>\n",
       "      <th>health</th>\n",
       "      <th>good_in_a_home_with</th>\n",
       "      <th>adoption_fee</th>\n",
       "      <th>prefers_a_home_without</th>\n",
       "      <th>coat_length</th>\n",
       "      <th>pet_story_num_words</th>\n",
       "      <th>rescue_group</th>\n",
       "      <th>data_set</th>\n",
       "      <th>num_cats</th>\n",
       "    </tr>\n",
       "  </thead>\n",
       "  <tbody>\n",
       "    <tr>\n",
       "      <th>0</th>\n",
       "      <td>0</td>\n",
       "      <td>Ashe and Billie</td>\n",
       "      <td>6</td>\n",
       "      <td>0</td>\n",
       "      <td>Adult</td>\n",
       "      <td>Domestic Short Hair</td>\n",
       "      <td>NaN</td>\n",
       "      <td>Medium</td>\n",
       "      <td>Female</td>\n",
       "      <td>NaN</td>\n",
       "      <td>Yes</td>\n",
       "      <td>Vaccinations up to date, spayed / neutered.</td>\n",
       "      <td>NaN</td>\n",
       "      <td>NaN</td>\n",
       "      <td>NaN</td>\n",
       "      <td>NaN</td>\n",
       "      <td>89.0</td>\n",
       "      <td>KittyKind</td>\n",
       "      <td>one_day</td>\n",
       "      <td>1</td>\n",
       "    </tr>\n",
       "    <tr>\n",
       "      <th>1</th>\n",
       "      <td>1</td>\n",
       "      <td>Billie and Ashe</td>\n",
       "      <td>6</td>\n",
       "      <td>0</td>\n",
       "      <td>Adult</td>\n",
       "      <td>Domestic Short Hair</td>\n",
       "      <td>NaN</td>\n",
       "      <td>Medium</td>\n",
       "      <td>Female</td>\n",
       "      <td>NaN</td>\n",
       "      <td>Yes</td>\n",
       "      <td>Vaccinations up to date, spayed / neutered.</td>\n",
       "      <td>NaN</td>\n",
       "      <td>NaN</td>\n",
       "      <td>NaN</td>\n",
       "      <td>NaN</td>\n",
       "      <td>89.0</td>\n",
       "      <td>KittyKind</td>\n",
       "      <td>one_day</td>\n",
       "      <td>1</td>\n",
       "    </tr>\n",
       "  </tbody>\n",
       "</table>\n",
       "</div>"
      ],
      "text/plain": [
       "   Unnamed: 0         cat_name  num_images  num_videos    age  \\\n",
       "0           0  Ashe and Billie           6           0  Adult   \n",
       "1           1  Billie and Ashe           6           0  Adult   \n",
       "\n",
       "                 breed color    size     sex characteristics house_trained  \\\n",
       "0  Domestic Short Hair   NaN  Medium  Female             NaN           Yes   \n",
       "1  Domestic Short Hair   NaN  Medium  Female             NaN           Yes   \n",
       "\n",
       "                                        health good_in_a_home_with  \\\n",
       "0  Vaccinations up to date, spayed / neutered.                 NaN   \n",
       "1  Vaccinations up to date, spayed / neutered.                 NaN   \n",
       "\n",
       "  adoption_fee prefers_a_home_without coat_length  pet_story_num_words  \\\n",
       "0          NaN                    NaN         NaN                 89.0   \n",
       "1          NaN                    NaN         NaN                 89.0   \n",
       "\n",
       "  rescue_group data_set  num_cats  \n",
       "0    KittyKind  one_day         1  \n",
       "1    KittyKind  one_day         1  "
      ]
     },
     "execution_count": 36,
     "metadata": {},
     "output_type": "execute_result"
    }
   ],
   "source": [
    "df_days = pd.read_csv(r'C:\\Users\\dgarb\\OneDrive\\Documents\\Data Science Bootcamp April\\Python\\web_scraping_project\\data prepared for analysis\\out_days_petfinder_combined.csv')\n",
    "\n",
    "df_days.head(2) "
   ]
  },
  {
   "cell_type": "code",
   "execution_count": 37,
   "metadata": {},
   "outputs": [
    {
     "data": {
      "text/html": [
       "<div>\n",
       "<style scoped>\n",
       "    .dataframe tbody tr th:only-of-type {\n",
       "        vertical-align: middle;\n",
       "    }\n",
       "\n",
       "    .dataframe tbody tr th {\n",
       "        vertical-align: top;\n",
       "    }\n",
       "\n",
       "    .dataframe thead th {\n",
       "        text-align: right;\n",
       "    }\n",
       "</style>\n",
       "<table border=\"1\" class=\"dataframe\">\n",
       "  <thead>\n",
       "    <tr style=\"text-align: right;\">\n",
       "      <th></th>\n",
       "      <th>Unnamed: 0</th>\n",
       "      <th>cat_name</th>\n",
       "      <th>num_images</th>\n",
       "      <th>num_videos</th>\n",
       "      <th>age</th>\n",
       "      <th>breed</th>\n",
       "      <th>color</th>\n",
       "      <th>size</th>\n",
       "      <th>sex</th>\n",
       "      <th>characteristics</th>\n",
       "      <th>house_trained</th>\n",
       "      <th>health</th>\n",
       "      <th>good_in_a_home_with</th>\n",
       "      <th>adoption_fee</th>\n",
       "      <th>prefers_a_home_without</th>\n",
       "      <th>coat_length</th>\n",
       "      <th>pet_story_num_words</th>\n",
       "      <th>rescue_group</th>\n",
       "      <th>data_set</th>\n",
       "      <th>num_cats</th>\n",
       "    </tr>\n",
       "  </thead>\n",
       "  <tbody>\n",
       "    <tr>\n",
       "      <th>0</th>\n",
       "      <td>0</td>\n",
       "      <td>Dougie</td>\n",
       "      <td>5</td>\n",
       "      <td>1</td>\n",
       "      <td>Senior</td>\n",
       "      <td>Domestic Short Hair</td>\n",
       "      <td>NaN</td>\n",
       "      <td>Medium</td>\n",
       "      <td>Female</td>\n",
       "      <td>NaN</td>\n",
       "      <td>NaN</td>\n",
       "      <td>Spayed / neutered, special needs.</td>\n",
       "      <td>NaN</td>\n",
       "      <td>NaN</td>\n",
       "      <td>NaN</td>\n",
       "      <td>NaN</td>\n",
       "      <td>362.0</td>\n",
       "      <td>City Critters Inc.</td>\n",
       "      <td>thirty_day_spec_needs</td>\n",
       "      <td>1</td>\n",
       "    </tr>\n",
       "    <tr>\n",
       "      <th>1</th>\n",
       "      <td>1</td>\n",
       "      <td>Elias</td>\n",
       "      <td>6</td>\n",
       "      <td>1</td>\n",
       "      <td>Adult</td>\n",
       "      <td>Domestic Short Hair</td>\n",
       "      <td>NaN</td>\n",
       "      <td>Medium</td>\n",
       "      <td>Male</td>\n",
       "      <td>NaN</td>\n",
       "      <td>NaN</td>\n",
       "      <td>Spayed / neutered, special needs.</td>\n",
       "      <td>NaN</td>\n",
       "      <td>NaN</td>\n",
       "      <td>NaN</td>\n",
       "      <td>NaN</td>\n",
       "      <td>168.0</td>\n",
       "      <td>City Critters Inc.</td>\n",
       "      <td>thirty_day_spec_needs</td>\n",
       "      <td>1</td>\n",
       "    </tr>\n",
       "  </tbody>\n",
       "</table>\n",
       "</div>"
      ],
      "text/plain": [
       "   Unnamed: 0 cat_name  num_images  num_videos     age                breed  \\\n",
       "0           0   Dougie           5           1  Senior  Domestic Short Hair   \n",
       "1           1    Elias           6           1   Adult  Domestic Short Hair   \n",
       "\n",
       "  color    size     sex characteristics house_trained  \\\n",
       "0   NaN  Medium  Female             NaN           NaN   \n",
       "1   NaN  Medium    Male             NaN           NaN   \n",
       "\n",
       "                              health good_in_a_home_with adoption_fee  \\\n",
       "0  Spayed / neutered, special needs.                 NaN          NaN   \n",
       "1  Spayed / neutered, special needs.                 NaN          NaN   \n",
       "\n",
       "  prefers_a_home_without coat_length  pet_story_num_words        rescue_group  \\\n",
       "0                    NaN         NaN                362.0  City Critters Inc.   \n",
       "1                    NaN         NaN                168.0  City Critters Inc.   \n",
       "\n",
       "                data_set  num_cats  \n",
       "0  thirty_day_spec_needs         1  \n",
       "1  thirty_day_spec_needs         1  "
      ]
     },
     "execution_count": 37,
     "metadata": {},
     "output_type": "execute_result"
    }
   ],
   "source": [
    "\n",
    "df_spec_needs = pd.read_csv(r'C:\\Users\\dgarb\\OneDrive\\Documents\\Data Science Bootcamp April\\Python\\web_scraping_project\\data prepared for analysis\\out_spec_needs_combined.csv')\n",
    "df_spec_needs.head(2)"
   ]
  },
  {
   "cell_type": "code",
   "execution_count": null,
   "metadata": {},
   "outputs": [],
   "source": [
    "df_spec_needs = pd.read_csv(r'C:\\Users\\dgarb\\OneDrive\\Documents\\Data Science Bootcamp April\\Python\\web_scraping_project\\data prepared for analysis\\out_spec_needs_combined.csv')"
   ]
  }
 ],
 "metadata": {
  "kernelspec": {
   "display_name": "Python 3",
   "language": "python",
   "name": "python3"
  },
  "language_info": {
   "codemirror_mode": {
    "name": "ipython",
    "version": 3
   },
   "file_extension": ".py",
   "mimetype": "text/x-python",
   "name": "python",
   "nbconvert_exporter": "python",
   "pygments_lexer": "ipython3",
   "version": "3.8.5"
  }
 },
 "nbformat": 4,
 "nbformat_minor": 4
}
