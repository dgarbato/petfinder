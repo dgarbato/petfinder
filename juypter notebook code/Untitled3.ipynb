{
 "cells": [
  {
   "cell_type": "code",
   "execution_count": null,
   "metadata": {},
   "outputs": [],
   "source": [
    "df_thirty = df_all.loc[df_all.thirty_days,:]\n",
    "df_other_days = df_all.loc[df_all.other_days,:]"
   ]
  },
  {
   "cell_type": "code",
   "execution_count": null,
   "metadata": {},
   "outputs": [],
   "source": [
    "df_all['Tabby']\n",
    "df_all['without_story'] \n",
    "df_all['coat_length_miss']\n",
    "df_all['coat_length']\n",
    "df_all['more_than_1_cat']         \n",
    "df_all['breed_type']"
   ]
  },
  {
   "cell_type": "code",
   "execution_count": null,
   "metadata": {},
   "outputs": [],
   "source": [
    " proc_freq(df_all,'data_set') "
   ]
  },
  {
   "cell_type": "code",
   "execution_count": null,
   "metadata": {},
   "outputs": [],
   "source": [
    "['Tabby','without_story','coat_length_miss','coat_length', 'more_than_1_cat','breed_type']"
   ]
  },
  {
   "cell_type": "code",
   "execution_count": null,
   "metadata": {},
   "outputs": [],
   "source": [
    "df_thirty.head()\n",
    "rescue_groups_thirty = list(df_thirty['rescue_group'].unique())\n",
    "#df_thirty['rescue_group'].unique()\n",
    "df_thirty_rescue = pd.DataFrame({'rescue_group':rescue_groups_thirty})\n",
    "#df_thirty_rescue"
   ]
  },
  {
   "cell_type": "code",
   "execution_count": null,
   "metadata": {},
   "outputs": [],
   "source": [
    "df_thirty"
   ]
  },
  {
   "cell_type": "code",
   "execution_count": null,
   "metadata": {},
   "outputs": [],
   "source": [
    "df_other_days"
   ]
  },
  {
   "cell_type": "code",
   "execution_count": null,
   "metadata": {},
   "outputs": [],
   "source": [
    "def func_freq(lst):\n",
    "    for el in lst:\n",
    "        print('Thirty Days Plus')\n",
    "        print(proc_freq(df_thirty,el))\n",
    "        print()\n",
    "        print('Less Than Thirty Days')\n",
    "        print(proc_freq(df_other_days,el))\n",
    "        \n",
    "        "
   ]
  }
 ],
 "metadata": {
  "kernelspec": {
   "display_name": "Python 3",
   "language": "python",
   "name": "python3"
  },
  "language_info": {
   "codemirror_mode": {
    "name": "ipython",
    "version": 3
   },
   "file_extension": ".py",
   "mimetype": "text/x-python",
   "name": "python",
   "nbconvert_exporter": "python",
   "pygments_lexer": "ipython3",
   "version": "3.8.5"
  }
 },
 "nbformat": 4,
 "nbformat_minor": 4
}
