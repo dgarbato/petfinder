{
 "cells": [
  {
   "cell_type": "markdown",
   "metadata": {},
   "source": [
    "import libraries and set style for matplotlib"
   ]
  },
  {
   "cell_type": "code",
   "execution_count": 1,
   "metadata": {},
   "outputs": [
    {
     "name": "stdout",
     "output_type": "stream",
     "text": [
      "['Solarize_Light2', '_classic_test_patch', 'bmh', 'classic', 'dark_background', 'fast', 'fivethirtyeight', 'ggplot', 'grayscale', 'seaborn', 'seaborn-bright', 'seaborn-colorblind', 'seaborn-dark', 'seaborn-dark-palette', 'seaborn-darkgrid', 'seaborn-deep', 'seaborn-muted', 'seaborn-notebook', 'seaborn-paper', 'seaborn-pastel', 'seaborn-poster', 'seaborn-talk', 'seaborn-ticks', 'seaborn-white', 'seaborn-whitegrid', 'tableau-colorblind10']\n"
     ]
    }
   ],
   "source": [
    "import pandas as pd\n",
    "import numpy as np\n",
    "from matplotlib import pyplot as plt\n",
    "import seaborn as sns\n",
    "%matplotlib inline\n",
    "\n",
    "pd.set_option('display.max_rows', 200)\n",
    "\n",
    "print(plt.style.available)\n",
    "#plt.style.use('default')\n",
    "#plt.style.use('seaborn-darkgrid')\n",
    "#plt.style.use(\"seaborn\")\n",
    "plt.style.use(\"tableau-colorblind10\")"
   ]
  },
  {
   "cell_type": "markdown",
   "metadata": {},
   "source": [
    "Read in data"
   ]
  },
  {
   "cell_type": "code",
   "execution_count": 2,
   "metadata": {},
   "outputs": [
    {
     "name": "stdout",
     "output_type": "stream",
     "text": [
      "<class 'pandas.core.frame.DataFrame'>\n",
      "RangeIndex: 2138 entries, 0 to 2137\n",
      "Data columns (total 20 columns):\n",
      " #   Column                  Non-Null Count  Dtype  \n",
      "---  ------                  --------------  -----  \n",
      " 0   Unnamed: 0              2138 non-null   int64  \n",
      " 1   cat_name                2138 non-null   object \n",
      " 2   num_images              2138 non-null   int64  \n",
      " 3   num_videos              2138 non-null   int64  \n",
      " 4   age                     2138 non-null   object \n",
      " 5   breed                   2138 non-null   object \n",
      " 6   color                   1825 non-null   object \n",
      " 7   size                    2138 non-null   object \n",
      " 8   sex                     2138 non-null   object \n",
      " 9   characteristics         844 non-null    object \n",
      " 10  house_trained           2125 non-null   object \n",
      " 11  health                  2073 non-null   object \n",
      " 12  good_in_a_home_with     1337 non-null   object \n",
      " 13  adoption_fee            379 non-null    object \n",
      " 14  prefers_a_home_without  327 non-null    object \n",
      " 15  coat_length             1480 non-null   object \n",
      " 16  pet_story_num_words     2084 non-null   float64\n",
      " 17  rescue_group            2138 non-null   object \n",
      " 18  data_set                2138 non-null   object \n",
      " 19  num_cats                2138 non-null   int64  \n",
      "dtypes: float64(1), int64(4), object(15)\n",
      "memory usage: 334.2+ KB\n"
     ]
    }
   ],
   "source": [
    "df_all=pd.read_csv(r'C:\\Users\\dgarb\\OneDrive\\Documents\\Data Science Bootcamp April\\Python\\web_scraping_project\\data prepared for analysis\\out_all.csv')\n",
    "df_all.info()"
   ]
  },
  {
   "cell_type": "code",
   "execution_count": 3,
   "metadata": {},
   "outputs": [
    {
     "data": {
      "text/html": [
       "<div>\n",
       "<style scoped>\n",
       "    .dataframe tbody tr th:only-of-type {\n",
       "        vertical-align: middle;\n",
       "    }\n",
       "\n",
       "    .dataframe tbody tr th {\n",
       "        vertical-align: top;\n",
       "    }\n",
       "\n",
       "    .dataframe thead th {\n",
       "        text-align: right;\n",
       "    }\n",
       "</style>\n",
       "<table border=\"1\" class=\"dataframe\">\n",
       "  <thead>\n",
       "    <tr style=\"text-align: right;\">\n",
       "      <th></th>\n",
       "      <th>Unnamed: 0</th>\n",
       "      <th>cat_name</th>\n",
       "      <th>num_images</th>\n",
       "      <th>num_videos</th>\n",
       "      <th>age</th>\n",
       "      <th>breed</th>\n",
       "      <th>color</th>\n",
       "      <th>size</th>\n",
       "      <th>sex</th>\n",
       "      <th>characteristics</th>\n",
       "      <th>house_trained</th>\n",
       "      <th>health</th>\n",
       "      <th>good_in_a_home_with</th>\n",
       "      <th>adoption_fee</th>\n",
       "      <th>prefers_a_home_without</th>\n",
       "      <th>coat_length</th>\n",
       "      <th>pet_story_num_words</th>\n",
       "      <th>rescue_group</th>\n",
       "      <th>data_set</th>\n",
       "      <th>num_cats</th>\n",
       "    </tr>\n",
       "  </thead>\n",
       "  <tbody>\n",
       "    <tr>\n",
       "      <th>0</th>\n",
       "      <td>0</td>\n",
       "      <td>Ashe and Billie</td>\n",
       "      <td>6</td>\n",
       "      <td>0</td>\n",
       "      <td>Adult</td>\n",
       "      <td>Domestic Short Hair</td>\n",
       "      <td>NaN</td>\n",
       "      <td>Medium</td>\n",
       "      <td>Female</td>\n",
       "      <td>NaN</td>\n",
       "      <td>Yes</td>\n",
       "      <td>Vaccinations up to date, spayed / neutered.</td>\n",
       "      <td>NaN</td>\n",
       "      <td>NaN</td>\n",
       "      <td>NaN</td>\n",
       "      <td>NaN</td>\n",
       "      <td>89.0</td>\n",
       "      <td>KittyKind</td>\n",
       "      <td>one_day</td>\n",
       "      <td>1</td>\n",
       "    </tr>\n",
       "    <tr>\n",
       "      <th>1</th>\n",
       "      <td>1</td>\n",
       "      <td>Billie and Ashe</td>\n",
       "      <td>6</td>\n",
       "      <td>0</td>\n",
       "      <td>Adult</td>\n",
       "      <td>Domestic Short Hair</td>\n",
       "      <td>NaN</td>\n",
       "      <td>Medium</td>\n",
       "      <td>Female</td>\n",
       "      <td>NaN</td>\n",
       "      <td>Yes</td>\n",
       "      <td>Vaccinations up to date, spayed / neutered.</td>\n",
       "      <td>NaN</td>\n",
       "      <td>NaN</td>\n",
       "      <td>NaN</td>\n",
       "      <td>NaN</td>\n",
       "      <td>89.0</td>\n",
       "      <td>KittyKind</td>\n",
       "      <td>one_day</td>\n",
       "      <td>1</td>\n",
       "    </tr>\n",
       "  </tbody>\n",
       "</table>\n",
       "</div>"
      ],
      "text/plain": [
       "   Unnamed: 0         cat_name  num_images  num_videos    age  \\\n",
       "0           0  Ashe and Billie           6           0  Adult   \n",
       "1           1  Billie and Ashe           6           0  Adult   \n",
       "\n",
       "                 breed color    size     sex characteristics house_trained  \\\n",
       "0  Domestic Short Hair   NaN  Medium  Female             NaN           Yes   \n",
       "1  Domestic Short Hair   NaN  Medium  Female             NaN           Yes   \n",
       "\n",
       "                                        health good_in_a_home_with  \\\n",
       "0  Vaccinations up to date, spayed / neutered.                 NaN   \n",
       "1  Vaccinations up to date, spayed / neutered.                 NaN   \n",
       "\n",
       "  adoption_fee prefers_a_home_without coat_length  pet_story_num_words  \\\n",
       "0          NaN                    NaN         NaN                 89.0   \n",
       "1          NaN                    NaN         NaN                 89.0   \n",
       "\n",
       "  rescue_group data_set  num_cats  \n",
       "0    KittyKind  one_day         1  \n",
       "1    KittyKind  one_day         1  "
      ]
     },
     "execution_count": 3,
     "metadata": {},
     "output_type": "execute_result"
    }
   ],
   "source": [
    "df_all.head(2)"
   ]
  },
  {
   "cell_type": "markdown",
   "metadata": {},
   "source": [
    "Create frequency distribution function"
   ]
  },
  {
   "cell_type": "code",
   "execution_count": 4,
   "metadata": {},
   "outputs": [],
   "source": [
    "def proc_freq(df,variable_):  #Note variable_ must be given in quotes; example variable_: 'xyz'\n",
    "    datax = df[variable_].value_counts().sort_index()\n",
    "    \n",
    "    datay = pd.DataFrame({\n",
    "        variable_: datax.index,\n",
    "        'Frequency': datax.values,\n",
    "        'Percent': ((datax.values/datax.values.sum())*100).round(2),\n",
    "        'Cumulative Frequency': datax.values.cumsum(),\n",
    "        'Cumulative Percent': ((datax.values.cumsum()/datax.values.sum())*100).round(2)   })\n",
    "    \n",
    "    #datay.set_index(variable_)\n",
    "    \n",
    "    return(datay)"
   ]
  },
  {
   "cell_type": "code",
   "execution_count": 5,
   "metadata": {},
   "outputs": [
    {
     "data": {
      "text/html": [
       "<div>\n",
       "<style scoped>\n",
       "    .dataframe tbody tr th:only-of-type {\n",
       "        vertical-align: middle;\n",
       "    }\n",
       "\n",
       "    .dataframe tbody tr th {\n",
       "        vertical-align: top;\n",
       "    }\n",
       "\n",
       "    .dataframe thead th {\n",
       "        text-align: right;\n",
       "    }\n",
       "</style>\n",
       "<table border=\"1\" class=\"dataframe\">\n",
       "  <thead>\n",
       "    <tr style=\"text-align: right;\">\n",
       "      <th></th>\n",
       "      <th>data_set</th>\n",
       "      <th>Frequency</th>\n",
       "      <th>Percent</th>\n",
       "      <th>Cumulative Frequency</th>\n",
       "      <th>Cumulative Percent</th>\n",
       "    </tr>\n",
       "  </thead>\n",
       "  <tbody>\n",
       "    <tr>\n",
       "      <th>0</th>\n",
       "      <td>fourteen_days</td>\n",
       "      <td>345</td>\n",
       "      <td>16.14</td>\n",
       "      <td>345</td>\n",
       "      <td>16.14</td>\n",
       "    </tr>\n",
       "    <tr>\n",
       "      <th>1</th>\n",
       "      <td>one_day</td>\n",
       "      <td>38</td>\n",
       "      <td>1.78</td>\n",
       "      <td>383</td>\n",
       "      <td>17.91</td>\n",
       "    </tr>\n",
       "    <tr>\n",
       "      <th>2</th>\n",
       "      <td>seven_days</td>\n",
       "      <td>204</td>\n",
       "      <td>9.54</td>\n",
       "      <td>587</td>\n",
       "      <td>27.46</td>\n",
       "    </tr>\n",
       "    <tr>\n",
       "      <th>3</th>\n",
       "      <td>spec_needs_other</td>\n",
       "      <td>14</td>\n",
       "      <td>0.65</td>\n",
       "      <td>601</td>\n",
       "      <td>28.11</td>\n",
       "    </tr>\n",
       "    <tr>\n",
       "      <th>4</th>\n",
       "      <td>thirty_day_spec_needs</td>\n",
       "      <td>104</td>\n",
       "      <td>4.86</td>\n",
       "      <td>705</td>\n",
       "      <td>32.97</td>\n",
       "    </tr>\n",
       "    <tr>\n",
       "      <th>5</th>\n",
       "      <td>thirty_days</td>\n",
       "      <td>1433</td>\n",
       "      <td>67.03</td>\n",
       "      <td>2138</td>\n",
       "      <td>100.00</td>\n",
       "    </tr>\n",
       "  </tbody>\n",
       "</table>\n",
       "</div>"
      ],
      "text/plain": [
       "                data_set  Frequency  Percent  Cumulative Frequency  \\\n",
       "0          fourteen_days        345    16.14                   345   \n",
       "1                one_day         38     1.78                   383   \n",
       "2             seven_days        204     9.54                   587   \n",
       "3       spec_needs_other         14     0.65                   601   \n",
       "4  thirty_day_spec_needs        104     4.86                   705   \n",
       "5            thirty_days       1433    67.03                  2138   \n",
       "\n",
       "   Cumulative Percent  \n",
       "0               16.14  \n",
       "1               17.91  \n",
       "2               27.46  \n",
       "3               28.11  \n",
       "4               32.97  \n",
       "5              100.00  "
      ]
     },
     "execution_count": 5,
     "metadata": {},
     "output_type": "execute_result"
    }
   ],
   "source": [
    "proc_freq(df_all,'data_set')"
   ]
  },
  {
   "cell_type": "code",
   "execution_count": 6,
   "metadata": {},
   "outputs": [
    {
     "name": "stdout",
     "output_type": "stream",
     "text": [
      "length Tabby  2138\n",
      "len more_than_1_cat  2138\n",
      "list length =  2138\n"
     ]
    },
    {
     "data": {
      "text/plain": [
       "(2138, 31)"
      ]
     },
     "execution_count": 6,
     "metadata": {},
     "output_type": "execute_result"
    }
   ],
   "source": [
    "df_all['cat_id']=df_all['cat_name'] + ' ' + df_all['rescue_group']\n",
    "\n",
    "df_all['thirty_days']=df_all['data_set'].apply(lambda x:  x in ['thirty_days'])\n",
    "\n",
    "#df_all['other_days'] =df_all['data_set'].apply(lambda x: x in ['one_day','seven_days','fourteen_days'])      \n",
    "\n",
    "df_all['spec_needs'] = df_all['data_set'].apply(lambda x: x in ['spec_needs_other','thirty_day_spec_needs'])\n",
    "\n",
    "df_all['color'] = df_all['color'].astype(str)\n",
    "\n",
    "Tabby = [True if 'Tabby' in cat else False for cat in df_all['color']]\n",
    "print('length Tabby ',len(Tabby))\n",
    "df_all['Tabby'] = pd.Series(Tabby)\n",
    "\n",
    "\n",
    "df_all['pet_story_num_words']  = df_all['pet_story_num_words'].fillna(0)\n",
    "\n",
    "df_all['without_story'] = df_all['pet_story_num_words'] == 0\n",
    "\n",
    "df_all['coat_length_miss'] = df_all['coat_length'].fillna('unknown')\n",
    "\n",
    "df_all['breed'] = df_all['breed'].fillna('unknown')\n",
    "\n",
    "#create 'more_than_1_cat'\n",
    "and1 = [True if 'and' in cat.split() else False for cat in df_all['cat_name']]\n",
    "and2 = [True if '&' in cat.split() else False for cat in df_all['cat_name']]\n",
    "\n",
    "mtn=(np.logical_or(and1,and2))\n",
    "print('len more_than_1_cat ',len(mtn))\n",
    "\n",
    "df_all['more_than_1_cat'] = pd.Series(mtn)\n",
    "\n",
    "\n",
    "\n",
    "df_all['video']= df_all['num_videos'] > 0\n",
    "\n",
    "df_all['num_pictures'] = df_all['num_images'].astype(str)\n",
    "\n",
    "df_all['pictures'] = df_all['num_images'] > 0\n",
    "\n",
    "\n",
    "\n",
    "breed_type=[]\n",
    "for breed in df_all['breed']:\n",
    "    if 'Domestic Short Hair' in breed:\n",
    "        breed_type.append('DSH')\n",
    "    elif 'Long Hair' in breed:   #Note 'Long Hair' must be identified before 'Mix','Tuxedo' 'Tortoiseshell' etc\n",
    "        breed_type.append('DLH')\n",
    "    elif 'Mix' in breed:\n",
    "        breed_type.append('DSH')\n",
    "    elif 'Tuxedo' in breed:\n",
    "        breed_type.append('DSH')\n",
    "    elif 'Tabby' in breed:\n",
    "        breed_type.append('DSH')\n",
    "    elif 'Calico' in breed:\n",
    "        breed_type.append('DSH')\n",
    "    elif 'Tortoiseshell' in breed:\n",
    "        breed_type.append('DSH')\n",
    "    elif 'Tiger' in breed:\n",
    "         breed_type.append('DSH')\n",
    "        \n",
    "    else:\n",
    "        breed_type.append('Other')\n",
    "\n",
    "print('list length = ',len(breed_type))\n",
    "        \n",
    "df_all['breed_type'] = pd.Series(breed_type)\n",
    "\n",
    "df_all.shape\n",
    "\n"
   ]
  },
  {
   "cell_type": "code",
   "execution_count": 7,
   "metadata": {},
   "outputs": [
    {
     "name": "stdout",
     "output_type": "stream",
     "text": [
      "df_all2.shape =  (2020, 23)\n"
     ]
    }
   ],
   "source": [
    "df_all2 = df_all.loc[df_all['spec_needs']==False,:]\n",
    "df_all2 = df_all2.drop(['spec_needs','breed','size','Unnamed: 0','house_trained','characteristics','health','num_cats',], axis = 1)\n",
    "\n",
    "df_all2.to_csv(r'C:\\Users\\dgarb\\OneDrive\\Documents\\Data Science Bootcamp April\\Python\\web_scraping_project\\data prepared for analysis\\cleaned data\\df_all.csv')\n",
    "\n",
    "print('df_all2.shape = ',df_all2.shape)\n",
    "\n",
    "#df_all2.info()"
   ]
  },
  {
   "cell_type": "code",
   "execution_count": 8,
   "metadata": {},
   "outputs": [
    {
     "ename": "NameError",
     "evalue": "name 'list_mask' is not defined",
     "output_type": "error",
     "traceback": [
      "\u001b[1;31m---------------------------------------------------------------------------\u001b[0m",
      "\u001b[1;31mNameError\u001b[0m                                 Traceback (most recent call last)",
      "\u001b[1;32m<ipython-input-8-3287a95e8f7e>\u001b[0m in \u001b[0;36m<module>\u001b[1;34m\u001b[0m\n\u001b[0;32m      1\u001b[0m \u001b[1;31m#list_mask = list of rescue groups that have one or more duplicates\u001b[0m\u001b[1;33m\u001b[0m\u001b[1;33m\u001b[0m\u001b[1;33m\u001b[0m\u001b[0m\n\u001b[1;32m----> 2\u001b[1;33m \u001b[0mlen\u001b[0m\u001b[1;33m(\u001b[0m\u001b[0mlist_mask\u001b[0m\u001b[1;33m)\u001b[0m\u001b[1;33m\u001b[0m\u001b[1;33m\u001b[0m\u001b[0m\n\u001b[0m\u001b[0;32m      3\u001b[0m \u001b[1;31m#final_mask\u001b[0m\u001b[1;33m\u001b[0m\u001b[1;33m\u001b[0m\u001b[1;33m\u001b[0m\u001b[0m\n",
      "\u001b[1;31mNameError\u001b[0m: name 'list_mask' is not defined"
     ]
    }
   ],
   "source": [
    "#list_mask = list of rescue groups that have one or more duplicates\n",
    "len(list_mask)\n",
    "#final_mask "
   ]
  },
  {
   "cell_type": "code",
   "execution_count": null,
   "metadata": {},
   "outputs": [],
   "source": [
    "#group_30b = df_thirty.groupby(['breed_type','age'])\n",
    "mask = df_all2.groupby(['cat_id']).count()[['cat_name']].sort_values(by=['cat_name'],ascending=False) > 1\n",
    "\n",
    "list_mask = df_all2.groupby(['cat_id']).count()[['cat_name']].sort_values(by=['cat_name'],ascending=False).loc[mask.values,:].index\n",
    "\n",
    "\n",
    "final_mask = df_all2['cat_id'].isin(list_mask)\n",
    "\n",
    "\n",
    "#the list created by below is the rescue group followed by however many duplicates\n",
    "df_all2.loc[final_mask,['cat_id','rescue_group','thirty_days']].groupby(['thirty_days','rescue_group']).count()"
   ]
  },
  {
   "cell_type": "code",
   "execution_count": null,
   "metadata": {
    "scrolled": true
   },
   "outputs": [],
   "source": [
    "#df_all2.loc[df_all2['rescue_group']=='Animal Life Savers Inc.',['cat_name','data_set','age']]\n",
    "df_all2.loc[df_all2['rescue_group']=='AdvoCat Rescue',['cat_name','data_set','age']]\n"
   ]
  },
  {
   "cell_type": "code",
   "execution_count": null,
   "metadata": {},
   "outputs": [],
   "source": [
    "m_than_one = df_all.loc[df_all['cat_name'].str.contains('&| and ',case=False)]\n",
    "m_than_one\n",
    "df_all['more_than_1_cat'] = df_all['cat_name'].apply(lambda x:  x in m_than_one['cat_name'].to_list())\n",
    "df_all['more_than_1_cat'].value_counts()\n"
   ]
  },
  {
   "cell_type": "markdown",
   "metadata": {},
   "source": [
    "Create two separate DataFrames one for thirty days and one for less than thirty days. \n",
    "\n",
    "Create two subset DataFrames  to compare kittens only"
   ]
  },
  {
   "cell_type": "code",
   "execution_count": null,
   "metadata": {},
   "outputs": [],
   "source": [
    "df_thirty = df_all.loc[df_all.thirty_days,:]\n",
    "df_thirty['days_on_site'] = 'Thirty Days Plus'\n",
    "\n",
    "df_other_days = df_all.loc[df_all.other_days,:]\n",
    "df_other_days['days_on_site'] = 'Less Than Thirty Days'\n",
    "\n",
    "df_thirty_k = df_thirty.loc[df_thirty['age']=='Kitten',:]\n",
    "df_other_days_k = df_other_days.loc[df_other_days['age']=='Kitten',:]\n",
    "\n",
    "df_other_days['days_on_site'].value_counts()\n",
    "\n",
    "combined_df = pd.concat([df_other_days,df_thirty], axis = 0, sort=False)\n",
    "\n",
    "combined_df_k = combined_df.loc[combined_df['age']=='Kitten',:]\n",
    "\n",
    "combined_df['days_on_site'].value_counts()"
   ]
  },
  {
   "cell_type": "code",
   "execution_count": null,
   "metadata": {},
   "outputs": [],
   "source": [
    "def func_freq(lst):\n",
    "    for el in lst:\n",
    "        print('Thirty Days Plus')\n",
    "        print(proc_freq(df_thirty,el))\n",
    "        print()\n",
    "        print('Less Than Thirty Days')\n",
    "        print(proc_freq(df_other_days,el))\n",
    "        print('_'*75)"
   ]
  },
  {
   "cell_type": "code",
   "execution_count": null,
   "metadata": {},
   "outputs": [],
   "source": [
    "cols=['age','sex','Tabby','without_story','coat_length_miss','coat_length', 'more_than_1_cat','breed_type','video', \\\n",
    "      'pictures','num_pictures']\n",
    "func_freq(cols)"
   ]
  },
  {
   "cell_type": "code",
   "execution_count": null,
   "metadata": {},
   "outputs": [],
   "source": [
    "def func_freq_k(lst):\n",
    "    for el in lst:\n",
    "        print('Thirty Days Plus Kittens')\n",
    "        print(proc_freq(df_thirty_k,el))\n",
    "        print()        print('Less Than Thirty Days Kittens')\n",
    "        print(proc_freq(df_other_days_k,el))\n",
    "        print('_'*75)"
   ]
  },
  {
   "cell_type": "code",
   "execution_count": null,
   "metadata": {},
   "outputs": [],
   "source": [
    "cols=['age','sex','Tabby','without_story','coat_length_miss','coat_length', 'more_than_1_cat','breed_type','video', \\\n",
    "      'pictures','num_pictures']\n",
    "func_freq_k(cols)"
   ]
  },
  {
   "cell_type": "code",
   "execution_count": null,
   "metadata": {},
   "outputs": [],
   "source": [
    "print('df_other_days')\n",
    "print(df_other_days.describe())\n",
    "print('#'*20)\n",
    "print('df_thirty')\n",
    "print(df_thirty.describe())"
   ]
  },
  {
   "cell_type": "markdown",
   "metadata": {},
   "source": [
    "Pet Story: Number Of Words Box Plot"
   ]
  },
  {
   "cell_type": "code",
   "execution_count": null,
   "metadata": {
    "scrolled": false
   },
   "outputs": [],
   "source": [
    "plt.style.use(\"tableau-colorblind10\")\n",
    "\n",
    "data1 = df_other_days['pet_story_num_words']\n",
    "data2 = df_thirty['pet_story_num_words']\n",
    "\n",
    "data = list([data1, data2])\n",
    "\n",
    "# Figure size\n",
    "plt.figure(figsize=(10,5))\n",
    "\n",
    "fig, ax = plt.subplots()\n",
    "\n",
    "# build a box plot\n",
    "ax.boxplot(data)\n",
    "\n",
    "\n",
    "\n",
    "# title and axis labels\n",
    "ax.set_title('Pet Story: Number Of Words')\n",
    "ax.set_xlabel('')\n",
    "ax.set_ylabel('Number Of Words')\n",
    "xticklabels=['Less Than Thirty Days', 'Thirty Days Plus']\n",
    "ax.set_xticklabels(xticklabels)\n",
    "\n",
    "plt.show()"
   ]
  },
  {
   "cell_type": "code",
   "execution_count": null,
   "metadata": {},
   "outputs": [],
   "source": [
    "print('df_other_days median ',df_other_days['pet_story_num_words'].median())\n",
    "print('df_other_days mean ',df_other_days['pet_story_num_words'].mean())\n",
    "print(' ')\n",
    "print('df_thirty median ',df_thirty['pet_story_num_words'].median())\n",
    "print('df_thirty mean ',df_thirty['pet_story_num_words'].mean())\n"
   ]
  },
  {
   "cell_type": "code",
   "execution_count": null,
   "metadata": {},
   "outputs": [],
   "source": [
    "df = combined_df.loc[:,['days_on_site','pet_story_num_words']]\n",
    "data_wide = df.pivot(columns='days_on_site',\n",
    "                     values='pet_story_num_words')\n",
    "data_wide.head()\n",
    "\n",
    "# calling density() to make\n",
    "# multiple density plot \n",
    "data_wide.plot.density(figsize = (7, 7),\n",
    "                       linewidth = 4)\n",
    "  \n",
    "plt.xlabel(\"Pet Story Number of Words\")\n",
    "data_wide"
   ]
  },
  {
   "cell_type": "code",
   "execution_count": null,
   "metadata": {},
   "outputs": [],
   "source": [
    "#num_images\n",
    "\n",
    "plt.style.use(\"tableau-colorblind10\")\n",
    "\n",
    "data1 = df_other_days['num_images']\n",
    "data2 = df_thirty['num_images']\n",
    "\n",
    "data = list([data1, data2])\n",
    "\n",
    "# Figure size\n",
    "plt.figure(figsize=(10,5))\n",
    "\n",
    "fig, ax = plt.subplots()\n",
    "\n",
    "# build a box plot\n",
    "ax.boxplot(data)\n",
    "\n",
    "\n",
    "\n",
    "# title and axis labels\n",
    "ax.set_title('Number of Cat Pictures')\n",
    "ax.set_xlabel('')\n",
    "ax.set_ylabel('Pictures')\n",
    "xticklabels=['Less Than Thirty Days', 'Thirty Days Plus']\n",
    "ax.set_xticklabels(xticklabels)\n",
    "\n",
    "plt.show()\n",
    "\n"
   ]
  },
  {
   "cell_type": "code",
   "execution_count": null,
   "metadata": {},
   "outputs": [],
   "source": [
    "print('df_other_days median ',df_other_days['num_images'].median())\n",
    "print('df_other_days mean ',df_other_days['num_images'].mean())\n",
    "print(' ')\n",
    "print('df_thirty median ',df_thirty['num_images'].median())\n",
    "print('df_thirty mean ',df_thirty['num_images'].mean())\n"
   ]
  },
  {
   "cell_type": "code",
   "execution_count": null,
   "metadata": {},
   "outputs": [],
   "source": [
    "df = combined_df.loc[:,['days_on_site','num_images']]\n",
    "data_wide = df.pivot(columns='days_on_site',\n",
    "                     values='num_images')\n",
    "data_wide.head()\n",
    "\n",
    "# calling density() to make\n",
    "# multiple density plot \n",
    "data_wide.plot.density(figsize = (7, 7),\n",
    "                       linewidth = 4)\n",
    "  \n",
    "plt.xlabel(\"Number of Pictures\")"
   ]
  },
  {
   "cell_type": "code",
   "execution_count": null,
   "metadata": {},
   "outputs": [],
   "source": [
    "g = sns.FacetGrid(penguins,col='island') #you can also use row\n",
    "g.map_dataframe(sns.scatterplot, x='bill_depth_mm', y= 'bill_length_mm')\n",
    "g.set_axis_labels('Culment Depth (mm)', 'Culmen Length (mm)')\n",
    "g.set_titles(col_template= '{col_name} Island');"
   ]
  },
  {
   "cell_type": "code",
   "execution_count": null,
   "metadata": {},
   "outputs": [],
   "source": [
    "print('30 days plus')\n",
    "print(df_thirty['sex'].value_counts(normalize=True))\n",
    "print('#'*50)\n",
    "print('Other days')\n",
    "print('_'*50)\n",
    "print(df_other_days['sex'].value_counts(normalize=True)) "
   ]
  },
  {
   "cell_type": "code",
   "execution_count": null,
   "metadata": {},
   "outputs": [],
   "source": [
    "#plt.style.use('darkgrid')\n",
    "#set_style('darkgrid[')]\n",
    "plt.style.use(\"tableau-colorblind10\")"
   ]
  },
  {
   "cell_type": "code",
   "execution_count": null,
   "metadata": {},
   "outputs": [],
   "source": [
    "# Numbers of pairs of bars \n",
    "N = 2\n",
    "\n",
    "# Data on X-axis\n",
    "\n",
    "# Specify the values of blue bars (height)\n",
    "Other_days = df_other_days['sex'].value_counts(normalize=True)*100\n",
    "# Specify the values of orange bars (height)\n",
    "Thirty_days = df_thirty['sex'].value_counts(normalize=True)*100\n",
    "\n",
    "# Position of bars on x-axis\n",
    "ind = np.arange(N)\n",
    "\n",
    "# Figure size\n",
    "plt.figure(figsize=(10,5))\n",
    "\n",
    "# Width of a bar \n",
    "width = 0.3       \n",
    "\n",
    "# Plotting\n",
    "plt.bar(ind, Other_days , width )\n",
    "plt.bar(ind + width, Thirty_days, width)\n",
    "\n",
    "plt.xlabel('Gender')\n",
    "plt.ylabel('Percentage Of Cats')\n",
    "plt.title('Gender Comparison')\n",
    "\n",
    "# xticks()\n",
    "# First argument - A list of positions at which ticks should be placed\n",
    "# Second argument -  A list of labels to place at the given locations\n",
    "plt.xticks(ind + width / 2, ('Less Than Thirty Days','Thirty Days Plus'))\n",
    "\n",
    "# Finding the best position for legends and putting it\n",
    "plt.legend(loc=2)\n",
    "plt.show()\n"
   ]
  },
  {
   "cell_type": "code",
   "execution_count": null,
   "metadata": {},
   "outputs": [],
   "source": [
    "Other_days."
   ]
  },
  {
   "cell_type": "code",
   "execution_count": null,
   "metadata": {},
   "outputs": [],
   "source": [
    "Thirty_days"
   ]
  },
  {
   "cell_type": "code",
   "execution_count": null,
   "metadata": {},
   "outputs": [],
   "source": [
    "df_thirty['breed_type'].value_counts(normalize=True)"
   ]
  },
  {
   "cell_type": "code",
   "execution_count": null,
   "metadata": {},
   "outputs": [],
   "source": [
    "df_other_days['breed_type'].value_counts(normalize=True)"
   ]
  },
  {
   "cell_type": "code",
   "execution_count": null,
   "metadata": {},
   "outputs": [],
   "source": [
    "group_30=df_thirty.groupby(['breed_type','age']).agg(['count'])['cat_name']\n",
    "group_30.loc['DLH',:]"
   ]
  },
  {
   "cell_type": "code",
   "execution_count": null,
   "metadata": {},
   "outputs": [],
   "source": [
    "dfb = df_thirty.groupby(['breed_type']).agg(['count'])['cat_name']\n",
    "dfb.loc['DLH',:]"
   ]
  },
  {
   "cell_type": "code",
   "execution_count": null,
   "metadata": {},
   "outputs": [],
   "source": [
    "group_30.loc['DLH',:]/dfb.loc['DLH',:]"
   ]
  },
  {
   "cell_type": "code",
   "execution_count": null,
   "metadata": {},
   "outputs": [],
   "source": [
    "group_30b = df_thirty.groupby(['breed_type','age'])\n",
    "group_30.agg(['sum'])['num_cats']"
   ]
  },
  {
   "cell_type": "code",
   "execution_count": null,
   "metadata": {},
   "outputs": [],
   "source": [
    "df_thirty['age'].value_counts(normalize=True)"
   ]
  },
  {
   "cell_type": "code",
   "execution_count": null,
   "metadata": {},
   "outputs": [],
   "source": [
    "df_other_days['age'].value_counts(normalize=True)"
   ]
  },
  {
   "cell_type": "code",
   "execution_count": null,
   "metadata": {},
   "outputs": [],
   "source": [
    "df_other_days['age'].value_counts()"
   ]
  },
  {
   "cell_type": "code",
   "execution_count": null,
   "metadata": {},
   "outputs": [],
   "source": [
    "#df_all.groupby('data_set')['age'].value_counts(normalize=True).plot.bar()"
   ]
  },
  {
   "cell_type": "code",
   "execution_count": null,
   "metadata": {},
   "outputs": [],
   "source": [
    "#df_thirty['breed'].value_counts(normalize=True)\n"
   ]
  },
  {
   "cell_type": "code",
   "execution_count": null,
   "metadata": {},
   "outputs": [],
   "source": [
    "df_thirty['color'].value_counts(normalize=True)"
   ]
  },
  {
   "cell_type": "code",
   "execution_count": null,
   "metadata": {},
   "outputs": [],
   "source": [
    "df_other_days = df_all.loc[df_all.other_days,:]\n",
    "df_other_days.head(2)\n",
    "df_other_days['age'].value_counts(normalize=True)"
   ]
  },
  {
   "cell_type": "code",
   "execution_count": null,
   "metadata": {},
   "outputs": [],
   "source": [
    "N=4\n",
    "\n",
    "Thirty_Days_Plus = df_thirty['age'].value_counts(normalize=True)\n",
    "Other_Days = df_other_days['age'].value_counts(normalize=True)\n",
    "\n",
    "width=0.35\n",
    "ind = np.arange(N) \n"
   ]
  },
  {
   "cell_type": "code",
   "execution_count": null,
   "metadata": {},
   "outputs": [],
   "source": [
    "N = 4\n",
    "\n",
    "# Data on X-axis\n",
    "\n",
    "# Specify the values of blue bars (height)\n",
    "Other_Days = df_other_days['age'].value_counts(normalize=True)*100\n",
    "# Specify the values of orange bars (height)\n",
    "Thirty_Days_Plus = df_thirty['age'].value_counts(normalize=True)*100\n",
    "\n",
    "# Position of bars on x-axis\n",
    "ind = np.arange(N)\n",
    "\n",
    "# Figure size\n",
    "plt.figure(figsize=(10,5))\n",
    "\n",
    "# Width of a bar \n",
    "width = 0.3       \n",
    "\n",
    "# Plotting\n",
    "plt.bar(ind, Other_Days , width, label='Less Than Thirty Days')\n",
    "plt.bar(ind + width, Thirty_Days_Plus, width, label='Thirty Days Plus')\n",
    "\n",
    "plt.xlabel('Age')\n",
    "plt.ylabel('Percentage Of Cats')\n",
    "plt.title('Age Comparison')\n",
    "\n",
    "# xticks()\n",
    "# First argument - A list of positions at which ticks should be placed\n",
    "# Second argument -  A list of labels to place at the given locations\n",
    "plt.xticks(ind + width / 2, ('Kitten', 'Young', 'Adult', 'Senior'))\n",
    "\n",
    "# Finding the best position for legends and putting it\n",
    "plt.legend(loc='best')\n",
    "plt.show()"
   ]
  },
  {
   "cell_type": "code",
   "execution_count": null,
   "metadata": {},
   "outputs": [],
   "source": [
    "df_other_days['color'].value_counts(normalize=True)"
   ]
  },
  {
   "cell_type": "code",
   "execution_count": null,
   "metadata": {},
   "outputs": [],
   "source": []
  },
  {
   "cell_type": "code",
   "execution_count": null,
   "metadata": {},
   "outputs": [],
   "source": [
    "rescue_groups_other = list(df_other_days['rescue_group'].unique())\n",
    "#type(df_other_days['rescue_group'].unique())\n",
    "df_other_rescue = pd.DataFrame({'rescue_group':rescue_groups_other})\n",
    "df_other_rescue"
   ]
  },
  {
   "cell_type": "code",
   "execution_count": null,
   "metadata": {},
   "outputs": [],
   "source": [
    "df_all.groupby(['rescue_group'])['unique_cat_id'].nunique()"
   ]
  },
  {
   "cell_type": "code",
   "execution_count": null,
   "metadata": {},
   "outputs": [],
   "source": [
    "df_days = pd.read_csv(r'C:\\Users\\dgarb\\OneDrive\\Documents\\Data Science Bootcamp April\\Python\\web_scraping_project\\data prepared for analysis\\out_days_petfinder_combined.csv')\n",
    "\n",
    "df_days.head(2) "
   ]
  },
  {
   "cell_type": "code",
   "execution_count": null,
   "metadata": {},
   "outputs": [],
   "source": [
    "\n",
    "df_spec_needs = pd.read_csv(r'C:\\Users\\dgarb\\OneDrive\\Documents\\Data Science Bootcamp April\\Python\\web_scraping_project\\data prepared for analysis\\out_spec_needs_combined.csv')\n",
    "df_spec_needs.head(2)"
   ]
  },
  {
   "cell_type": "code",
   "execution_count": null,
   "metadata": {},
   "outputs": [],
   "source": [
    "df_spec_needs = pd.read_csv(r'C:\\Users\\dgarb\\OneDrive\\Documents\\Data Science Bootcamp April\\Python\\web_scraping_project\\data prepared for analysis\\out_spec_needs_combined.csv')"
   ]
  }
 ],
 "metadata": {
  "kernelspec": {
   "display_name": "Python 3",
   "language": "python",
   "name": "python3"
  },
  "language_info": {
   "codemirror_mode": {
    "name": "ipython",
    "version": 3
   },
   "file_extension": ".py",
   "mimetype": "text/x-python",
   "name": "python",
   "nbconvert_exporter": "python",
   "pygments_lexer": "ipython3",
   "version": "3.8.5"
  }
 },
 "nbformat": 4,
 "nbformat_minor": 4
}
