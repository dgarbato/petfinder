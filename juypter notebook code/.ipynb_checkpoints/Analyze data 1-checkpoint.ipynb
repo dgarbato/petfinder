{
 "cells": [
  {
   "cell_type": "markdown",
   "metadata": {},
   "source": [
    "import libraries and set style for matplotlib"
   ]
  },
  {
   "cell_type": "code",
   "execution_count": 1,
   "metadata": {},
   "outputs": [
    {
     "name": "stdout",
     "output_type": "stream",
     "text": [
      "['Solarize_Light2', '_classic_test_patch', 'bmh', 'classic', 'dark_background', 'fast', 'fivethirtyeight', 'ggplot', 'grayscale', 'seaborn', 'seaborn-bright', 'seaborn-colorblind', 'seaborn-dark', 'seaborn-dark-palette', 'seaborn-darkgrid', 'seaborn-deep', 'seaborn-muted', 'seaborn-notebook', 'seaborn-paper', 'seaborn-pastel', 'seaborn-poster', 'seaborn-talk', 'seaborn-ticks', 'seaborn-white', 'seaborn-whitegrid', 'tableau-colorblind10']\n"
     ]
    }
   ],
   "source": [
    "import pandas as pd\n",
    "import numpy as np\n",
    "from matplotlib import pyplot as plt\n",
    "import seaborn as sns\n",
    "%matplotlib inline\n",
    "\n",
    "pd.set_option('display.max_rows', 200)\n",
    "\n",
    "print(plt.style.available)\n",
    "#plt.style.use('default')\n",
    "#plt.style.use('seaborn-darkgrid')\n",
    "#plt.style.use(\"seaborn\")\n",
    "#plt.style.use(\"tableau-colorblind10\")"
   ]
  },
  {
   "cell_type": "markdown",
   "metadata": {},
   "source": [
    "Read in data"
   ]
  },
  {
   "cell_type": "code",
   "execution_count": 2,
   "metadata": {},
   "outputs": [
    {
     "name": "stdout",
     "output_type": "stream",
     "text": [
      "<class 'pandas.core.frame.DataFrame'>\n",
      "RangeIndex: 2138 entries, 0 to 2137\n",
      "Data columns (total 20 columns):\n",
      " #   Column                  Non-Null Count  Dtype  \n",
      "---  ------                  --------------  -----  \n",
      " 0   Unnamed: 0              2138 non-null   int64  \n",
      " 1   cat_name                2138 non-null   object \n",
      " 2   num_images              2138 non-null   int64  \n",
      " 3   num_videos              2138 non-null   int64  \n",
      " 4   age                     2138 non-null   object \n",
      " 5   breed                   2138 non-null   object \n",
      " 6   color                   1825 non-null   object \n",
      " 7   size                    2138 non-null   object \n",
      " 8   sex                     2138 non-null   object \n",
      " 9   characteristics         844 non-null    object \n",
      " 10  house_trained           2125 non-null   object \n",
      " 11  health                  2073 non-null   object \n",
      " 12  good_in_a_home_with     1337 non-null   object \n",
      " 13  adoption_fee            379 non-null    object \n",
      " 14  prefers_a_home_without  327 non-null    object \n",
      " 15  coat_length             1480 non-null   object \n",
      " 16  pet_story_num_words     2084 non-null   float64\n",
      " 17  rescue_group            2138 non-null   object \n",
      " 18  data_set                2138 non-null   object \n",
      " 19  num_cats                2138 non-null   int64  \n",
      "dtypes: float64(1), int64(4), object(15)\n",
      "memory usage: 334.2+ KB\n"
     ]
    }
   ],
   "source": [
    "df_all=pd.read_csv(r'C:\\Users\\dgarb\\OneDrive\\Documents\\Data Science Bootcamp April\\Python\\web_scraping_project\\data prepared for analysis\\out_all.csv')\n",
    "df_all.info()"
   ]
  },
  {
   "cell_type": "code",
   "execution_count": 3,
   "metadata": {},
   "outputs": [
    {
     "data": {
      "text/html": [
       "<div>\n",
       "<style scoped>\n",
       "    .dataframe tbody tr th:only-of-type {\n",
       "        vertical-align: middle;\n",
       "    }\n",
       "\n",
       "    .dataframe tbody tr th {\n",
       "        vertical-align: top;\n",
       "    }\n",
       "\n",
       "    .dataframe thead th {\n",
       "        text-align: right;\n",
       "    }\n",
       "</style>\n",
       "<table border=\"1\" class=\"dataframe\">\n",
       "  <thead>\n",
       "    <tr style=\"text-align: right;\">\n",
       "      <th></th>\n",
       "      <th>Unnamed: 0</th>\n",
       "      <th>cat_name</th>\n",
       "      <th>num_images</th>\n",
       "      <th>num_videos</th>\n",
       "      <th>age</th>\n",
       "      <th>breed</th>\n",
       "      <th>color</th>\n",
       "      <th>size</th>\n",
       "      <th>sex</th>\n",
       "      <th>characteristics</th>\n",
       "      <th>house_trained</th>\n",
       "      <th>health</th>\n",
       "      <th>good_in_a_home_with</th>\n",
       "      <th>adoption_fee</th>\n",
       "      <th>prefers_a_home_without</th>\n",
       "      <th>coat_length</th>\n",
       "      <th>pet_story_num_words</th>\n",
       "      <th>rescue_group</th>\n",
       "      <th>data_set</th>\n",
       "      <th>num_cats</th>\n",
       "    </tr>\n",
       "  </thead>\n",
       "  <tbody>\n",
       "    <tr>\n",
       "      <th>0</th>\n",
       "      <td>0</td>\n",
       "      <td>Ashe and Billie</td>\n",
       "      <td>6</td>\n",
       "      <td>0</td>\n",
       "      <td>Adult</td>\n",
       "      <td>Domestic Short Hair</td>\n",
       "      <td>NaN</td>\n",
       "      <td>Medium</td>\n",
       "      <td>Female</td>\n",
       "      <td>NaN</td>\n",
       "      <td>Yes</td>\n",
       "      <td>Vaccinations up to date, spayed / neutered.</td>\n",
       "      <td>NaN</td>\n",
       "      <td>NaN</td>\n",
       "      <td>NaN</td>\n",
       "      <td>NaN</td>\n",
       "      <td>89.0</td>\n",
       "      <td>KittyKind</td>\n",
       "      <td>one_day</td>\n",
       "      <td>1</td>\n",
       "    </tr>\n",
       "    <tr>\n",
       "      <th>1</th>\n",
       "      <td>1</td>\n",
       "      <td>Billie and Ashe</td>\n",
       "      <td>6</td>\n",
       "      <td>0</td>\n",
       "      <td>Adult</td>\n",
       "      <td>Domestic Short Hair</td>\n",
       "      <td>NaN</td>\n",
       "      <td>Medium</td>\n",
       "      <td>Female</td>\n",
       "      <td>NaN</td>\n",
       "      <td>Yes</td>\n",
       "      <td>Vaccinations up to date, spayed / neutered.</td>\n",
       "      <td>NaN</td>\n",
       "      <td>NaN</td>\n",
       "      <td>NaN</td>\n",
       "      <td>NaN</td>\n",
       "      <td>89.0</td>\n",
       "      <td>KittyKind</td>\n",
       "      <td>one_day</td>\n",
       "      <td>1</td>\n",
       "    </tr>\n",
       "  </tbody>\n",
       "</table>\n",
       "</div>"
      ],
      "text/plain": [
       "   Unnamed: 0         cat_name  num_images  num_videos    age  \\\n",
       "0           0  Ashe and Billie           6           0  Adult   \n",
       "1           1  Billie and Ashe           6           0  Adult   \n",
       "\n",
       "                 breed color    size     sex characteristics house_trained  \\\n",
       "0  Domestic Short Hair   NaN  Medium  Female             NaN           Yes   \n",
       "1  Domestic Short Hair   NaN  Medium  Female             NaN           Yes   \n",
       "\n",
       "                                        health good_in_a_home_with  \\\n",
       "0  Vaccinations up to date, spayed / neutered.                 NaN   \n",
       "1  Vaccinations up to date, spayed / neutered.                 NaN   \n",
       "\n",
       "  adoption_fee prefers_a_home_without coat_length  pet_story_num_words  \\\n",
       "0          NaN                    NaN         NaN                 89.0   \n",
       "1          NaN                    NaN         NaN                 89.0   \n",
       "\n",
       "  rescue_group data_set  num_cats  \n",
       "0    KittyKind  one_day         1  \n",
       "1    KittyKind  one_day         1  "
      ]
     },
     "execution_count": 3,
     "metadata": {},
     "output_type": "execute_result"
    }
   ],
   "source": [
    "df_all.head(2)"
   ]
  },
  {
   "cell_type": "markdown",
   "metadata": {},
   "source": [
    "Create frequency distribution function"
   ]
  },
  {
   "cell_type": "code",
   "execution_count": 140,
   "metadata": {},
   "outputs": [],
   "source": [
    "def proc_freq(df,variable_):  #Note variable_ must be given in quotes; example variable_: 'xyz'\n",
    "    datax = df[variable_].value_counts().sort_index()\n",
    "    \n",
    "    datay = pd.DataFrame({\n",
    "        variable_: datax.index,\n",
    "        'Frequency': datax.values,\n",
    "        'Percent': ((datax.values/datax.values.sum())*100).round(1),\n",
    "        'Cumulative Frequency': datax.values.cumsum(),\n",
    "        'Cumulative Percent': ((datax.values.cumsum()/datax.values.sum())*100).round(1)   })\n",
    "    \n",
    "    #datay.set_index(variable_)\n",
    "    \n",
    "    return(datay)"
   ]
  },
  {
   "cell_type": "code",
   "execution_count": 5,
   "metadata": {},
   "outputs": [
    {
     "data": {
      "text/html": [
       "<div>\n",
       "<style scoped>\n",
       "    .dataframe tbody tr th:only-of-type {\n",
       "        vertical-align: middle;\n",
       "    }\n",
       "\n",
       "    .dataframe tbody tr th {\n",
       "        vertical-align: top;\n",
       "    }\n",
       "\n",
       "    .dataframe thead th {\n",
       "        text-align: right;\n",
       "    }\n",
       "</style>\n",
       "<table border=\"1\" class=\"dataframe\">\n",
       "  <thead>\n",
       "    <tr style=\"text-align: right;\">\n",
       "      <th></th>\n",
       "      <th>data_set</th>\n",
       "      <th>Frequency</th>\n",
       "      <th>Percent</th>\n",
       "      <th>Cumulative Frequency</th>\n",
       "      <th>Cumulative Percent</th>\n",
       "    </tr>\n",
       "  </thead>\n",
       "  <tbody>\n",
       "    <tr>\n",
       "      <th>0</th>\n",
       "      <td>fourteen_days</td>\n",
       "      <td>345</td>\n",
       "      <td>16.14</td>\n",
       "      <td>345</td>\n",
       "      <td>16.14</td>\n",
       "    </tr>\n",
       "    <tr>\n",
       "      <th>1</th>\n",
       "      <td>one_day</td>\n",
       "      <td>38</td>\n",
       "      <td>1.78</td>\n",
       "      <td>383</td>\n",
       "      <td>17.91</td>\n",
       "    </tr>\n",
       "    <tr>\n",
       "      <th>2</th>\n",
       "      <td>seven_days</td>\n",
       "      <td>204</td>\n",
       "      <td>9.54</td>\n",
       "      <td>587</td>\n",
       "      <td>27.46</td>\n",
       "    </tr>\n",
       "    <tr>\n",
       "      <th>3</th>\n",
       "      <td>spec_needs_other</td>\n",
       "      <td>14</td>\n",
       "      <td>0.65</td>\n",
       "      <td>601</td>\n",
       "      <td>28.11</td>\n",
       "    </tr>\n",
       "    <tr>\n",
       "      <th>4</th>\n",
       "      <td>thirty_day_spec_needs</td>\n",
       "      <td>104</td>\n",
       "      <td>4.86</td>\n",
       "      <td>705</td>\n",
       "      <td>32.97</td>\n",
       "    </tr>\n",
       "    <tr>\n",
       "      <th>5</th>\n",
       "      <td>thirty_days</td>\n",
       "      <td>1433</td>\n",
       "      <td>67.03</td>\n",
       "      <td>2138</td>\n",
       "      <td>100.00</td>\n",
       "    </tr>\n",
       "  </tbody>\n",
       "</table>\n",
       "</div>"
      ],
      "text/plain": [
       "                data_set  Frequency  Percent  Cumulative Frequency  \\\n",
       "0          fourteen_days        345    16.14                   345   \n",
       "1                one_day         38     1.78                   383   \n",
       "2             seven_days        204     9.54                   587   \n",
       "3       spec_needs_other         14     0.65                   601   \n",
       "4  thirty_day_spec_needs        104     4.86                   705   \n",
       "5            thirty_days       1433    67.03                  2138   \n",
       "\n",
       "   Cumulative Percent  \n",
       "0               16.14  \n",
       "1               17.91  \n",
       "2               27.46  \n",
       "3               28.11  \n",
       "4               32.97  \n",
       "5              100.00  "
      ]
     },
     "execution_count": 5,
     "metadata": {},
     "output_type": "execute_result"
    }
   ],
   "source": [
    "proc_freq(df_all,'data_set')"
   ]
  },
  {
   "cell_type": "code",
   "execution_count": null,
   "metadata": {},
   "outputs": [],
   "source": []
  },
  {
   "cell_type": "code",
   "execution_count": 39,
   "metadata": {},
   "outputs": [
    {
     "name": "stdout",
     "output_type": "stream",
     "text": [
      "len more_than_1_cat  2138\n",
      "list length =  2138\n",
      "days on site length 2138\n",
      "len of lst  2138\n"
     ]
    },
    {
     "data": {
      "text/plain": [
       "(2138, 34)"
      ]
     },
     "execution_count": 39,
     "metadata": {},
     "output_type": "execute_result"
    }
   ],
   "source": [
    "df_all['cat_id']=df_all['cat_name'] + ' ' + df_all['rescue_group']\n",
    "\n",
    "df_all['thirty_days']=df_all['data_set'].apply(lambda x:  x in ['thirty_days'])\n",
    "\n",
    "df_all['other_days'] =df_all['data_set'].apply(lambda x: x in ['one_day','seven_days','fourteen_days'])      \n",
    "\n",
    "df_all['spec_needs'] = df_all['data_set'].apply(lambda x: x in ['spec_needs_other','thirty_day_spec_needs'])\n",
    "\n",
    "#df_all['color'] = df_all['color'].astype(str)\n",
    "\n",
    "# Tabby = [True if 'Tabby' in cat else False for cat in df_all['color']]\n",
    "# print('length Tabby ',len(Tabby))\n",
    "# df_all['Tabby'] = pd.Series(Tabby)\n",
    "\n",
    "\n",
    "df_all['pet_story_num_words']  = df_all['pet_story_num_words'].fillna(0)\n",
    "\n",
    "df_all['without_story'] = df_all['pet_story_num_words'] == 0\n",
    "\n",
    "df_all['coat_length_miss'] = df_all['coat_length'].fillna('unknown')\n",
    "\n",
    "df_all['color_miss'] = df_all['color'].fillna('unknown')\n",
    "\n",
    "\n",
    "df_all['breed'] = df_all['breed'].fillna('unknown')\n",
    "\n",
    "#create 'more_than_1_cat'\n",
    "and1 = [True if 'and' in cat.split() else False for cat in df_all['cat_name']]\n",
    "and2 = [True if '&' in cat.split() else False for cat in df_all['cat_name']]\n",
    "\n",
    "mtn=(np.logical_or(and1,and2))\n",
    "print('len more_than_1_cat ',len(mtn))\n",
    "\n",
    "df_all['more_than_1_cat'] = pd.Series(mtn)\n",
    "\n",
    "\n",
    "\n",
    "df_all['video']= df_all['num_videos'] > 0\n",
    "\n",
    "df_all['num_pictures'] = df_all['num_images'].astype(str)\n",
    "\n",
    "df_all['pictures'] = df_all['num_images'] > 0\n",
    "\n",
    "\n",
    "\n",
    "breed_type=[]\n",
    "for breed in df_all['breed']:\n",
    "    if 'Domestic Short Hair' in breed:\n",
    "        breed_type.append('DSH')\n",
    "    elif 'Long Hair' in breed:   #Note 'Long Hair' must be identified before 'Mix','Tuxedo' 'Tortoiseshell' etc\n",
    "        breed_type.append('DLH')\n",
    "    elif 'Mix' in breed:\n",
    "        breed_type.append('DSH')\n",
    "    elif 'Tuxedo' in breed:\n",
    "        breed_type.append('DSH')\n",
    "    elif 'Tabby' in breed:\n",
    "        breed_type.append('DSH')\n",
    "    elif 'Calico' in breed:\n",
    "        breed_type.append('DSH')\n",
    "    elif 'Tortoiseshell' in breed:\n",
    "        breed_type.append('DSH')\n",
    "    elif 'Tiger' in breed:\n",
    "         breed_type.append('DSH')\n",
    "        \n",
    "    else:\n",
    "        breed_type.append('Other')\n",
    "\n",
    "print('list length = ',len(breed_type))\n",
    "        \n",
    "df_all['breed_type'] = pd.Series(breed_type)\n",
    "\n",
    "days_on_site = ['Thirty Days Plus' if v == True else 'Less Than Thirty Days' for v in df_all['thirty_days']]\n",
    "print('days on site length',len(days_on_site)) #need variable in this form for graphs in analysis\n",
    "\n",
    "df_all['Days_On_Site'] = pd.Series(days_on_site)\n",
    "\n",
    "colors_keep=['Black & White / Tuxedo','Black', 'Tabby (Brown / Chocolate)', 'Gray & White', \\\n",
    "        'Tabby (Gray / Blue / Silver)', 'Orange & White', 'Gray / Blue / Silver', 'Calico', \\\n",
    "        'Tabby (Tiger Striped)', 'Tabby (Buff / Tan / Fawn)', 'White','Tortoiseshell', 'Orange / Red', \\\n",
    "        'Tabby (Orange / Red)'   ]\n",
    "\n",
    "lst =[]    \n",
    "for color_ in df_all['color']:\n",
    "    if color_ in colors_keep:\n",
    "        lst.append(color_)\n",
    "    else:\n",
    "        lst.append('Other')\n",
    "\n",
    "df_all['color_new'] = pd.Series(lst)\n",
    "print('len of lst ',len(lst))\n",
    "\n",
    "df_all.shape\n",
    "\n"
   ]
  },
  {
   "cell_type": "code",
   "execution_count": 73,
   "metadata": {},
   "outputs": [],
   "source": [
    "#df_all['color_miss'].value_counts(normalize=True)*100\n"
   ]
  },
  {
   "cell_type": "markdown",
   "metadata": {},
   "source": [
    "write out data"
   ]
  },
  {
   "cell_type": "code",
   "execution_count": 74,
   "metadata": {},
   "outputs": [
    {
     "name": "stdout",
     "output_type": "stream",
     "text": [
      "df_all2.shape =  (2020, 25)\n"
     ]
    }
   ],
   "source": [
    "df_all2 = df_all.loc[df_all['spec_needs']==False,:]\n",
    "df_all2 = df_all2.drop(['spec_needs','breed','size','Unnamed: 0','house_trained','characteristics','health','num_cats','other_days'], axis = 1)\n",
    "\n",
    "df_all2.to_csv(r'C:\\Users\\dgarb\\OneDrive\\Documents\\Data Science Bootcamp April\\Python\\web_scraping_project\\data prepared for analysis\\cleaned data\\df_all.csv')\n",
    "\n",
    "print('df_all2.shape = ',df_all2.shape)\n",
    "\n",
    "\n",
    "#df_all2.info()"
   ]
  },
  {
   "cell_type": "markdown",
   "metadata": {},
   "source": [
    "Determine number of duplicates by rescue group"
   ]
  },
  {
   "cell_type": "markdown",
   "metadata": {},
   "source": [
    "In Pandas:\n",
    "\n",
    "The values property is used to get a Numpy representation of the DataFrame. Only the values in the DataFrame will be returned, the axes labels will be removed. The values of the DataFrame. A DataFrame where all columns are the same type (e.g., int64) results in an array of the same type."
   ]
  },
  {
   "cell_type": "code",
   "execution_count": 110,
   "metadata": {},
   "outputs": [],
   "source": [
    "# for x in df_all2.groupby(['cat_id']):\n",
    "#     print(x)\n",
    "    "
   ]
  },
  {
   "cell_type": "code",
   "execution_count": 87,
   "metadata": {},
   "outputs": [
    {
     "name": "stdout",
     "output_type": "stream",
     "text": [
      "type: mask   <class 'pandas.core.frame.DataFrame'>\n",
      "shape: mask   (1780, 1)\n",
      " \n",
      "type list_mask:   <class 'pandas.core.indexes.base.Index'>\n",
      "list_mask:  \n",
      "Index(['Mash & Fries - Bonded Brothers AdvoCat Rescue',\n",
      "       'Miss Misstoffelees AdvoCat Rescue',\n",
      "       'Fries & Mash - Bonded Brothers AdvoCat Rescue',\n",
      "       'The Jimmy AdvoCat Rescue',\n",
      "       'Hermione - Hogwarts Kittens AdvoCat Rescue',\n",
      "       'Harry - Hogwarts Kittens AdvoCat Rescue',\n",
      "       'Ron - Hogwarts Kittens AdvoCat Rescue',\n",
      "       'Favorite Babies-Wonton, Lichee, Sprout & Dumpling Brooklyn Animal Action',\n",
      "       'Bacall All About Cats Rescue, Inc', 'Leo Bergen County Animal Shelter',\n",
      "       ...\n",
      "       'Basil and Sage: Spice Kittens! Brooklyn Animal Action',\n",
      "       'Picasso Petunia Liberty Humane Society', 'Tracy Infinite Hope',\n",
      "       'Lulu Eccentric Kittens', 'Lah Lah Ready For Rescue',\n",
      "       'Dusty and Oliver Waggytail Rescue',\n",
      "       'Abandoned Cats Coming In Friends of the Clifton Animal Shelter',\n",
      "       'Mickey Ready For Rescue', 'Barley Animal Life Savers Inc.',\n",
      "       'LUCY For Blake's Sake Rescue, Inc.'],\n",
      "      dtype='object', name='cat_id', length=189)\n",
      " \n",
      "type: final_mask   <class 'pandas.core.series.Series'>\n",
      "final_mask.shape:   (2020,)\n",
      " \n",
      "final_mask:  \n",
      "0       False\n",
      "1       False\n",
      "2       False\n",
      "3        True\n",
      "4        True\n",
      "        ...  \n",
      "2015    False\n",
      "2016    False\n",
      "2017    False\n",
      "2018    False\n",
      "2019    False\n",
      "Name: cat_id, Length: 2020, dtype: bool\n"
     ]
    },
    {
     "data": {
      "text/html": [
       "<div>\n",
       "<style scoped>\n",
       "    .dataframe tbody tr th:only-of-type {\n",
       "        vertical-align: middle;\n",
       "    }\n",
       "\n",
       "    .dataframe tbody tr th {\n",
       "        vertical-align: top;\n",
       "    }\n",
       "\n",
       "    .dataframe thead th {\n",
       "        text-align: right;\n",
       "    }\n",
       "</style>\n",
       "<table border=\"1\" class=\"dataframe\">\n",
       "  <thead>\n",
       "    <tr style=\"text-align: right;\">\n",
       "      <th></th>\n",
       "      <th></th>\n",
       "      <th>cat_id</th>\n",
       "    </tr>\n",
       "    <tr>\n",
       "      <th>thirty_days</th>\n",
       "      <th>rescue_group</th>\n",
       "      <th></th>\n",
       "    </tr>\n",
       "  </thead>\n",
       "  <tbody>\n",
       "    <tr>\n",
       "      <th rowspan=\"63\" valign=\"top\">False</th>\n",
       "      <th>A Purrfect World</th>\n",
       "      <td>2</td>\n",
       "    </tr>\n",
       "    <tr>\n",
       "      <th>Adopt-A-Buddy</th>\n",
       "      <td>2</td>\n",
       "    </tr>\n",
       "    <tr>\n",
       "      <th>AdvoCat Rescue</th>\n",
       "      <td>48</td>\n",
       "    </tr>\n",
       "    <tr>\n",
       "      <th>All About Cats Rescue, Inc</th>\n",
       "      <td>23</td>\n",
       "    </tr>\n",
       "    <tr>\n",
       "      <th>Alleykattz Rescue</th>\n",
       "      <td>4</td>\n",
       "    </tr>\n",
       "    <tr>\n",
       "      <th>Animal Adoption Veterinary Center</th>\n",
       "      <td>4</td>\n",
       "    </tr>\n",
       "    <tr>\n",
       "      <th>Animal Life Savers Inc.</th>\n",
       "      <td>20</td>\n",
       "    </tr>\n",
       "    <tr>\n",
       "      <th>Animal Lighthouse Rescue</th>\n",
       "      <td>2</td>\n",
       "    </tr>\n",
       "    <tr>\n",
       "      <th>Animals Are Forever, Inc</th>\n",
       "      <td>2</td>\n",
       "    </tr>\n",
       "    <tr>\n",
       "      <th>Anjellicle Cats Rescue</th>\n",
       "      <td>2</td>\n",
       "    </tr>\n",
       "    <tr>\n",
       "      <th>Bergen County Animal Shelter</th>\n",
       "      <td>3</td>\n",
       "    </tr>\n",
       "    <tr>\n",
       "      <th>Best Friend Dog and Animal Adoption, Inc.</th>\n",
       "      <td>2</td>\n",
       "    </tr>\n",
       "    <tr>\n",
       "      <th>Bronx Tails Cat Rescue</th>\n",
       "      <td>6</td>\n",
       "    </tr>\n",
       "    <tr>\n",
       "      <th>Brooklyn Adoptables</th>\n",
       "      <td>8</td>\n",
       "    </tr>\n",
       "    <tr>\n",
       "      <th>Brooklyn Animal Action</th>\n",
       "      <td>27</td>\n",
       "    </tr>\n",
       "    <tr>\n",
       "      <th>Brooklyn Bridge Animal Welfare Coalition</th>\n",
       "      <td>8</td>\n",
       "    </tr>\n",
       "    <tr>\n",
       "      <th>CLAWS</th>\n",
       "      <td>6</td>\n",
       "    </tr>\n",
       "    <tr>\n",
       "      <th>Caring About The Strays (C.A.T.S.) Inc.</th>\n",
       "      <td>2</td>\n",
       "    </tr>\n",
       "    <tr>\n",
       "      <th>Cat Assistance Inc.</th>\n",
       "      <td>2</td>\n",
       "    </tr>\n",
       "    <tr>\n",
       "      <th>Cat Castle NYC</th>\n",
       "      <td>4</td>\n",
       "    </tr>\n",
       "    <tr>\n",
       "      <th>City Critters Inc.</th>\n",
       "      <td>4</td>\n",
       "    </tr>\n",
       "    <tr>\n",
       "      <th>East Coast Maine Coon Rescue</th>\n",
       "      <td>4</td>\n",
       "    </tr>\n",
       "    <tr>\n",
       "      <th>Eastchester Bay Stray Cat Project</th>\n",
       "      <td>2</td>\n",
       "    </tr>\n",
       "    <tr>\n",
       "      <th>Eccentric Kittens</th>\n",
       "      <td>16</td>\n",
       "    </tr>\n",
       "    <tr>\n",
       "      <th>Edison Municipal Animal Shelter</th>\n",
       "      <td>10</td>\n",
       "    </tr>\n",
       "    <tr>\n",
       "      <th>For Blake's Sake Rescue, Inc.</th>\n",
       "      <td>8</td>\n",
       "    </tr>\n",
       "    <tr>\n",
       "      <th>Frankie's Fund for Feline Care and Rescue</th>\n",
       "      <td>2</td>\n",
       "    </tr>\n",
       "    <tr>\n",
       "      <th>Friends of Linden Animal Shelter, Inc.</th>\n",
       "      <td>20</td>\n",
       "    </tr>\n",
       "    <tr>\n",
       "      <th>Friends of the Clifton Animal Shelter</th>\n",
       "      <td>6</td>\n",
       "    </tr>\n",
       "    <tr>\n",
       "      <th>Good World Animal Rescue and Protection,…</th>\n",
       "      <td>2</td>\n",
       "    </tr>\n",
       "    <tr>\n",
       "      <th>Happy Friends Rescue</th>\n",
       "      <td>2</td>\n",
       "    </tr>\n",
       "    <tr>\n",
       "      <th>Happy Homes Animal Rescue</th>\n",
       "      <td>8</td>\n",
       "    </tr>\n",
       "    <tr>\n",
       "      <th>Hudson County Animal League (HCAL)</th>\n",
       "      <td>2</td>\n",
       "    </tr>\n",
       "    <tr>\n",
       "      <th>Humane Society of Westchester at New Rochelle</th>\n",
       "      <td>7</td>\n",
       "    </tr>\n",
       "    <tr>\n",
       "      <th>Humane Urban Group</th>\n",
       "      <td>4</td>\n",
       "    </tr>\n",
       "    <tr>\n",
       "      <th>Infinite Hope</th>\n",
       "      <td>10</td>\n",
       "    </tr>\n",
       "    <tr>\n",
       "      <th>Jersey Tails</th>\n",
       "      <td>2</td>\n",
       "    </tr>\n",
       "    <tr>\n",
       "      <th>JerseyCats</th>\n",
       "      <td>2</td>\n",
       "    </tr>\n",
       "    <tr>\n",
       "      <th>Kat Connection</th>\n",
       "      <td>8</td>\n",
       "    </tr>\n",
       "    <tr>\n",
       "      <th>KittyKaretakers of Queens</th>\n",
       "      <td>2</td>\n",
       "    </tr>\n",
       "    <tr>\n",
       "      <th>KittyKind</th>\n",
       "      <td>2</td>\n",
       "    </tr>\n",
       "    <tr>\n",
       "      <th>Lend-a-Paw Inc.</th>\n",
       "      <td>4</td>\n",
       "    </tr>\n",
       "    <tr>\n",
       "      <th>Liberty Humane Society</th>\n",
       "      <td>16</td>\n",
       "    </tr>\n",
       "    <tr>\n",
       "      <th>Meows Kitty Cat Rescue Inc.</th>\n",
       "      <td>14</td>\n",
       "    </tr>\n",
       "    <tr>\n",
       "      <th>Miss Pats Cats</th>\n",
       "      <td>2</td>\n",
       "    </tr>\n",
       "    <tr>\n",
       "      <th>PAWS - Montclair</th>\n",
       "      <td>2</td>\n",
       "    </tr>\n",
       "    <tr>\n",
       "      <th>Pequannock Animal Shelter</th>\n",
       "      <td>2</td>\n",
       "    </tr>\n",
       "    <tr>\n",
       "      <th>Pets4Luv Foundation</th>\n",
       "      <td>2</td>\n",
       "    </tr>\n",
       "    <tr>\n",
       "      <th>Posh Pets Rescue</th>\n",
       "      <td>2</td>\n",
       "    </tr>\n",
       "    <tr>\n",
       "      <th>Ready For Rescue</th>\n",
       "      <td>4</td>\n",
       "    </tr>\n",
       "    <tr>\n",
       "      <th>Rescue Haven Foundation</th>\n",
       "      <td>2</td>\n",
       "    </tr>\n",
       "    <tr>\n",
       "      <th>S.A.R.A. Inc.</th>\n",
       "      <td>8</td>\n",
       "    </tr>\n",
       "    <tr>\n",
       "      <th>Saving Cats &amp; Kittens of Brooklyn</th>\n",
       "      <td>2</td>\n",
       "    </tr>\n",
       "    <tr>\n",
       "      <th>Sunset Park Cats</th>\n",
       "      <td>4</td>\n",
       "    </tr>\n",
       "    <tr>\n",
       "      <th>The Lucky Cat Rescue</th>\n",
       "      <td>3</td>\n",
       "    </tr>\n",
       "    <tr>\n",
       "      <th>Union City Animal Trust</th>\n",
       "      <td>3</td>\n",
       "    </tr>\n",
       "    <tr>\n",
       "      <th>Union City Feral Cat Committee</th>\n",
       "      <td>12</td>\n",
       "    </tr>\n",
       "    <tr>\n",
       "      <th>Waggytail Rescue</th>\n",
       "      <td>2</td>\n",
       "    </tr>\n",
       "    <tr>\n",
       "      <th>West Orange TNVR</th>\n",
       "      <td>2</td>\n",
       "    </tr>\n",
       "    <tr>\n",
       "      <th>Whiskers-aGoGo Inc</th>\n",
       "      <td>4</td>\n",
       "    </tr>\n",
       "    <tr>\n",
       "      <th>Who Rescued Who Animal Rescue</th>\n",
       "      <td>2</td>\n",
       "    </tr>\n",
       "    <tr>\n",
       "      <th>Yellow Brick Road Rescue NJ</th>\n",
       "      <td>23</td>\n",
       "    </tr>\n",
       "    <tr>\n",
       "      <th>Zion's Mission Animal Rescue Inc.</th>\n",
       "      <td>2</td>\n",
       "    </tr>\n",
       "    <tr>\n",
       "      <th rowspan=\"7\" valign=\"top\">True</th>\n",
       "      <th>A Pathway to Hope</th>\n",
       "      <td>2</td>\n",
       "    </tr>\n",
       "    <tr>\n",
       "      <th>Alleykattz Rescue</th>\n",
       "      <td>1</td>\n",
       "    </tr>\n",
       "    <tr>\n",
       "      <th>Angels for Animals Network</th>\n",
       "      <td>2</td>\n",
       "    </tr>\n",
       "    <tr>\n",
       "      <th>CLAWS</th>\n",
       "      <td>1</td>\n",
       "    </tr>\n",
       "    <tr>\n",
       "      <th>Miss Pats Cats</th>\n",
       "      <td>1</td>\n",
       "    </tr>\n",
       "    <tr>\n",
       "      <th>Pets4Luv Foundation</th>\n",
       "      <td>4</td>\n",
       "    </tr>\n",
       "    <tr>\n",
       "      <th>Union City Animal Trust</th>\n",
       "      <td>1</td>\n",
       "    </tr>\n",
       "  </tbody>\n",
       "</table>\n",
       "</div>"
      ],
      "text/plain": [
       "                                                           cat_id\n",
       "thirty_days rescue_group                                         \n",
       "False       A Purrfect World                                    2\n",
       "            Adopt-A-Buddy                                       2\n",
       "            AdvoCat Rescue                                     48\n",
       "            All About Cats Rescue, Inc                         23\n",
       "            Alleykattz Rescue                                   4\n",
       "            Animal Adoption Veterinary Center                   4\n",
       "            Animal Life Savers Inc.                            20\n",
       "            Animal Lighthouse Rescue                            2\n",
       "            Animals Are Forever, Inc                            2\n",
       "            Anjellicle Cats Rescue                              2\n",
       "            Bergen County Animal Shelter                        3\n",
       "            Best Friend Dog and Animal Adoption, Inc.           2\n",
       "            Bronx Tails Cat Rescue                              6\n",
       "            Brooklyn Adoptables                                 8\n",
       "            Brooklyn Animal Action                             27\n",
       "            Brooklyn Bridge Animal Welfare Coalition            8\n",
       "            CLAWS                                               6\n",
       "            Caring About The Strays (C.A.T.S.) Inc.             2\n",
       "            Cat Assistance Inc.                                 2\n",
       "            Cat Castle NYC                                      4\n",
       "            City Critters Inc.                                  4\n",
       "            East Coast Maine Coon Rescue                        4\n",
       "            Eastchester Bay Stray Cat Project                   2\n",
       "            Eccentric Kittens                                  16\n",
       "            Edison Municipal Animal Shelter                    10\n",
       "            For Blake's Sake Rescue, Inc.                       8\n",
       "            Frankie's Fund for Feline Care and Rescue           2\n",
       "            Friends of Linden Animal Shelter, Inc.             20\n",
       "            Friends of the Clifton Animal Shelter               6\n",
       "            Good World Animal Rescue and Protection,…           2\n",
       "            Happy Friends Rescue                                2\n",
       "            Happy Homes Animal Rescue                           8\n",
       "            Hudson County Animal League (HCAL)                  2\n",
       "            Humane Society of Westchester at New Rochelle       7\n",
       "            Humane Urban Group                                  4\n",
       "            Infinite Hope                                      10\n",
       "            Jersey Tails                                        2\n",
       "            JerseyCats                                          2\n",
       "            Kat Connection                                      8\n",
       "            KittyKaretakers of Queens                           2\n",
       "            KittyKind                                           2\n",
       "            Lend-a-Paw Inc.                                     4\n",
       "            Liberty Humane Society                             16\n",
       "            Meows Kitty Cat Rescue Inc.                        14\n",
       "            Miss Pats Cats                                      2\n",
       "            PAWS - Montclair                                    2\n",
       "            Pequannock Animal Shelter                           2\n",
       "            Pets4Luv Foundation                                 2\n",
       "            Posh Pets Rescue                                    2\n",
       "            Ready For Rescue                                    4\n",
       "            Rescue Haven Foundation                             2\n",
       "            S.A.R.A. Inc.                                       8\n",
       "            Saving Cats & Kittens of Brooklyn                   2\n",
       "            Sunset Park Cats                                    4\n",
       "            The Lucky Cat Rescue                                3\n",
       "            Union City Animal Trust                             3\n",
       "            Union City Feral Cat Committee                     12\n",
       "            Waggytail Rescue                                    2\n",
       "            West Orange TNVR                                    2\n",
       "            Whiskers-aGoGo Inc                                  4\n",
       "            Who Rescued Who Animal Rescue                       2\n",
       "            Yellow Brick Road Rescue NJ                        23\n",
       "            Zion's Mission Animal Rescue Inc.                   2\n",
       "True        A Pathway to Hope                                   2\n",
       "            Alleykattz Rescue                                   1\n",
       "            Angels for Animals Network                          2\n",
       "            CLAWS                                               1\n",
       "            Miss Pats Cats                                      1\n",
       "            Pets4Luv Foundation                                 4\n",
       "            Union City Animal Trust                             1"
      ]
     },
     "execution_count": 87,
     "metadata": {},
     "output_type": "execute_result"
    }
   ],
   "source": [
    "\n",
    "mask = df_all2.groupby(['cat_id']).count()[['cat_name']].sort_values(by=['cat_name'],ascending=False) > 1\n",
    "#Once it's aggregated it becomes a one column DataFrame -  cat_id is index and cat_name is a boolean\n",
    "\n",
    "print('type: mask  ',type(mask))\n",
    "print('shape: mask  ',mask.shape)\n",
    "#print(mask)\n",
    "print(' ')\n",
    "\n",
    "#this get's the values of the index which is cat_id and creates an index object which is essentially a list of the cat_id's\n",
    "#Without the .index it just creates a DataFrame\n",
    "list_mask = df_all2.groupby(['cat_id']).count()[['cat_name']].sort_values(by=['cat_name'],ascending=False).loc[mask.values,:].index\n",
    "print('type list_mask:  ',type(list_mask))\n",
    "print('list_mask:  ')\n",
    "print(list_mask)\n",
    "print(' ')\n",
    "\n",
    "#final_mask is a boolean Series with the same index as df_all2\n",
    "final_mask = df_all2['cat_id'].isin(list_mask) \n",
    "print('type: final_mask  ',type(final_mask))\n",
    "print('final_mask.shape:  ',final_mask.shape) \n",
    "print('final_mask:  ')\n",
    "print(final_mask)\n",
    "\n",
    "\n",
    "#the df created  below is the rescue group followed by however many duplicates #It is a dataframe\n",
    "df_all2.loc[final_mask,['cat_id','rescue_group','thirty_days']].groupby(['thirty_days','rescue_group']).count()"
   ]
  },
  {
   "cell_type": "markdown",
   "metadata": {},
   "source": [
    "'     '\n",
    "\n",
    "Calculate percent of rescue groups with duplicate listings"
   ]
  },
  {
   "cell_type": "code",
   "execution_count": 79,
   "metadata": {},
   "outputs": [
    {
     "name": "stdout",
     "output_type": "stream",
     "text": [
      "177\n",
      "<class 'numpy.ndarray'>\n",
      "num_rescues_w_dupes  70\n",
      "type num_rescues_w_dupes   <class 'int'>\n",
      "70\n",
      "<class 'int'>\n",
      "<class 'pandas.core.groupby.generic.DataFrameGroupBy'>\n",
      "percent_relist =  0.3954802259887006\n"
     ]
    }
   ],
   "source": [
    "#CALCULATING PERCENT OF RESCUE GROUPS THAT RELIST CATS\n",
    "\n",
    "all_rescue_groups = df_all2['rescue_group'].unique()\n",
    "num_rescue_groups = len(all_rescue_groups)\n",
    "print(len(all_rescue_groups))\n",
    "print(type(all_rescue_groups))\n",
    "\n",
    "\n",
    "num_rescues_w_dupes = len(df_all2.loc[final_mask,['cat_id','rescue_group','thirty_days']].groupby(['thirty_days','rescue_group']))\n",
    "print('num_rescues_w_dupes ',num_rescues_w_dupes)\n",
    "print('type num_rescues_w_dupes  ',type(num_rescues_w_dupes))\n",
    "\n",
    "print(type(num_rescues_w_dupes))\n",
    "\n",
    "print(type(df_all2.loc[final_mask,['cat_id','rescue_group','thirty_days']].groupby(['thirty_days','rescue_group'])))\n",
    "percent_relist = num_rescues_w_dupes/num_rescue_groups\n",
    "print('percent_relist = ',percent_relist)\n",
    "\n",
    " "
   ]
  },
  {
   "cell_type": "markdown",
   "metadata": {},
   "source": [
    "Trying to determine:  What percentage of unique ids are duplicates? "
   ]
  },
  {
   "cell_type": "code",
   "execution_count": 106,
   "metadata": {},
   "outputs": [
    {
     "name": "stdout",
     "output_type": "stream",
     "text": [
      "len((list_cat_ids_with_dupes))   189\n",
      " \n",
      "pct_of_totalcats   0.10617977528089888\n"
     ]
    }
   ],
   "source": [
    "# mask = df_all2.groupby(['cat_id']).count()[['cat_name']].sort_values(by=['cat_name'],ascending=False) > 1\n",
    "# list_mask = df_all2.groupby(['cat_id']).count()[['cat_name']].sort_values(by=['cat_name'],ascending=False).loc[mask.values,:].index\n",
    "# final_mask = df_all2['cat_id'].isin(list_mask)\n",
    "\n",
    "list_cat_ids_with_dupes = df_all2.loc[final_mask ,'cat_id'].unique()\n",
    "print('len((list_cat_ids_with_dupes))  ',len((list_cat_ids_with_dupes)))\n",
    "print(' ')\n",
    "\n",
    "\n",
    "list_all_cat_ids = df_all2.loc[:,'cat_id'].unique()\n",
    "\n",
    "#What percentage of unique ids are duplicates\n",
    "pct_of_totalcats=len((list_cat_ids_with_dupes))/len(list_all_cat_ids)\n",
    "print('pct_of_totalcats  ',pct_of_totalcats)\n",
    "\n",
    "# print ('len(final_mask)  ',len(final_mask))\n",
    "# df_all2['final_mask'] = final_mask"
   ]
  },
  {
   "cell_type": "code",
   "execution_count": 129,
   "metadata": {},
   "outputs": [
    {
     "name": "stdout",
     "output_type": "stream",
     "text": [
      "group_not30  \n",
      "                     cat_id\n",
      "thirty_days is_dupe        \n",
      "False       False       170\n",
      "            True        185\n",
      "True        False      1421\n",
      "            True          8\n",
      " \n",
      "type(group_thirty)   <class 'pandas.core.series.Series'>\n",
      "group_thirty  \n",
      "thirty_days\n",
      "False     587\n",
      "True     1433\n",
      "Name: cat_name, dtype: int64\n"
     ]
    }
   ],
   "source": [
    "# mask = df_all2.groupby(['cat_id']).count()[['cat_name']].sort_values(by=['cat_name'],ascending=False) > 1\n",
    "# list_mask = df_all2.groupby(['cat_id']).count()[['cat_name']].sort_values(by=['cat_name'],ascending=False).loc[mask.values,:].index\n",
    "# final_mask = df_all2['cat_id'].isin(list_mask)\n",
    "#df_all['Days_On_Site']\n",
    "df_all2['is_dupe'] = df_all2['cat_id'].isin(list_cat_ids_with_dupes)\n",
    "\n",
    "group_not30 = df_all2.groupby(['thirty_days','is_dupe']).agg({'cat_id':'nunique'})\n",
    "\n",
    "group_thirty = df_all2.groupby(['thirty_days']).count()['cat_name']\n",
    "\n",
    "print(type(group_not30))\n",
    "print('group_not30  ')\n",
    "print(group_not30)\n",
    "print(' ')\n",
    "\n",
    "print('type(group_thirty)  ',type(group_thirty))\n",
    "print('group_thirty  ')\n",
    "print(group_thirty)"
   ]
  },
  {
   "cell_type": "code",
   "execution_count": 141,
   "metadata": {},
   "outputs": [
    {
     "data": {
      "text/html": [
       "<div>\n",
       "<style scoped>\n",
       "    .dataframe tbody tr th:only-of-type {\n",
       "        vertical-align: middle;\n",
       "    }\n",
       "\n",
       "    .dataframe tbody tr th {\n",
       "        vertical-align: top;\n",
       "    }\n",
       "\n",
       "    .dataframe thead th {\n",
       "        text-align: right;\n",
       "    }\n",
       "</style>\n",
       "<table border=\"1\" class=\"dataframe\">\n",
       "  <thead>\n",
       "    <tr style=\"text-align: right;\">\n",
       "      <th></th>\n",
       "      <th>cat_name</th>\n",
       "      <th>Frequency</th>\n",
       "      <th>Percent</th>\n",
       "      <th>Cumulative Frequency</th>\n",
       "      <th>Cumulative Percent</th>\n",
       "    </tr>\n",
       "  </thead>\n",
       "  <tbody>\n",
       "    <tr>\n",
       "      <th>0</th>\n",
       "      <td>2</td>\n",
       "      <td>165</td>\n",
       "      <td>87.3</td>\n",
       "      <td>165</td>\n",
       "      <td>87.3</td>\n",
       "    </tr>\n",
       "    <tr>\n",
       "      <th>1</th>\n",
       "      <td>3</td>\n",
       "      <td>17</td>\n",
       "      <td>9.0</td>\n",
       "      <td>182</td>\n",
       "      <td>96.3</td>\n",
       "    </tr>\n",
       "    <tr>\n",
       "      <th>2</th>\n",
       "      <td>6</td>\n",
       "      <td>4</td>\n",
       "      <td>2.1</td>\n",
       "      <td>186</td>\n",
       "      <td>98.4</td>\n",
       "    </tr>\n",
       "    <tr>\n",
       "      <th>3</th>\n",
       "      <td>8</td>\n",
       "      <td>3</td>\n",
       "      <td>1.6</td>\n",
       "      <td>189</td>\n",
       "      <td>100.0</td>\n",
       "    </tr>\n",
       "  </tbody>\n",
       "</table>\n",
       "</div>"
      ],
      "text/plain": [
       "   cat_name  Frequency  Percent  Cumulative Frequency  Cumulative Percent\n",
       "0         2        165     87.3                   165                87.3\n",
       "1         3         17      9.0                   182                96.3\n",
       "2         6          4      2.1                   186                98.4\n",
       "3         8          3      1.6                   189               100.0"
      ]
     },
     "execution_count": 141,
     "metadata": {},
     "output_type": "execute_result"
    }
   ],
   "source": [
    "df_cat_id_dupe_freq = df_all2.groupby(['cat_id']).count()[['cat_name']].sort_values(by=['cat_name'],ascending=False).reset_index()\n",
    "df_cat_id_dupe_freq = df_cat_id_dupe_freq.loc[df_cat_id_dupe_freq['cat_name'] > 1,:]\n",
    "\n",
    "proc_freq(df_cat_id_dupe_freq,'cat_name')"
   ]
  },
  {
   "cell_type": "code",
   "execution_count": 139,
   "metadata": {},
   "outputs": [
    {
     "data": {
      "text/plain": [
       "<Figure size 1080x576 with 0 Axes>"
      ]
     },
     "execution_count": 139,
     "metadata": {},
     "output_type": "execute_result"
    },
    {
     "data": {
      "image/png": "[encoded data removed]",
      "text/plain": [
       "<Figure size 432x288 with 1 Axes>"
      ]
     },
     "metadata": {},
     "output_type": "display_data"
    },
    {
     "data": {
      "text/plain": [
       "<Figure size 1080x576 with 0 Axes>"
      ]
     },
     "metadata": {},
     "output_type": "display_data"
    }
   ],
   "source": [
    "sns.set_style('darkgrid')\n",
    "#color_order=['Kitten','Young','Adult','Senior']\n",
    "#order=color_order,\n",
    " \n",
    "chart = sns.countplot(x='cat_name', data = df_cat_id_dupe_freq, palette='Blues')\n",
    "\n",
    "chart.set(xlabel=\"Number of Duplicates\", ylabel = \"Frequency\")\n",
    "\n",
    "chart.set(title='Number of Duplicates Frequency')\n",
    "\n",
    "plt.figure(figsize = (15,8))\n",
    "\n",
    "#plt.savefig('num_cats_by_age.png', dpi=300)\n"
   ]
  },
  {
   "cell_type": "markdown",
   "metadata": {},
   "source": [
    "good_in_a_home_with     1337 non-null \n",
    "\n",
    "Top 10 Rescue groups in terms of number of adult cats\n",
    "\n",
    "Top 10 Rescue groups in terms of number of senior cats\n",
    "\n",
    "Top 10 Rescue groups in terms of number of special needs cats\n",
    "\n",
    "are duplicate records the same in every way except for days on site\n",
    " \n",
    "\n",
    "dupes across all three\n",
    "\n",
    "count distinct\n",
    "\n",
    "num cats age cross tab\n",
    "\n",
    "num cats color cross tab\n",
    " \n",
    "box plot num words not miss\n",
    "\n",
    "% no dupe       \n"
   ]
  },
  {
   "cell_type": "markdown",
   "metadata": {},
   "source": [
    "\n",
    "\n",
    "determining if it is worth is to break things out further by age and it's not"
   ]
  },
  {
   "cell_type": "code",
   "execution_count": 88,
   "metadata": {},
   "outputs": [
    {
     "name": "stdout",
     "output_type": "stream",
     "text": [
      " \n",
      "            Days_On_Site     age  cat_id\n",
      "0  Less Than Thirty Days   Adult      62\n",
      "1  Less Than Thirty Days  Kitten     272\n",
      "2  Less Than Thirty Days  Senior      18\n",
      "3  Less Than Thirty Days   Young      65\n",
      "4       Thirty Days Plus   Adult       8\n",
      "5       Thirty Days Plus  Kitten       2\n",
      "6       Thirty Days Plus   Young       2\n"
     ]
    }
   ],
   "source": [
    "# mask = df_all2.groupby(['cat_id']).count()[['cat_name']].sort_values(by=['cat_name'],ascending=False) > 1\n",
    "# list_mask = df_all2.groupby(['cat_id']).count()[['cat_name']].sort_values(by=['cat_name'],ascending=False).loc[mask.values,:].index\n",
    "# final_mask = df_all2['cat_id'].isin(list_mask)\n",
    "\n",
    "dupes_by_days_age = df_all2.loc[final_mask,['cat_id','Days_On_Site','age']].groupby(['Days_On_Site','age']).count().reset_index()\n",
    "dupes_by_days_age\n",
    "\n",
    "print(' ')\n",
    "#type(dupes_by_age)\n",
    "print(dupes_by_days_age)"
   ]
  },
  {
   "cell_type": "code",
   "execution_count": 108,
   "metadata": {},
   "outputs": [
    {
     "data": {
      "text/plain": [
       "<Figure size 1080x576 with 0 Axes>"
      ]
     },
     "execution_count": 108,
     "metadata": {},
     "output_type": "execute_result"
    },
    {
     "data": {
      "image/png": "[encoded data removed]",
      "text/plain": [
       "<Figure size 432x288 with 1 Axes>"
      ]
     },
     "metadata": {},
     "output_type": "display_data"
    },
    {
     "data": {
      "text/plain": [
       "<Figure size 1080x576 with 0 Axes>"
      ]
     },
     "metadata": {},
     "output_type": "display_data"
    }
   ],
   "source": [
    "sns.set_style('darkgrid')\n",
    "color_order=['Less Than Thirty Days','Thirty Days Plus']\n",
    " \n",
    "chart = sns.barplot(x='Days_On_Site', y='cat_id', data = dupes_by_days_age, ci=False, order=color_order, color='skyblue')\n",
    "\n",
    "chart.set(xlabel=\"Days On Site\", ylabel = \"Number Of Duplicates\")\n",
    "\n",
    "chart.set(title='Duplicates By Age for Cats Less Than Thirty')\n",
    "chart.set_title('Duplicates By Days On Site')\n",
    "plt.figure(figsize = (15,8))"
   ]
  },
  {
   "cell_type": "code",
   "execution_count": 109,
   "metadata": {},
   "outputs": [
    {
     "data": {
      "text/html": [
       "<div>\n",
       "<style scoped>\n",
       "    .dataframe tbody tr th:only-of-type {\n",
       "        vertical-align: middle;\n",
       "    }\n",
       "\n",
       "    .dataframe tbody tr th {\n",
       "        vertical-align: top;\n",
       "    }\n",
       "\n",
       "    .dataframe thead th {\n",
       "        text-align: right;\n",
       "    }\n",
       "</style>\n",
       "<table border=\"1\" class=\"dataframe\">\n",
       "  <thead>\n",
       "    <tr style=\"text-align: right;\">\n",
       "      <th></th>\n",
       "      <th>age</th>\n",
       "      <th>cat_id</th>\n",
       "    </tr>\n",
       "  </thead>\n",
       "  <tbody>\n",
       "    <tr>\n",
       "      <th>0</th>\n",
       "      <td>Adult</td>\n",
       "      <td>70</td>\n",
       "    </tr>\n",
       "    <tr>\n",
       "      <th>1</th>\n",
       "      <td>Kitten</td>\n",
       "      <td>274</td>\n",
       "    </tr>\n",
       "    <tr>\n",
       "      <th>2</th>\n",
       "      <td>Senior</td>\n",
       "      <td>18</td>\n",
       "    </tr>\n",
       "    <tr>\n",
       "      <th>3</th>\n",
       "      <td>Young</td>\n",
       "      <td>67</td>\n",
       "    </tr>\n",
       "  </tbody>\n",
       "</table>\n",
       "</div>"
      ],
      "text/plain": [
       "      age  cat_id\n",
       "0   Adult      70\n",
       "1  Kitten     274\n",
       "2  Senior      18\n",
       "3   Young      67"
      ]
     },
     "execution_count": 109,
     "metadata": {},
     "output_type": "execute_result"
    }
   ],
   "source": [
    "# mask = df_all2.groupby(['cat_id']).count()[['cat_name']].sort_values(by=['cat_name'],ascending=False) > 1\n",
    "# list_mask = df_all2.groupby(['cat_id']).count()[['cat_name']].sort_values(by=['cat_name'],ascending=False).loc[mask.values,:].index\n",
    "# final_mask = df_all2['cat_id'].isin(list_mask)\n",
    "\n",
    "dupes_by_age = df_all2.loc[(final_mask ),['cat_id','age']].groupby(['age']).count().reset_index()\n",
    "dupes_by_age"
   ]
  },
  {
   "cell_type": "markdown",
   "metadata": {},
   "source": [
    "How do I determine if other fields are different for cats that have duplicates (other than days on site)?"
   ]
  },
  {
   "cell_type": "code",
   "execution_count": 90,
   "metadata": {},
   "outputs": [
    {
     "data": {
      "text/plain": [
       "<Figure size 1080x576 with 0 Axes>"
      ]
     },
     "execution_count": 90,
     "metadata": {},
     "output_type": "execute_result"
    },
    {
     "data": {
      "image/png": "[encoded data removed]",
      "text/plain": [
       "<Figure size 432x288 with 1 Axes>"
      ]
     },
     "metadata": {},
     "output_type": "display_data"
    },
    {
     "data": {
      "text/plain": [
       "<Figure size 1080x576 with 0 Axes>"
      ]
     },
     "metadata": {},
     "output_type": "display_data"
    }
   ],
   "source": [
    "sns.set_style('darkgrid')\n",
    "color_order=['Kitten','Young','Adult','Senior']\n",
    " \n",
    "chart = sns.barplot(x='age', y='cat_id', data = dupes_by_age, ci=False, order=color_order, color='skyblue')\n",
    "\n",
    "chart.set(xlabel=\"Age\", ylabel = \"Number Of Duplicates\")\n",
    "\n",
    "chart.set(title='Duplicates By Age for Cats Less Than Thirty')\n",
    "chart.set_title('Duplicates By Age')\n",
    "plt.figure(figsize = (15,8))"
   ]
  },
  {
   "cell_type": "markdown",
   "metadata": {},
   "source": [
    "eyeballing rescue groups with duplicates"
   ]
  },
  {
   "cell_type": "code",
   "execution_count": 91,
   "metadata": {},
   "outputs": [],
   "source": [
    "\n",
    "#df_all2.loc[df_all2['rescue_group']=='AdvoCat Rescue',['cat_name','data_set','age']]\n"
   ]
  },
  {
   "cell_type": "code",
   "execution_count": 92,
   "metadata": {},
   "outputs": [],
   "source": [
    "#df_all2.loc[df_all2['rescue_group']=='Miss Pats Cats',['cat_name','data_set','age']].sort_values(by=['cat_name'])"
   ]
  },
  {
   "cell_type": "code",
   "execution_count": 93,
   "metadata": {
    "scrolled": true
   },
   "outputs": [],
   "source": [
    "#df_all2.loc[df_all2['rescue_group']=='Animal Life Savers Inc.',['cat_name','data_set','age']]\n",
    "#df_all2.loc[df_all2['rescue_group']=='A Pathway to Hope',['cat_name','data_set','age']]\n"
   ]
  },
  {
   "cell_type": "markdown",
   "metadata": {},
   "source": [
    "\n",
    "Alternate method of calculation for more_than_1_cat variable"
   ]
  },
  {
   "cell_type": "code",
   "execution_count": 19,
   "metadata": {},
   "outputs": [
    {
     "data": {
      "text/plain": [
       "False    1921\n",
       "True      217\n",
       "Name: more_than_1_cat, dtype: int64"
      ]
     },
     "execution_count": 19,
     "metadata": {},
     "output_type": "execute_result"
    }
   ],
   "source": [
    "Alternate method of calculation for more_than_1_cat variable\n",
    "m_than_one = df_all.loc[df_all['cat_name'].str.contains('&| and ',case=False)]\n",
    "m_than_one\n",
    "df_all['more_than_1_cat'] = df_all['cat_name'].apply(lambda x:  x in m_than_one['cat_name'].to_list())\n",
    "df_all['more_than_1_cat'].value_counts()\n",
    "\n"
   ]
  },
  {
   "cell_type": "markdown",
   "metadata": {},
   "source": [
    "Create two separate DataFrames one for thirty days and one for less than thirty days. \n",
    "\n",
    "Create two subset DataFrames  to compare kittens only"
   ]
  },
  {
   "cell_type": "code",
   "execution_count": 95,
   "metadata": {},
   "outputs": [
    {
     "name": "stderr",
     "output_type": "stream",
     "text": [
      "<ipython-input-95-46c2b61a3dfb>:2: SettingWithCopyWarning: \n",
      "A value is trying to be set on a copy of a slice from a DataFrame.\n",
      "Try using .loc[row_indexer,col_indexer] = value instead\n",
      "\n",
      "See the caveats in the documentation: https://pandas.pydata.org/pandas-docs/stable/user_guide/indexing.html#returning-a-view-versus-a-copy\n",
      "  df_thirty['days_on_site'] = 'Thirty Days Plus'\n",
      "<ipython-input-95-46c2b61a3dfb>:5: SettingWithCopyWarning: \n",
      "A value is trying to be set on a copy of a slice from a DataFrame.\n",
      "Try using .loc[row_indexer,col_indexer] = value instead\n",
      "\n",
      "See the caveats in the documentation: https://pandas.pydata.org/pandas-docs/stable/user_guide/indexing.html#returning-a-view-versus-a-copy\n",
      "  df_other_days['days_on_site'] = 'Less Than Thirty Days'\n"
     ]
    },
    {
     "data": {
      "text/plain": [
       "Thirty Days Plus         1433\n",
       "Less Than Thirty Days     587\n",
       "Name: days_on_site, dtype: int64"
      ]
     },
     "execution_count": 95,
     "metadata": {},
     "output_type": "execute_result"
    }
   ],
   "source": [
    "df_thirty = df_all.loc[df_all.thirty_days,:]\n",
    "df_thirty['days_on_site'] = 'Thirty Days Plus'\n",
    "\n",
    "df_other_days = df_all.loc[df_all.other_days,:]\n",
    "df_other_days['days_on_site'] = 'Less Than Thirty Days'\n",
    "\n",
    "df_thirty_k = df_thirty.loc[df_thirty['age']=='Kitten',:]\n",
    "df_other_days_k = df_other_days.loc[df_other_days['age']=='Kitten',:]\n",
    "\n",
    "df_other_days['days_on_site'].value_counts()\n",
    "\n",
    "combined_df = pd.concat([df_other_days,df_thirty], axis = 0, sort=False)\n",
    "\n",
    "combined_df_k = combined_df.loc[combined_df['age']=='Kitten',:]\n",
    "\n",
    "combined_df['days_on_site'].value_counts()"
   ]
  },
  {
   "cell_type": "code",
   "execution_count": null,
   "metadata": {},
   "outputs": [],
   "source": [
    "def func_freq(lst):\n",
    "    for el in lst:\n",
    "        print('Thirty Days Plus')\n",
    "        print(proc_freq(df_thirty,el))\n",
    "        print()\n",
    "        print('Less Than Thirty Days')\n",
    "        print(proc_freq(df_other_days,el))\n",
    "        print('_'*75)"
   ]
  },
  {
   "cell_type": "code",
   "execution_count": null,
   "metadata": {},
   "outputs": [],
   "source": [
    "cols=['age','sex','Tabby','without_story','coat_length_miss','coat_length', 'more_than_1_cat','breed_type','video', \\\n",
    "      'pictures','num_pictures']\n",
    "func_freq(cols)"
   ]
  },
  {
   "cell_type": "code",
   "execution_count": null,
   "metadata": {},
   "outputs": [],
   "source": [
    "def func_freq_k(lst):\n",
    "    for el in lst:\n",
    "        print('Thirty Days Plus Kittens')\n",
    "        print(proc_freq(df_thirty_k,el))\n",
    "        print()        print('Less Than Thirty Days Kittens')\n",
    "        print(proc_freq(df_other_days_k,el))\n",
    "        print('_'*75)"
   ]
  },
  {
   "cell_type": "code",
   "execution_count": null,
   "metadata": {},
   "outputs": [],
   "source": [
    "cols=['age','sex','Tabby','without_story','coat_length_miss','coat_length', 'more_than_1_cat','breed_type','video', \\\n",
    "      'pictures','num_pictures']\n",
    "func_freq_k(cols)"
   ]
  },
  {
   "cell_type": "code",
   "execution_count": null,
   "metadata": {},
   "outputs": [],
   "source": [
    "print('df_other_days')\n",
    "print(df_other_days.describe())\n",
    "print('#'*20)\n",
    "print('df_thirty')\n",
    "print(df_thirty.describe())"
   ]
  },
  {
   "cell_type": "code",
   "execution_count": null,
   "metadata": {},
   "outputs": [],
   "source": [
    "print('df_other_days median ',df_other_days['pet_story_num_words'].median())\n",
    "print('df_other_days mean ',df_other_days['pet_story_num_words'].mean())\n",
    "print(' ')\n",
    "print('df_thirty median ',df_thirty['pet_story_num_words'].median())\n",
    "print('df_thirty mean ',df_thirty['pet_story_num_words'].mean())\n"
   ]
  },
  {
   "cell_type": "code",
   "execution_count": null,
   "metadata": {},
   "outputs": [],
   "source": [
    "df = combined_df.loc[:,['days_on_site','pet_story_num_words']]\n",
    "data_wide = df.pivot(columns='days_on_site',\n",
    "                     values='pet_story_num_words')\n",
    "data_wide.head()\n",
    "\n",
    "# calling density() to make\n",
    "# multiple density plot \n",
    "data_wide.plot.density(figsize = (7, 7),\n",
    "                       linewidth = 4)\n",
    "  \n",
    "plt.xlabel(\"Pet Story Number of Words\")\n",
    "data_wide"
   ]
  },
  {
   "cell_type": "code",
   "execution_count": null,
   "metadata": {},
   "outputs": [],
   "source": [
    "#num_images\n",
    "\n",
    "plt.style.use(\"tableau-colorblind10\")\n",
    "\n",
    "data1 = df_other_days['num_images']\n",
    "data2 = df_thirty['num_images']\n",
    "\n",
    "data = list([data1, data2])\n",
    "\n",
    "# Figure size\n",
    "plt.figure(figsize=(10,5))\n",
    "\n",
    "fig, ax = plt.subplots()\n",
    "\n",
    "# build a box plot\n",
    "ax.boxplot(data)\n",
    "\n",
    "\n",
    "\n",
    "# title and axis labels\n",
    "ax.set_title('Number of Cat Pictures')\n",
    "ax.set_xlabel('')\n",
    "ax.set_ylabel('Pictures')\n",
    "xticklabels=['Less Than Thirty Days', 'Thirty Days Plus']\n",
    "ax.set_xticklabels(xticklabels)\n",
    "\n",
    "plt.show()\n",
    "\n"
   ]
  },
  {
   "cell_type": "code",
   "execution_count": null,
   "metadata": {},
   "outputs": [],
   "source": [
    "print('df_other_days median ',df_other_days['num_images'].median())\n",
    "print('df_other_days mean ',df_other_days['num_images'].mean())\n",
    "print(' ')\n",
    "print('df_thirty median ',df_thirty['num_images'].median())\n",
    "print('df_thirty mean ',df_thirty['num_images'].mean())\n"
   ]
  },
  {
   "cell_type": "code",
   "execution_count": null,
   "metadata": {},
   "outputs": [],
   "source": [
    "df = combined_df.loc[:,['days_on_site','num_images']]\n",
    "data_wide = df.pivot(columns='days_on_site',\n",
    "                     values='num_images')\n",
    "data_wide.head()\n",
    "\n",
    "# calling density() to make\n",
    "# multiple density plot \n",
    "data_wide.plot.density(figsize = (7, 7),\n",
    "                       linewidth = 4)\n",
    "  \n",
    "plt.xlabel(\"Number of Pictures\")"
   ]
  },
  {
   "cell_type": "code",
   "execution_count": null,
   "metadata": {},
   "outputs": [],
   "source": [
    "g = sns.FacetGrid(penguins,col='island') #you can also use row\n",
    "g.map_dataframe(sns.scatterplot, x='bill_depth_mm', y= 'bill_length_mm')\n",
    "g.set_axis_labels('Culment Depth (mm)', 'Culmen Length (mm)')\n",
    "g.set_titles(col_template= '{col_name} Island');"
   ]
  },
  {
   "cell_type": "code",
   "execution_count": null,
   "metadata": {},
   "outputs": [],
   "source": [
    "print('30 days plus')\n",
    "print(df_thirty['sex'].value_counts(normalize=True))\n",
    "print('#'*50)\n",
    "print('Other days')\n",
    "print('_'*50)\n",
    "print(df_other_days['sex'].value_counts(normalize=True)) "
   ]
  },
  {
   "cell_type": "code",
   "execution_count": null,
   "metadata": {},
   "outputs": [],
   "source": [
    "#plt.style.use('darkgrid')\n",
    "#set_style('darkgrid[')]\n",
    "plt.style.use(\"tableau-colorblind10\")"
   ]
  },
  {
   "cell_type": "code",
   "execution_count": null,
   "metadata": {},
   "outputs": [],
   "source": [
    "# Numbers of pairs of bars \n",
    "N = 2\n",
    "\n",
    "# Data on X-axis\n",
    "\n",
    "# Specify the values of blue bars (height)\n",
    "Other_days = df_other_days['sex'].value_counts(normalize=True)*100\n",
    "# Specify the values of orange bars (height)\n",
    "Thirty_days = df_thirty['sex'].value_counts(normalize=True)*100\n",
    "\n",
    "# Position of bars on x-axis\n",
    "ind = np.arange(N)\n",
    "\n",
    "# Figure size\n",
    "plt.figure(figsize=(10,5))\n",
    "\n",
    "# Width of a bar \n",
    "width = 0.3       \n",
    "\n",
    "# Plotting\n",
    "plt.bar(ind, Other_days , width )\n",
    "plt.bar(ind + width, Thirty_days, width)\n",
    "\n",
    "plt.xlabel('Gender')\n",
    "plt.ylabel('Percentage Of Cats')\n",
    "plt.title('Gender Comparison')\n",
    "\n",
    "# xticks()\n",
    "# First argument - A list of positions at which ticks should be placed\n",
    "# Second argument -  A list of labels to place at the given locations\n",
    "plt.xticks(ind + width / 2, ('Less Than Thirty Days','Thirty Days Plus'))\n",
    "\n",
    "# Finding the best position for legends and putting it\n",
    "plt.legend(loc=2)\n",
    "plt.show()\n"
   ]
  },
  {
   "cell_type": "code",
   "execution_count": null,
   "metadata": {},
   "outputs": [],
   "source": [
    "Other_days."
   ]
  },
  {
   "cell_type": "code",
   "execution_count": null,
   "metadata": {},
   "outputs": [],
   "source": [
    "Thirty_days"
   ]
  },
  {
   "cell_type": "code",
   "execution_count": null,
   "metadata": {},
   "outputs": [],
   "source": [
    "df_thirty['breed_type'].value_counts(normalize=True)"
   ]
  },
  {
   "cell_type": "code",
   "execution_count": null,
   "metadata": {},
   "outputs": [],
   "source": [
    "df_other_days['breed_type'].value_counts(normalize=True)"
   ]
  },
  {
   "cell_type": "code",
   "execution_count": null,
   "metadata": {},
   "outputs": [],
   "source": [
    "group_30=df_thirty.groupby(['breed_type','age']).agg(['count'])['cat_name']\n",
    "group_30.loc['DLH',:]"
   ]
  },
  {
   "cell_type": "code",
   "execution_count": null,
   "metadata": {},
   "outputs": [],
   "source": [
    "dfb = df_thirty.groupby(['breed_type']).agg(['count'])['cat_name']\n",
    "dfb.loc['DLH',:]"
   ]
  },
  {
   "cell_type": "code",
   "execution_count": null,
   "metadata": {},
   "outputs": [],
   "source": [
    "group_30.loc['DLH',:]/dfb.loc['DLH',:]"
   ]
  },
  {
   "cell_type": "code",
   "execution_count": null,
   "metadata": {},
   "outputs": [],
   "source": [
    "group_30b = df_thirty.groupby(['breed_type','age'])\n",
    "group_30.agg(['sum'])['num_cats']"
   ]
  },
  {
   "cell_type": "code",
   "execution_count": null,
   "metadata": {},
   "outputs": [],
   "source": [
    "df_thirty['age'].value_counts(normalize=True)"
   ]
  },
  {
   "cell_type": "code",
   "execution_count": null,
   "metadata": {},
   "outputs": [],
   "source": [
    "df_other_days['age'].value_counts(normalize=True)"
   ]
  },
  {
   "cell_type": "code",
   "execution_count": null,
   "metadata": {},
   "outputs": [],
   "source": [
    "df_other_days['age'].value_counts()"
   ]
  },
  {
   "cell_type": "code",
   "execution_count": null,
   "metadata": {},
   "outputs": [],
   "source": [
    "#df_all.groupby('data_set')['age'].value_counts(normalize=True).plot.bar()"
   ]
  },
  {
   "cell_type": "code",
   "execution_count": null,
   "metadata": {},
   "outputs": [],
   "source": [
    "#df_thirty['breed'].value_counts(normalize=True)\n"
   ]
  },
  {
   "cell_type": "code",
   "execution_count": null,
   "metadata": {},
   "outputs": [],
   "source": [
    "df_thirty['color'].value_counts(normalize=True)"
   ]
  },
  {
   "cell_type": "code",
   "execution_count": null,
   "metadata": {},
   "outputs": [],
   "source": [
    "df_other_days = df_all.loc[df_all.other_days,:]\n",
    "df_other_days.head(2)\n",
    "df_other_days['age'].value_counts(normalize=True)"
   ]
  },
  {
   "cell_type": "code",
   "execution_count": null,
   "metadata": {},
   "outputs": [],
   "source": [
    "N=4\n",
    "\n",
    "Thirty_Days_Plus = df_thirty['age'].value_counts(normalize=True)\n",
    "Other_Days = df_other_days['age'].value_counts(normalize=True)\n",
    "\n",
    "width=0.35\n",
    "ind = np.arange(N) \n"
   ]
  },
  {
   "cell_type": "code",
   "execution_count": null,
   "metadata": {},
   "outputs": [],
   "source": [
    "N = 4\n",
    "\n",
    "# Data on X-axis\n",
    "\n",
    "# Specify the values of blue bars (height)\n",
    "Other_Days = df_other_days['age'].value_counts(normalize=True)*100\n",
    "# Specify the values of orange bars (height)\n",
    "Thirty_Days_Plus = df_thirty['age'].value_counts(normalize=True)*100\n",
    "\n",
    "# Position of bars on x-axis\n",
    "ind = np.arange(N)\n",
    "\n",
    "# Figure size\n",
    "plt.figure(figsize=(10,5))\n",
    "\n",
    "# Width of a bar \n",
    "width = 0.3       \n",
    "\n",
    "# Plotting\n",
    "plt.bar(ind, Other_Days , width, label='Less Than Thirty Days')\n",
    "plt.bar(ind + width, Thirty_Days_Plus, width, label='Thirty Days Plus')\n",
    "\n",
    "plt.xlabel('Age')\n",
    "plt.ylabel('Percentage Of Cats')\n",
    "plt.title('Age Comparison')\n",
    "\n",
    "# xticks()\n",
    "# First argument - A list of positions at which ticks should be placed\n",
    "# Second argument -  A list of labels to place at the given locations\n",
    "plt.xticks(ind + width / 2, ('Kitten', 'Young', 'Adult', 'Senior'))\n",
    "\n",
    "# Finding the best position for legends and putting it\n",
    "plt.legend(loc='best')\n",
    "plt.show()"
   ]
  },
  {
   "cell_type": "code",
   "execution_count": null,
   "metadata": {},
   "outputs": [],
   "source": [
    "df_other_days['color'].value_counts(normalize=True)"
   ]
  },
  {
   "cell_type": "code",
   "execution_count": null,
   "metadata": {},
   "outputs": [],
   "source": []
  },
  {
   "cell_type": "code",
   "execution_count": null,
   "metadata": {},
   "outputs": [],
   "source": [
    "rescue_groups_other = list(df_other_days['rescue_group'].unique())\n",
    "#type(df_other_days['rescue_group'].unique())\n",
    "df_other_rescue = pd.DataFrame({'rescue_group':rescue_groups_other})\n",
    "df_other_rescue"
   ]
  },
  {
   "cell_type": "code",
   "execution_count": null,
   "metadata": {},
   "outputs": [],
   "source": [
    "df_all.groupby(['rescue_group'])['unique_cat_id'].nunique()"
   ]
  },
  {
   "cell_type": "code",
   "execution_count": null,
   "metadata": {},
   "outputs": [],
   "source": [
    "df_days = pd.read_csv(r'C:\\Users\\dgarb\\OneDrive\\Documents\\Data Science Bootcamp April\\Python\\web_scraping_project\\data prepared for analysis\\out_days_petfinder_combined.csv')\n",
    "\n",
    "df_days.head(2) "
   ]
  },
  {
   "cell_type": "code",
   "execution_count": null,
   "metadata": {},
   "outputs": [],
   "source": [
    "\n",
    "df_spec_needs = pd.read_csv(r'C:\\Users\\dgarb\\OneDrive\\Documents\\Data Science Bootcamp April\\Python\\web_scraping_project\\data prepared for analysis\\out_spec_needs_combined.csv')\n",
    "df_spec_needs.head(2)"
   ]
  },
  {
   "cell_type": "code",
   "execution_count": null,
   "metadata": {},
   "outputs": [],
   "source": [
    "df_spec_needs = pd.read_csv(r'C:\\Users\\dgarb\\OneDrive\\Documents\\Data Science Bootcamp April\\Python\\web_scraping_project\\data prepared for analysis\\out_spec_needs_combined.csv')"
   ]
  }
 ],
 "metadata": {
  "kernelspec": {
   "display_name": "Python 3",
   "language": "python",
   "name": "python3"
  },
  "language_info": {
   "codemirror_mode": {
    "name": "ipython",
    "version": 3
   },
   "file_extension": ".py",
   "mimetype": "text/x-python",
   "name": "python",
   "nbconvert_exporter": "python",
   "pygments_lexer": "ipython3",
   "version": "3.8.5"
  }
 },
 "nbformat": 4,
 "nbformat_minor": 4
}
