{
 "cells": [
  {
   "cell_type": "code",
   "execution_count": 3,
   "metadata": {},
   "outputs": [],
   "source": [
    "%matplotlib inline \n",
    "import pandas as pd\n",
    "import numpy as np\n",
    "from matplotlib import pyplot as plt\n",
    "import seaborn as sns"
   ]
  },
  {
   "cell_type": "code",
   "execution_count": 143,
   "metadata": {},
   "outputs": [
    {
     "name": "stdout",
     "output_type": "stream",
     "text": [
      "df_comp.shape  (1780, 33)\n",
      " \n",
      "<class 'pandas.core.frame.DataFrame'>\n",
      "RangeIndex: 1780 entries, 0 to 1779\n",
      "Data columns (total 33 columns):\n",
      " #   Column                       Non-Null Count  Dtype  \n",
      "---  ------                       --------------  -----  \n",
      " 0   Unnamed: 0                   1780 non-null   int64  \n",
      " 1   cat_name                     1780 non-null   object \n",
      " 2   num_images                   1780 non-null   int64  \n",
      " 3   num_videos                   1780 non-null   int64  \n",
      " 4   age                          1780 non-null   object \n",
      " 5   breed                        1780 non-null   object \n",
      " 6   color                        1780 non-null   object \n",
      " 7   sex                          1780 non-null   object \n",
      " 8   characteristics              1780 non-null   object \n",
      " 9   good_in_a_home_with          1780 non-null   object \n",
      " 10  adoption_fee                 272 non-null    object \n",
      " 11  prefers_a_home_without       1780 non-null   object \n",
      " 12  coat_length                  1219 non-null   object \n",
      " 13  pet_story_num_words          1780 non-null   float64\n",
      " 14  rescue_group                 1780 non-null   object \n",
      " 15  data_set                     1780 non-null   object \n",
      " 16  cat_id                       1780 non-null   object \n",
      " 17  thirty_days                  1780 non-null   bool   \n",
      " 18  without_story                1780 non-null   bool   \n",
      " 19  coat_length_miss             1780 non-null   object \n",
      " 20  color_miss                   1780 non-null   object \n",
      " 21  more_than_1_cat              1780 non-null   bool   \n",
      " 22  video                        1780 non-null   bool   \n",
      " 23  num_pictures                 1780 non-null   int64  \n",
      " 24  pictures                     1780 non-null   bool   \n",
      " 25  breed_type                   1780 non-null   object \n",
      " 26  Days_On_Site                 1780 non-null   object \n",
      " 27  is_dupe                      1780 non-null   bool   \n",
      " 28  color_bool                   1780 non-null   bool   \n",
      " 29  pet_narrative                1780 non-null   bool   \n",
      " 30  good_in_a_home_with_bool     1780 non-null   bool   \n",
      " 31  prefers_a_home_without_bool  1780 non-null   bool   \n",
      " 32  characteristics_bool         1780 non-null   bool   \n",
      "dtypes: bool(11), float64(1), int64(4), object(17)\n",
      "memory usage: 325.2+ KB\n"
     ]
    }
   ],
   "source": [
    "df_comp =pd.read_csv(r'C:\\Users\\dgarb\\OneDrive\\Documents\\Data Science Bootcamp April\\Python\\web_scraping_project\\data prepared for analysis\\cleaned data\\df_deduped.csv')\n",
    "print('df_comp.shape ',df_comp.shape)\n",
    "print(' ')\n",
    "df_comp.info()"
   ]
  },
  {
   "cell_type": "code",
   "execution_count": 32,
   "metadata": {},
   "outputs": [],
   "source": [
    "def proc_freq(df,variable_):  #Note variable_ must be given in quotes example: variable_ = 'xyz'\n",
    "    datax = df[variable_].value_counts().sort_index()\n",
    "    \n",
    "    datay = pd.DataFrame({\n",
    "        variable_: datax.index,\n",
    "        'Frequency': datax.values,\n",
    "        'Percent': ((datax.values/datax.values.sum())*100).round(2),\n",
    "        'Cumulative_Frequency': datax.values.cumsum(),\n",
    "        'Cumulative_Percent': ((datax.values.cumsum()/datax.values.sum())*100).round(2)   })\n",
    "    \n",
    "    #datay.set_index(variable_)\n",
    "    #return(datay.set_index(variable_))\n",
    "    return(datay)"
   ]
  },
  {
   "cell_type": "markdown",
   "metadata": {},
   "source": [
    "\"Less Than Thirty Days\""
   ]
  },
  {
   "cell_type": "code",
   "execution_count": 164,
   "metadata": {},
   "outputs": [
    {
     "name": "stdout",
     "output_type": "stream",
     "text": [
      "df_means_1       Video   Picture  Pet_Narrative     Color  Good_In_A_Home_With  \\\n",
      "0  0.090141  0.715493       0.943662  0.895775             0.707042   \n",
      "\n",
      "   Prefers_A_Home_Without  Characteristics  More_Than_One_Cat  \n",
      "0                0.092958         0.670423           0.138028  \n"
     ]
    },
    {
     "data": {
      "text/html": [
       "<div>\n",
       "<style scoped>\n",
       "    .dataframe tbody tr th:only-of-type {\n",
       "        vertical-align: middle;\n",
       "    }\n",
       "\n",
       "    .dataframe tbody tr th {\n",
       "        vertical-align: top;\n",
       "    }\n",
       "\n",
       "    .dataframe thead th {\n",
       "        text-align: right;\n",
       "    }\n",
       "</style>\n",
       "<table border=\"1\" class=\"dataframe\">\n",
       "  <thead>\n",
       "    <tr style=\"text-align: right;\">\n",
       "      <th></th>\n",
       "      <th>Pet_Information</th>\n",
       "      <th>Percent</th>\n",
       "      <th>Days_On_Site</th>\n",
       "    </tr>\n",
       "  </thead>\n",
       "  <tbody>\n",
       "    <tr>\n",
       "      <th>0</th>\n",
       "      <td>Video</td>\n",
       "      <td>0.090141</td>\n",
       "      <td>Less Than Thirty Days</td>\n",
       "    </tr>\n",
       "    <tr>\n",
       "      <th>1</th>\n",
       "      <td>Picture</td>\n",
       "      <td>0.715493</td>\n",
       "      <td>Less Than Thirty Days</td>\n",
       "    </tr>\n",
       "    <tr>\n",
       "      <th>2</th>\n",
       "      <td>Pet_Narrative</td>\n",
       "      <td>0.943662</td>\n",
       "      <td>Less Than Thirty Days</td>\n",
       "    </tr>\n",
       "    <tr>\n",
       "      <th>3</th>\n",
       "      <td>Color</td>\n",
       "      <td>0.895775</td>\n",
       "      <td>Less Than Thirty Days</td>\n",
       "    </tr>\n",
       "    <tr>\n",
       "      <th>4</th>\n",
       "      <td>Good_In_A_Home_With</td>\n",
       "      <td>0.707042</td>\n",
       "      <td>Less Than Thirty Days</td>\n",
       "    </tr>\n",
       "    <tr>\n",
       "      <th>5</th>\n",
       "      <td>Prefers_A_Home_Without</td>\n",
       "      <td>0.092958</td>\n",
       "      <td>Less Than Thirty Days</td>\n",
       "    </tr>\n",
       "    <tr>\n",
       "      <th>6</th>\n",
       "      <td>Characteristics</td>\n",
       "      <td>0.670423</td>\n",
       "      <td>Less Than Thirty Days</td>\n",
       "    </tr>\n",
       "    <tr>\n",
       "      <th>7</th>\n",
       "      <td>More_Than_One_Cat</td>\n",
       "      <td>0.138028</td>\n",
       "      <td>Less Than Thirty Days</td>\n",
       "    </tr>\n",
       "  </tbody>\n",
       "</table>\n",
       "</div>"
      ],
      "text/plain": [
       "          Pet_Information   Percent           Days_On_Site\n",
       "0                   Video  0.090141  Less Than Thirty Days\n",
       "1                 Picture  0.715493  Less Than Thirty Days\n",
       "2           Pet_Narrative  0.943662  Less Than Thirty Days\n",
       "3                   Color  0.895775  Less Than Thirty Days\n",
       "4     Good_In_A_Home_With  0.707042  Less Than Thirty Days\n",
       "5  Prefers_A_Home_Without  0.092958  Less Than Thirty Days\n",
       "6         Characteristics  0.670423  Less Than Thirty Days\n",
       "7       More_Than_One_Cat  0.138028  Less Than Thirty Days"
      ]
     },
     "execution_count": 164,
     "metadata": {},
     "output_type": "execute_result"
    }
   ],
   "source": [
    "#Create dataframe for Less Than Thirty Days \n",
    "\n",
    "df_less_than_30 = df_comp.loc[df_comp['thirty_days']==False]\n",
    "\n",
    "video = df_less_than_30['video'].mean()\n",
    "\n",
    "pictures = df_less_than_30['pictures'].mean()\n",
    "\n",
    "dict1={'Video': [video],\n",
    "       'Picture': [pictures]}\n",
    "\n",
    "df_means_1 = pd.DataFrame(dict1)\n",
    "\n",
    "#add to dataframe\n",
    "\n",
    "df_means_1['Pet_Narrative'] = df_less_than_30['pet_narrative__'].mean()\n",
    "\n",
    "df_means_1['Color'] = df_less_than_30['color_bool'].mean()\n",
    "\n",
    "df_means_1['Good_In_A_Home_With'] = df_less_than_30['good_in_a_home_with_bool'].mean()\n",
    "\n",
    "df_means_1['Prefers_A_Home_Without'] = df_less_than_30['prefers_a_home_without_bool'].mean()\n",
    "\n",
    "df_means_1['Characteristics'] = df_less_than_30['characteristics__'].mean()\n",
    "\n",
    "df_means_1['More_Than_One_Cat'] = df_less_than_30['more_than_1_cat'].mean()\n",
    "\n",
    "#df_means_1['Days_On_Site'] = \"Less Than Thirty Days\"\n",
    "\n",
    "print('df_means_1',df_means_1)\n",
    "\n",
    "#Transpose the data frame\n",
    "\n",
    "df_col_1 = df_means_1.transpose().reset_index()\n",
    "\n",
    "df_col_1.columns = ['Pet_Information','Percent']\n",
    "\n",
    "df_col_1['Days_On_Site'] = 'Less Than Thirty Days'\n",
    "\n",
    "type(df_col_1)\n",
    "df_col_1\n",
    "\n"
   ]
  },
  {
   "cell_type": "code",
   "execution_count": null,
   "metadata": {},
   "outputs": [],
   "source": []
  },
  {
   "cell_type": "markdown",
   "metadata": {},
   "source": [
    "'Thirty Days Plus'"
   ]
  },
  {
   "cell_type": "code",
   "execution_count": 162,
   "metadata": {},
   "outputs": [
    {
     "name": "stdout",
     "output_type": "stream",
     "text": [
      "df_means_2      Video   Picture  Pet_Narrative     Color  Good_In_A_Home_With  \\\n",
      "0  0.09193  0.812632        0.98386  0.834386             0.591579   \n",
      "\n",
      "   Prefers_A_Home_Without  Characteristics  More_Than_One_Cat  \n",
      "0                0.160702         0.282105           0.086316  \n"
     ]
    },
    {
     "data": {
      "text/html": [
       "<div>\n",
       "<style scoped>\n",
       "    .dataframe tbody tr th:only-of-type {\n",
       "        vertical-align: middle;\n",
       "    }\n",
       "\n",
       "    .dataframe tbody tr th {\n",
       "        vertical-align: top;\n",
       "    }\n",
       "\n",
       "    .dataframe thead th {\n",
       "        text-align: right;\n",
       "    }\n",
       "</style>\n",
       "<table border=\"1\" class=\"dataframe\">\n",
       "  <thead>\n",
       "    <tr style=\"text-align: right;\">\n",
       "      <th></th>\n",
       "      <th>index</th>\n",
       "      <th>0</th>\n",
       "    </tr>\n",
       "  </thead>\n",
       "  <tbody>\n",
       "    <tr>\n",
       "      <th>0</th>\n",
       "      <td>Video</td>\n",
       "      <td>0.091930</td>\n",
       "    </tr>\n",
       "    <tr>\n",
       "      <th>1</th>\n",
       "      <td>Picture</td>\n",
       "      <td>0.812632</td>\n",
       "    </tr>\n",
       "    <tr>\n",
       "      <th>2</th>\n",
       "      <td>Pet_Narrative</td>\n",
       "      <td>0.983860</td>\n",
       "    </tr>\n",
       "    <tr>\n",
       "      <th>3</th>\n",
       "      <td>Color</td>\n",
       "      <td>0.834386</td>\n",
       "    </tr>\n",
       "    <tr>\n",
       "      <th>4</th>\n",
       "      <td>Good_In_A_Home_With</td>\n",
       "      <td>0.591579</td>\n",
       "    </tr>\n",
       "    <tr>\n",
       "      <th>5</th>\n",
       "      <td>Prefers_A_Home_Without</td>\n",
       "      <td>0.160702</td>\n",
       "    </tr>\n",
       "    <tr>\n",
       "      <th>6</th>\n",
       "      <td>Characteristics</td>\n",
       "      <td>0.282105</td>\n",
       "    </tr>\n",
       "    <tr>\n",
       "      <th>7</th>\n",
       "      <td>More_Than_One_Cat</td>\n",
       "      <td>0.086316</td>\n",
       "    </tr>\n",
       "  </tbody>\n",
       "</table>\n",
       "</div>"
      ],
      "text/plain": [
       "                    index         0\n",
       "0                   Video  0.091930\n",
       "1                 Picture  0.812632\n",
       "2           Pet_Narrative  0.983860\n",
       "3                   Color  0.834386\n",
       "4     Good_In_A_Home_With  0.591579\n",
       "5  Prefers_A_Home_Without  0.160702\n",
       "6         Characteristics  0.282105\n",
       "7       More_Than_One_Cat  0.086316"
      ]
     },
     "execution_count": 162,
     "metadata": {},
     "output_type": "execute_result"
    }
   ],
   "source": [
    "#Create dataframe for Thirty Days Plus\n",
    "\n",
    "df_30_days_plus = df_comp.loc[df_comp['thirty_days']==True]\n",
    "\n",
    "video = df_30_days_plus['video'].mean()\n",
    "\n",
    "pictures = df_30_days_plus['pictures'].mean()\n",
    "\n",
    "dict1={'Video': [video],\n",
    "       'Picture': [pictures]}\n",
    "\n",
    "df_means_2 = pd.DataFrame(dict1)\n",
    "\n",
    "#add to dataframe\n",
    "\n",
    "df_means_2['Pet_Narrative'] = df_30_days_plus['pet_narrative__'].mean()\n",
    "\n",
    "df_means_2['Color'] = df_30_days_plus['color_bool'].mean()\n",
    "\n",
    "df_means_2['Good_In_A_Home_With'] = df_30_days_plus['good_in_a_home_with_bool'].mean()\n",
    "\n",
    "df_means_2['Prefers_A_Home_Without'] = df_30_days_plus['prefers_a_home_without_bool'].mean()\n",
    "\n",
    "df_means_2['Characteristics'] = df_30_days_plus['characteristics__'].mean()\n",
    "\n",
    "df_means_2['More_Than_One_Cat'] = df_30_days_plus['more_than_1_cat'].mean()\n",
    "\n",
    "#df_means_2['Days_On_Site'] = 'Thirty Days Plus'\n",
    "\n",
    "print('df_means_2',df_means_2)\n",
    "\n",
    "#Transpose the data frame\n",
    "\n",
    "df_col_2 = df_means_2.transpose().reset_index()\n",
    "\n",
    "df_col_2.columns = ['Pet_Information','Percent']\n",
    "\n",
    "df_col2['Days_On_Site'] = 'Thirty Days Plus'\n",
    "\n",
    "type(df_col_2)\n",
    "df_col_2\n",
    "\n"
   ]
  },
  {
   "cell_type": "code",
   "execution_count": 152,
   "metadata": {},
   "outputs": [
    {
     "name": "stdout",
     "output_type": "stream",
     "text": [
      "<class 'pandas.core.frame.DataFrame'>\n",
      "RangeIndex: 8 entries, 0 to 7\n",
      "Data columns (total 2 columns):\n",
      " #   Column           Non-Null Count  Dtype  \n",
      "---  ------           --------------  -----  \n",
      " 0   Pet_Information  8 non-null      object \n",
      " 1   Percent          8 non-null      float64\n",
      "dtypes: float64(1), object(1)\n",
      "memory usage: 256.0+ bytes\n"
     ]
    }
   ],
   "source": [
    "df_col.columns = ['Pet_Information','Percent']\n",
    "\n",
    "#df_col['Percent'] = df_col['Percent'].astype(float)\n",
    "df_col['Percent'] = pd.to_numeric(df_col['Percent'], errors='coerce')\n",
    "df_col['Percent'] = df_col['Percent'] * 100\n",
    "df_col.info()"
   ]
  },
  {
   "cell_type": "code",
   "execution_count": null,
   "metadata": {},
   "outputs": [],
   "source": []
  },
  {
   "cell_type": "code",
   "execution_count": 153,
   "metadata": {},
   "outputs": [
    {
     "data": {
      "text/plain": [
       "False    1140\n",
       "True      640\n",
       "Name: characteristics_bool, dtype: int64"
      ]
     },
     "execution_count": 153,
     "metadata": {},
     "output_type": "execute_result"
    }
   ],
   "source": [
    "df_comp['characteristics_bool'].value_counts() # 1226 + 794 = 2020"
   ]
  },
  {
   "cell_type": "code",
   "execution_count": 154,
   "metadata": {},
   "outputs": [],
   "source": [
    "#dfg = df_col.loc[df_col['Pet_Information'] != \"Characteristics\",:]\n",
    "dfg = dfg.sort_values(by=['Percent'],ascending=False)"
   ]
  },
  {
   "cell_type": "code",
   "execution_count": 155,
   "metadata": {},
   "outputs": [
    {
     "data": {
      "text/plain": [
       "<Figure size 1080x576 with 0 Axes>"
      ]
     },
     "execution_count": 155,
     "metadata": {},
     "output_type": "execute_result"
    },
    {
     "data": {
      "image/png": "[encoded data removed]",
      "text/plain": [
       "<Figure size 1080x576 with 1 Axes>"
      ]
     },
     "metadata": {},
     "output_type": "display_data"
    },
    {
     "data": {
      "text/plain": [
       "<Figure size 1080x576 with 0 Axes>"
      ]
     },
     "metadata": {},
     "output_type": "display_data"
    }
   ],
   "source": [
    "# '    0 0\n",
    "dfg = df_col.sort_values(by=['Percent'],ascending=False)\n",
    "#set font size \n",
    "sns.set(font_scale=1.5)\n",
    "plt.rcParams.update({'font.size': 22})\n",
    "\n",
    "\n",
    "#set size\n",
    "plt.figure(figsize = (15,8))\n",
    "sns.set(rc = {'figure.figsize':(15,8)})\n",
    "plt.savefig('Boolean Bar Graph.png', dpi=300)\n",
    "\n",
    "sns.set_style('darkgrid')\n",
    "#color_order=['Kitten','Young','Adult','Senior']\n",
    " \n",
    "chart = sns.barplot(x='Percent', y='Pet_Information', data = dfg, ci=False,  color='skyblue') #order=color_order,\n",
    "\n",
    "chart.set(xlabel=\"Percentage of Cats Listed\", ylabel = 'Cat Information')\n",
    "\n",
    "plt.xlabel(\"Percent Of Cats With Information\", fontsize = 17)\n",
    "\n",
    "plt.ylabel('Information', fontsize = 17)\n",
    "plt.ylabel('')\n",
    "\n",
    "chart.set_title('Cat Information Provided', fontsize = 17)\n",
    "plt.figure(figsize = (15,8))"
   ]
  },
  {
   "cell_type": "code",
   "execution_count": 43,
   "metadata": {},
   "outputs": [
    {
     "name": "stdout",
     "output_type": "stream",
     "text": [
      "  pet_narrative  Frequency  Percent  Cumulative_Frequency  Cumulative_Percent\n",
      "0         False         53     2.62                    53                2.62\n",
      "1          True       1967    97.38                  2020              100.00\n",
      "\n",
      "\n",
      "  without_story  Frequency  Percent  Cumulative_Frequency  Cumulative_Percent\n",
      "0         False       1967    97.38                  1967               97.38\n",
      "1          True         53     2.62                  2020              100.00\n"
     ]
    }
   ],
   "source": [
    "#df_means.describe()\n",
    "print(proc_freq(df_comp,'pet_narrative'))\n",
    "print( )\n",
    "#print(proc_freq(df_comp,'Characteristics_bool'))\n",
    "print( )\n",
    "print(proc_freq(df_comp,'without_story'))"
   ]
  },
  {
   "cell_type": "code",
   "execution_count": 41,
   "metadata": {},
   "outputs": [
    {
     "data": {
      "text/plain": [
       "False    1226\n",
       "True      794\n",
       "Name: characteristics_bool, dtype: int64"
      ]
     },
     "execution_count": 41,
     "metadata": {},
     "output_type": "execute_result"
    }
   ],
   "source": [
    "df_comp['characteristics_bool'].value_counts()"
   ]
  },
  {
   "cell_type": "code",
   "execution_count": 45,
   "metadata": {},
   "outputs": [
    {
     "data": {
      "text/plain": [
       "characteristics_bool    0\n",
       "pet_narrative           0\n",
       "dtype: int64"
      ]
     },
     "execution_count": 45,
     "metadata": {},
     "output_type": "execute_result"
    }
   ],
   "source": [
    "df_temp = df_comp.loc[:,['characteristics_bool', 'pet_narrative',]]\n",
    "np.sum(df_temp.isnull(),axis=0)\n",
    "#np.sum(df_miss.isnull(), axis=1) "
   ]
  },
  {
   "cell_type": "code",
   "execution_count": null,
   "metadata": {},
   "outputs": [],
   "source": [
    "df_comp['without_story']\n",
    "df_comp['color_bool']\n",
    "#df_comp['more_than_1_cat']\n",
    "df_comp['pet_narrative']\n",
    "df_comp['good_in_a_home_with_bool']\n",
    "df_comp['prefers_a_home_without_bool']\n",
    "df_comp['characteristics_bool']"
   ]
  },
  {
   "cell_type": "code",
   "execution_count": 46,
   "metadata": {},
   "outputs": [
    {
     "data": {
      "text/plain": [
       "2020"
      ]
     },
     "execution_count": 46,
     "metadata": {},
     "output_type": "execute_result"
    }
   ],
   "source": [
    "LL = [1 if x == True else 0 for x in df_comp['characteristics_bool']]\n",
    "len(LL)\n",
    "#['yes' if v == 1 else 'no' if v == 2 else 'idle' for v in l]\n"
   ]
  },
  {
   "cell_type": "code",
   "execution_count": 28,
   "metadata": {},
   "outputs": [],
   "source": [
    "df = df_comp.loc[(df_comp['pet_story_num_words']!=0),['pet_story_num_words','cat_name']]  "
   ]
  },
  {
   "cell_type": "code",
   "execution_count": 30,
   "metadata": {},
   "outputs": [
    {
     "name": "stdout",
     "output_type": "stream",
     "text": [
      "median:  105.0\n",
      "mean:  125.89984748347737\n"
     ]
    },
    {
     "data": {
      "text/plain": [
       "Text(0.5, 1.0, 'Number Of Words In Pet Narrative')"
      ]
     },
     "execution_count": 30,
     "metadata": {},
     "output_type": "execute_result"
    },
    {
     "data": {
      "image/png": "[encoded data removed]",
      "text/plain": [
       "<Figure size 1080x576 with 1 Axes>"
      ]
     },
     "metadata": {},
     "output_type": "display_data"
    }
   ],
   "source": [
    "median = df['pet_story_num_words'].median()\n",
    "mean = df['pet_story_num_words'].mean()\n",
    "print('median: ',median)\n",
    "print('mean: ',mean)\n",
    "# for i in range(len(medians)):\n",
    "#     box.annotate(str(medians[i]), xy=(i,medians[i],horizontalalignment = 'center')\n",
    "\n",
    "sns.set(rc = {'figure.figsize':(15,8)})\n",
    "box = sns.boxplot(y='pet_story_num_words', data=df, color='skyblue')\n",
    "\n",
    "#box.annotate(str(median), horizontalalignment = 'center',fontsize=20);\n",
    "\n",
    "#box.set(xlabel=\"Days On Site\", ylabel = \"Percent Of 100\")\n",
    "\n",
    "#box.set_xlabel(\"Days On Site\",fontsize=15)\n",
    "box.set_ylabel(\"Number of Words\",fontsize=15)\n",
    "                 \n",
    "#hue=\"smoker\", palette=[\"m\", \"g\"],\n",
    "#sns.despine(offset=10,trim=False)\n",
    "#sns.despine()\n",
    "box.set_title('Number Of Words In Pet Narrative',fontsize=20)\n"
   ]
  }
 ],
 "metadata": {
  "kernelspec": {
   "display_name": "Python 3",
   "language": "python",
   "name": "python3"
  },
  "language_info": {
   "codemirror_mode": {
    "name": "ipython",
    "version": 3
   },
   "file_extension": ".py",
   "mimetype": "text/x-python",
   "name": "python",
   "nbconvert_exporter": "python",
   "pygments_lexer": "ipython3",
   "version": "3.8.5"
  }
 },
 "nbformat": 4,
 "nbformat_minor": 4
}
